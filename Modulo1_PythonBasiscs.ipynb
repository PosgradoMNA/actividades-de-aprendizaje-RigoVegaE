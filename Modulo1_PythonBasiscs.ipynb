{
  "nbformat": 4,
  "nbformat_minor": 0,
  "metadata": {
    "colab": {
      "provenance": [],
      "collapsed_sections": [],
      "authorship_tag": "ABX9TyMzbvvCOZAwhTj2izPQaas3",
      "include_colab_link": true
    },
    "kernelspec": {
      "name": "python3",
      "display_name": "Python 3"
    },
    "language_info": {
      "name": "python"
    }
  },
  "cells": [
    {
      "cell_type": "markdown",
      "metadata": {
        "id": "view-in-github",
        "colab_type": "text"
      },
      "source": [
        "<a href=\"https://colab.research.google.com/github/PosgradoMNA/actividades-de-aprendizaje-RigobertoVega/blob/main/Modulo1_PythonBasiscs.ipynb\" target=\"_parent\"><img src=\"https://colab.research.google.com/assets/colab-badge.svg\" alt=\"Open In Colab\"/></a>"
      ]
    },
    {
      "cell_type": "code",
      "execution_count": null,
      "metadata": {
        "colab": {
          "base_uri": "https://localhost:8080/"
        },
        "id": "5BJLBuXGUXex",
        "outputId": "0a1d15bc-4b9f-4078-f96d-0e2685df8737"
      },
      "outputs": [
        {
          "output_type": "stream",
          "name": "stdout",
          "text": [
            "l\n"
          ]
        }
      ],
      "source": [
        "print(\"l\")"
      ]
    },
    {
      "cell_type": "code",
      "source": [
        "print(\"Hello Python 101\") #Uses to print "
      ],
      "metadata": {
        "colab": {
          "base_uri": "https://localhost:8080/"
        },
        "id": "Brow3-Hw-NLj",
        "outputId": "7c5ba5f7-8409-4172-928e-7af01ae43f5c"
      },
      "execution_count": null,
      "outputs": [
        {
          "output_type": "stream",
          "name": "stdout",
          "text": [
            "Hello Python 101\n"
          ]
        }
      ]
    },
    {
      "cell_type": "code",
      "source": [
        "frint(\"Hello Python 101\") #Error due frint is not defined"
      ],
      "metadata": {
        "colab": {
          "base_uri": "https://localhost:8080/",
          "height": 165
        },
        "id": "jq3iYp0L-XDs",
        "outputId": "a8afdcab-530f-4690-b2b3-355bbbd32509"
      },
      "execution_count": null,
      "outputs": [
        {
          "output_type": "error",
          "ename": "NameError",
          "evalue": "ignored",
          "traceback": [
            "\u001b[0;31m---------------------------------------------------------------------------\u001b[0m",
            "\u001b[0;31mNameError\u001b[0m                                 Traceback (most recent call last)",
            "\u001b[0;32m<ipython-input-4-40f7ab565d10>\u001b[0m in \u001b[0;36m<module>\u001b[0;34m\u001b[0m\n\u001b[0;32m----> 1\u001b[0;31m \u001b[0mfrint\u001b[0m\u001b[0;34m(\u001b[0m\u001b[0;34m\"Hello Python 101\"\u001b[0m\u001b[0;34m)\u001b[0m \u001b[0;31m#Error due frint is not defined\u001b[0m\u001b[0;34m\u001b[0m\u001b[0;34m\u001b[0m\u001b[0m\n\u001b[0m",
            "\u001b[0;31mNameError\u001b[0m: name 'frint' is not defined"
          ]
        }
      ]
    },
    {
      "cell_type": "code",
      "source": [
        "type(11) #integer\n",
        "type(21.213) # float and real numbers\n",
        "type(\"Hello Python 101\") #string\n",
        "float(2) #converts it to 2.0\n",
        "int(1.1) #just takes the integer 1\n",
        "int('1') #copy the string number 1\n",
        "int('a') #Error due a is not a number"
      ],
      "metadata": {
        "colab": {
          "base_uri": "https://localhost:8080/",
          "height": 200
        },
        "id": "SI7rNQYS-iA7",
        "outputId": "687901e9-6801-45fb-c435-9fc69f9e9895"
      },
      "execution_count": null,
      "outputs": [
        {
          "output_type": "error",
          "ename": "ValueError",
          "evalue": "ignored",
          "traceback": [
            "\u001b[0;31m---------------------------------------------------------------------------\u001b[0m",
            "\u001b[0;31mValueError\u001b[0m                                Traceback (most recent call last)",
            "\u001b[0;32m<ipython-input-7-11ca3472944b>\u001b[0m in \u001b[0;36m<module>\u001b[0;34m\u001b[0m\n\u001b[1;32m      5\u001b[0m \u001b[0mint\u001b[0m\u001b[0;34m(\u001b[0m\u001b[0;36m1.1\u001b[0m\u001b[0;34m)\u001b[0m \u001b[0;31m#just takes the integer 1\u001b[0m\u001b[0;34m\u001b[0m\u001b[0;34m\u001b[0m\u001b[0m\n\u001b[1;32m      6\u001b[0m \u001b[0mint\u001b[0m\u001b[0;34m(\u001b[0m\u001b[0;34m'1'\u001b[0m\u001b[0;34m)\u001b[0m \u001b[0;31m#copy the string number 1\u001b[0m\u001b[0;34m\u001b[0m\u001b[0;34m\u001b[0m\u001b[0m\n\u001b[0;32m----> 7\u001b[0;31m \u001b[0mint\u001b[0m\u001b[0;34m(\u001b[0m\u001b[0;34m'a'\u001b[0m\u001b[0;34m)\u001b[0m \u001b[0;31m#Error due a is not a number\u001b[0m\u001b[0;34m\u001b[0m\u001b[0;34m\u001b[0m\u001b[0m\n\u001b[0m",
            "\u001b[0;31mValueError\u001b[0m: invalid literal for int() with base 10: 'a'"
          ]
        }
      ]
    },
    {
      "cell_type": "code",
      "source": [
        "#boolean can just have True \"1\" or false \"0\""
      ],
      "metadata": {
        "id": "6GYKTxSwAQJT"
      },
      "execution_count": null,
      "outputs": []
    },
    {
      "cell_type": "code",
      "source": [
        "#Expressisons are operations that python perfomrs, for example 43 + 56 + 21 + 26, this are referenced to the plus simbol which are called operandors \n"
      ],
      "metadata": {
        "id": "kYB_miVhAZEz"
      },
      "execution_count": null,
      "outputs": []
    },
    {
      "cell_type": "code",
      "source": [
        "#this expressions follow the mathematical rules like the paranthesis are first, then multiply and divions, etc."
      ],
      "metadata": {
        "id": "zPU_8-d9Asjg"
      },
      "execution_count": null,
      "outputs": []
    },
    {
      "cell_type": "code",
      "source": [
        "#Variables\n",
        "my_variable = 1 #this is used to asign a value to the variable"
      ],
      "metadata": {
        "id": "FVpyYJQgBGVQ"
      },
      "execution_count": null,
      "outputs": []
    },
    {
      "cell_type": "code",
      "source": [
        "print(my_variable)"
      ],
      "metadata": {
        "colab": {
          "base_uri": "https://localhost:8080/"
        },
        "id": "2WPwhTEkBNdA",
        "outputId": "383179dc-2d80-477e-a618-f03b3b7dab8f"
      },
      "execution_count": null,
      "outputs": [
        {
          "output_type": "stream",
          "name": "stdout",
          "text": [
            "1\n"
          ]
        }
      ]
    },
    {
      "cell_type": "code",
      "source": [
        "my_variable = my_variable * 60\n",
        "print(my_variable)\n",
        "#t's good practice to use meaningful variable names, so you don't have to keep track of"
      ],
      "metadata": {
        "colab": {
          "base_uri": "https://localhost:8080/"
        },
        "id": "Im_5foY2BQf7",
        "outputId": "ecd0af9a-59e4-4480-d6a2-260ef5696e8f"
      },
      "execution_count": null,
      "outputs": [
        {
          "output_type": "stream",
          "name": "stdout",
          "text": [
            "3600\n"
          ]
        }
      ]
    },
    {
      "cell_type": "code",
      "source": [
        "#also can use the the operation an variables together"
      ],
      "metadata": {
        "id": "NSFrWSeoBihf"
      },
      "execution_count": null,
      "outputs": []
    },
    {
      "cell_type": "code",
      "source": [
        "total_min = 43+65+56\n",
        "total_seconds = total_min/60\n",
        "print(total_min, \",\" ,total_seconds)"
      ],
      "metadata": {
        "colab": {
          "base_uri": "https://localhost:8080/"
        },
        "id": "sbbuuLKzBqLk",
        "outputId": "efb6f702-5f30-4f5b-f580-4aa776fa8798"
      },
      "execution_count": null,
      "outputs": [
        {
          "output_type": "stream",
          "name": "stdout",
          "text": [
            "164 , 2.7333333333333334\n"
          ]
        }
      ]
    },
    {
      "cell_type": "markdown",
      "source": [
        "String Operations\n",
        "String is a sequence of characters\n",
        "It is helpful to think of a string as and ordered squence. Each element in the sequence can be accessed using an index represneted by the array of numbers.\n"
      ],
      "metadata": {
        "id": "N5pGpmrLCs67"
      }
    },
    {
      "cell_type": "code",
      "source": [
        "Name = \"Michael Jackson\"\n",
        "print(Name[0], Name[6], Name[13]) #Name[0] = M Name[6] = l Name[13] = 0"
      ],
      "metadata": {
        "colab": {
          "base_uri": "https://localhost:8080/"
        },
        "id": "3Zu1TusfB0BD",
        "outputId": "631dbd2f-77ae-4e6a-a66a-459d8fecc139"
      },
      "execution_count": null,
      "outputs": [
        {
          "output_type": "stream",
          "name": "stdout",
          "text": [
            "M l o\n"
          ]
        }
      ]
    },
    {
      "cell_type": "code",
      "source": [
        "#you can use also negative index\n",
        "Name = \"Michael Jackson\"\n",
        "print(Name[-1], Name[-4], Name[-15]) #Name[-1] = n Name[-4] = k Name[-15] = M"
      ],
      "metadata": {
        "colab": {
          "base_uri": "https://localhost:8080/"
        },
        "id": "97dtlEIIDeXK",
        "outputId": "18a2f02f-4428-4518-bee1-08fe23338c62"
      },
      "execution_count": null,
      "outputs": [
        {
          "output_type": "stream",
          "name": "stdout",
          "text": [
            "n k M\n"
          ]
        }
      ]
    },
    {
      "cell_type": "code",
      "source": [
        "#you can use also slice the string, this would return the character starting on the before the first \":\" and one character before the second \":\"\n",
        "Name = \"Michael Jackson\"\n",
        "print(Name[0:4], Name[8:12]) #Name[0:4] = Mich Name[8:12] = Jack"
      ],
      "metadata": {
        "colab": {
          "base_uri": "https://localhost:8080/"
        },
        "id": "MF5c91nGDlXs",
        "outputId": "a13f3ce0-e7eb-433c-c5e4-0d380b732635"
      },
      "execution_count": null,
      "outputs": [
        {
          "output_type": "stream",
          "name": "stdout",
          "text": [
            "Mich Jack\n"
          ]
        }
      ]
    },
    {
      "cell_type": "markdown",
      "source": [
        "# Nueva sección"
      ],
      "metadata": {
        "id": "ocfKtzSLIIhT"
      }
    },
    {
      "cell_type": "code",
      "source": [
        "#you can use also stride the string\n",
        "Name = \"Michael Jackson\"\n",
        "print(Name[::2], Name[0:5:2]) #Name[::2] = McalJcsn, Name[0:5:2] = Mca"
      ],
      "metadata": {
        "colab": {
          "base_uri": "https://localhost:8080/"
        },
        "id": "0Iv7gC8CDkHq",
        "outputId": "26b5c226-d40c-4360-f445-f74ae89b313e"
      },
      "execution_count": null,
      "outputs": [
        {
          "output_type": "stream",
          "name": "stdout",
          "text": [
            "McalJcsn Mca\n"
          ]
        }
      ]
    },
    {
      "cell_type": "code",
      "source": [
        "#len comand to obtain the total characters\n",
        "len(Name)"
      ],
      "metadata": {
        "colab": {
          "base_uri": "https://localhost:8080/"
        },
        "id": "PNES0mz2EYgV",
        "outputId": "b21cc192-4569-4af4-f09d-328d7214683a"
      },
      "execution_count": null,
      "outputs": [
        {
          "output_type": "execute_result",
          "data": {
            "text/plain": [
              "15"
            ]
          },
          "metadata": {},
          "execution_count": 26
        }
      ]
    },
    {
      "cell_type": "code",
      "source": [
        "#You can use operatores to combine\n",
        "statment = Name + \" is the best\"\n",
        "print(statment)"
      ],
      "metadata": {
        "colab": {
          "base_uri": "https://localhost:8080/"
        },
        "id": "49iaMI-6ElaG",
        "outputId": "1e8954e7-00dc-4229-9814-309abc805de9"
      },
      "execution_count": null,
      "outputs": [
        {
          "output_type": "stream",
          "name": "stdout",
          "text": [
            "Michael Jackson is the best\n"
          ]
        }
      ]
    },
    {
      "cell_type": "code",
      "source": [
        "print(3 * Name) #replicate values of the string"
      ],
      "metadata": {
        "colab": {
          "base_uri": "https://localhost:8080/"
        },
        "id": "KRsgG8sJEva4",
        "outputId": "7beeeb3d-82ba-488b-ebbd-c7cef01a4f90"
      },
      "execution_count": null,
      "outputs": [
        {
          "output_type": "stream",
          "name": "stdout",
          "text": [
            "Michael JacksonMichael JacksonMichael Jackson\n"
          ]
        }
      ]
    },
    {
      "cell_type": "code",
      "source": [
        "#tou cannnot change the value fo the string, but you can add new characters, this mean they are unmutable"
      ],
      "metadata": {
        "id": "A903kR_jE3Mc"
      },
      "execution_count": null,
      "outputs": []
    },
    {
      "cell_type": "code",
      "source": [
        "#escape sequences\n",
        "print(Name + \"\\t is the best\") #the use of backslashed allow to use different sequence for make a more orden in your stirng"
      ],
      "metadata": {
        "colab": {
          "base_uri": "https://localhost:8080/"
        },
        "id": "jIgzxVCLFU7l",
        "outputId": "a83768da-8930-492e-9111-120916085f39"
      },
      "execution_count": null,
      "outputs": [
        {
          "output_type": "stream",
          "name": "stdout",
          "text": [
            "Michael Jackson\t is the best\n"
          ]
        }
      ]
    },
    {
      "cell_type": "code",
      "source": [
        "#method, this converts and string A into a total different string B\n",
        "A = \"b\"\n",
        "B = A.upper()\n",
        "print(B)"
      ],
      "metadata": {
        "colab": {
          "base_uri": "https://localhost:8080/"
        },
        "id": "AYlwuSwcFxEK",
        "outputId": "a7af8380-87a4-4428-c6da-7925d55e2c93"
      },
      "execution_count": null,
      "outputs": [
        {
          "output_type": "stream",
          "name": "stdout",
          "text": [
            "B\n"
          ]
        }
      ]
    },
    {
      "cell_type": "code",
      "source": [
        "#method find\n",
        "Name.find('el') #this would return the position where this string or character were found, in this case 5\n",
        "Name.find('Jack') # 8 in this case\n",
        "Name.find('rigo') # in this case -1 due this string is not on the original one"
      ],
      "metadata": {
        "colab": {
          "base_uri": "https://localhost:8080/"
        },
        "id": "jkDTQXxpFvnX",
        "outputId": "b8c66ae5-96f5-4b48-d1b5-f344d844a21e"
      },
      "execution_count": null,
      "outputs": [
        {
          "output_type": "execute_result",
          "data": {
            "text/plain": [
              "-1"
            ]
          },
          "metadata": {},
          "execution_count": 40
        }
      ]
    },
    {
      "cell_type": "code",
      "source": [
        "#Exercise 1\n",
        "print(\"Hello, word!\") #Print the traditional hello word"
      ],
      "metadata": {
        "id": "CK60qe54Freu",
        "colab": {
          "base_uri": "https://localhost:8080/"
        },
        "outputId": "2b4f499f-cf2b-459a-a77e-d2d88830eebc"
      },
      "execution_count": 2,
      "outputs": [
        {
          "output_type": "stream",
          "name": "stdout",
          "text": [
            "Hello, word!\n"
          ]
        }
      ]
    },
    {
      "cell_type": "code",
      "source": [
        "#Exercise 2\n",
        "type(6/2) #float\n",
        "type(6//2) #float"
      ],
      "metadata": {
        "colab": {
          "base_uri": "https://localhost:8080/"
        },
        "id": "5BMwoSwVPEPl",
        "outputId": "b688ff1a-95e6-4e25-ee1a-7ec2d766b1c3"
      },
      "execution_count": 4,
      "outputs": [
        {
          "output_type": "execute_result",
          "data": {
            "text/plain": [
              "int"
            ]
          },
          "metadata": {},
          "execution_count": 4
        }
      ]
    },
    {
      "cell_type": "code",
      "source": [
        "#Excersie 3\n",
        "hoursInMinutes = 160/60\n",
        "print(hoursInMinutes, \"hours in 160 minutes\")"
      ],
      "metadata": {
        "colab": {
          "base_uri": "https://localhost:8080/"
        },
        "id": "d7sqKxIyPkGA",
        "outputId": "b57e7bbf-952b-491d-e152-bf94d03008c3"
      },
      "execution_count": 5,
      "outputs": [
        {
          "output_type": "stream",
          "name": "stdout",
          "text": [
            "2.6666666666666665 hours in 160 minutes\n"
          ]
        }
      ]
    },
    {
      "cell_type": "code",
      "source": [
        "#Excercise 4\n",
        "x = 3 + 2 * 2 \n",
        "print(x) # 7\n",
        "y = (3 + 2) * 2\n",
        "print(y) #10\n",
        "z = x + y\n",
        "print(z) #17"
      ],
      "metadata": {
        "colab": {
          "base_uri": "https://localhost:8080/"
        },
        "id": "VkD0OtzUPqHs",
        "outputId": "7ac15a07-b0b2-464a-df7e-1e22a6924549"
      },
      "execution_count": 7,
      "outputs": [
        {
          "output_type": "stream",
          "name": "stdout",
          "text": [
            "7\n",
            "10\n"
          ]
        }
      ]
    }
  ]
}