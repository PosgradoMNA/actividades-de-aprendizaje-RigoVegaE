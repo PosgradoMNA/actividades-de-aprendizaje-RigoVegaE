{
  "nbformat": 4,
  "nbformat_minor": 0,
  "metadata": {
    "colab": {
      "provenance": [],
      "collapsed_sections": [],
      "authorship_tag": "ABX9TyNDYZ7jLm0lrzE4PbLeNqfA",
      "include_colab_link": true
    },
    "kernelspec": {
      "name": "python3",
      "display_name": "Python 3"
    },
    "language_info": {
      "name": "python"
    }
  },
  "cells": [
    {
      "cell_type": "markdown",
      "metadata": {
        "id": "view-in-github",
        "colab_type": "text"
      },
      "source": [
        "<a href=\"https://colab.research.google.com/github/PosgradoMNA/actividades-de-aprendizaje-RigobertoVega/blob/main/Modulo_2__Pre_Processing_Data_in_Python_A01793132.ipynb\" target=\"_parent\"><img src=\"https://colab.research.google.com/assets/colab-badge.svg\" alt=\"Open In Colab\"/></a>"
      ]
    },
    {
      "cell_type": "markdown",
      "source": [
        "#Pre-Processing Data in Python\n",
        "###Rigoberto Vega Escudero A01793132"
      ],
      "metadata": {
        "id": "C_CT8DjuckUO"
      }
    },
    {
      "cell_type": "markdown",
      "source": [
        "Here we will test some data preprocessing techniques.\n",
        "\n",
        "Data pre-processing is a necessary step in data\n",
        "analysis.\n",
        "\n",
        "It is the process of converting or mapping data from one “raw” form into another format to make it ready for further analysis.\n",
        "Data pre-processing is also often called “data cleaning” or “data wrangling”, and there are likely other terms."
      ],
      "metadata": {
        "id": "ZU8nB40NcuyU"
      }
    },
    {
      "cell_type": "markdown",
      "source": [
        "#First upload libraries and file to use"
      ],
      "metadata": {
        "id": "9f8DNmqXK603"
      }
    },
    {
      "cell_type": "code",
      "source": [
        "#First we impor pandas\n",
        "import pandas as pd\n",
        "import numpy as np\n",
        "url = \"https://cf-courses-data.s3.us.cloud-object-storage.appdomain.cloud/IBMDeveloperSkillsNetwork-DA0101EN-SkillsNetwork/labs/Data%20files/auto.csv\"\n",
        "#Use the readcsv method, note here is that our data does not have column labels or headers, so we need to specify that in our module as below\n",
        "df = pd.read_csv(url, header= None)\n",
        "\n",
        "df #prints the entire dataframe (not recommended for large datasets)\n",
        "#Adding a list with all the headers names that we will use\n",
        "headers = [\"symboling\", \"normalized-losses\", \"make\",\"fuel-type\",\"aspiration:\",\"num-of-doors\",\n",
        "           \"body-style\",\"drive-wheels\",\"engine-location\",\"wheel-base\",\"length\",\"width\",\"height\",\"curb-weight\",\n",
        "           \"engine-type\",\"num-of-cylinders\",\"engine-size\",\"fuel-system\",\"bore\",\"stroke\",\"compression-ratio\",\n",
        "           \"horsepower\",\"peak-rpm\",\"city-mpg\",\"highway-mpg\",\"price\"]\n",
        "df.columns = headers #Code to remplace the headers name with the list elements\n",
        "df\n"
      ],
      "metadata": {
        "colab": {
          "base_uri": "https://localhost:8080/",
          "height": 574
        },
        "id": "Y1NI217yfagV",
        "outputId": "a3fb99b4-4816-4031-8d02-c28b5d722fdf"
      },
      "execution_count": 115,
      "outputs": [
        {
          "output_type": "execute_result",
          "data": {
            "text/plain": [
              "     symboling normalized-losses         make fuel-type aspiration:  \\\n",
              "0            3                 ?  alfa-romero       gas         std   \n",
              "1            3                 ?  alfa-romero       gas         std   \n",
              "2            1                 ?  alfa-romero       gas         std   \n",
              "3            2               164         audi       gas         std   \n",
              "4            2               164         audi       gas         std   \n",
              "..         ...               ...          ...       ...         ...   \n",
              "200         -1                95        volvo       gas         std   \n",
              "201         -1                95        volvo       gas       turbo   \n",
              "202         -1                95        volvo       gas         std   \n",
              "203         -1                95        volvo    diesel       turbo   \n",
              "204         -1                95        volvo       gas       turbo   \n",
              "\n",
              "    num-of-doors   body-style drive-wheels engine-location  wheel-base  ...  \\\n",
              "0            two  convertible          rwd           front        88.6  ...   \n",
              "1            two  convertible          rwd           front        88.6  ...   \n",
              "2            two    hatchback          rwd           front        94.5  ...   \n",
              "3           four        sedan          fwd           front        99.8  ...   \n",
              "4           four        sedan          4wd           front        99.4  ...   \n",
              "..           ...          ...          ...             ...         ...  ...   \n",
              "200         four        sedan          rwd           front       109.1  ...   \n",
              "201         four        sedan          rwd           front       109.1  ...   \n",
              "202         four        sedan          rwd           front       109.1  ...   \n",
              "203         four        sedan          rwd           front       109.1  ...   \n",
              "204         four        sedan          rwd           front       109.1  ...   \n",
              "\n",
              "     engine-size  fuel-system  bore  stroke compression-ratio horsepower  \\\n",
              "0            130         mpfi  3.47    2.68               9.0        111   \n",
              "1            130         mpfi  3.47    2.68               9.0        111   \n",
              "2            152         mpfi  2.68    3.47               9.0        154   \n",
              "3            109         mpfi  3.19    3.40              10.0        102   \n",
              "4            136         mpfi  3.19    3.40               8.0        115   \n",
              "..           ...          ...   ...     ...               ...        ...   \n",
              "200          141         mpfi  3.78    3.15               9.5        114   \n",
              "201          141         mpfi  3.78    3.15               8.7        160   \n",
              "202          173         mpfi  3.58    2.87               8.8        134   \n",
              "203          145          idi  3.01    3.40              23.0        106   \n",
              "204          141         mpfi  3.78    3.15               9.5        114   \n",
              "\n",
              "     peak-rpm city-mpg highway-mpg  price  \n",
              "0        5000       21          27  13495  \n",
              "1        5000       21          27  16500  \n",
              "2        5000       19          26  16500  \n",
              "3        5500       24          30  13950  \n",
              "4        5500       18          22  17450  \n",
              "..        ...      ...         ...    ...  \n",
              "200      5400       23          28  16845  \n",
              "201      5300       19          25  19045  \n",
              "202      5500       18          23  21485  \n",
              "203      4800       26          27  22470  \n",
              "204      5400       19          25  22625  \n",
              "\n",
              "[205 rows x 26 columns]"
            ],
            "text/html": [
              "\n",
              "  <div id=\"df-d04b5801-3a94-4d19-aadd-a415e07ec6b7\">\n",
              "    <div class=\"colab-df-container\">\n",
              "      <div>\n",
              "<style scoped>\n",
              "    .dataframe tbody tr th:only-of-type {\n",
              "        vertical-align: middle;\n",
              "    }\n",
              "\n",
              "    .dataframe tbody tr th {\n",
              "        vertical-align: top;\n",
              "    }\n",
              "\n",
              "    .dataframe thead th {\n",
              "        text-align: right;\n",
              "    }\n",
              "</style>\n",
              "<table border=\"1\" class=\"dataframe\">\n",
              "  <thead>\n",
              "    <tr style=\"text-align: right;\">\n",
              "      <th></th>\n",
              "      <th>symboling</th>\n",
              "      <th>normalized-losses</th>\n",
              "      <th>make</th>\n",
              "      <th>fuel-type</th>\n",
              "      <th>aspiration:</th>\n",
              "      <th>num-of-doors</th>\n",
              "      <th>body-style</th>\n",
              "      <th>drive-wheels</th>\n",
              "      <th>engine-location</th>\n",
              "      <th>wheel-base</th>\n",
              "      <th>...</th>\n",
              "      <th>engine-size</th>\n",
              "      <th>fuel-system</th>\n",
              "      <th>bore</th>\n",
              "      <th>stroke</th>\n",
              "      <th>compression-ratio</th>\n",
              "      <th>horsepower</th>\n",
              "      <th>peak-rpm</th>\n",
              "      <th>city-mpg</th>\n",
              "      <th>highway-mpg</th>\n",
              "      <th>price</th>\n",
              "    </tr>\n",
              "  </thead>\n",
              "  <tbody>\n",
              "    <tr>\n",
              "      <th>0</th>\n",
              "      <td>3</td>\n",
              "      <td>?</td>\n",
              "      <td>alfa-romero</td>\n",
              "      <td>gas</td>\n",
              "      <td>std</td>\n",
              "      <td>two</td>\n",
              "      <td>convertible</td>\n",
              "      <td>rwd</td>\n",
              "      <td>front</td>\n",
              "      <td>88.6</td>\n",
              "      <td>...</td>\n",
              "      <td>130</td>\n",
              "      <td>mpfi</td>\n",
              "      <td>3.47</td>\n",
              "      <td>2.68</td>\n",
              "      <td>9.0</td>\n",
              "      <td>111</td>\n",
              "      <td>5000</td>\n",
              "      <td>21</td>\n",
              "      <td>27</td>\n",
              "      <td>13495</td>\n",
              "    </tr>\n",
              "    <tr>\n",
              "      <th>1</th>\n",
              "      <td>3</td>\n",
              "      <td>?</td>\n",
              "      <td>alfa-romero</td>\n",
              "      <td>gas</td>\n",
              "      <td>std</td>\n",
              "      <td>two</td>\n",
              "      <td>convertible</td>\n",
              "      <td>rwd</td>\n",
              "      <td>front</td>\n",
              "      <td>88.6</td>\n",
              "      <td>...</td>\n",
              "      <td>130</td>\n",
              "      <td>mpfi</td>\n",
              "      <td>3.47</td>\n",
              "      <td>2.68</td>\n",
              "      <td>9.0</td>\n",
              "      <td>111</td>\n",
              "      <td>5000</td>\n",
              "      <td>21</td>\n",
              "      <td>27</td>\n",
              "      <td>16500</td>\n",
              "    </tr>\n",
              "    <tr>\n",
              "      <th>2</th>\n",
              "      <td>1</td>\n",
              "      <td>?</td>\n",
              "      <td>alfa-romero</td>\n",
              "      <td>gas</td>\n",
              "      <td>std</td>\n",
              "      <td>two</td>\n",
              "      <td>hatchback</td>\n",
              "      <td>rwd</td>\n",
              "      <td>front</td>\n",
              "      <td>94.5</td>\n",
              "      <td>...</td>\n",
              "      <td>152</td>\n",
              "      <td>mpfi</td>\n",
              "      <td>2.68</td>\n",
              "      <td>3.47</td>\n",
              "      <td>9.0</td>\n",
              "      <td>154</td>\n",
              "      <td>5000</td>\n",
              "      <td>19</td>\n",
              "      <td>26</td>\n",
              "      <td>16500</td>\n",
              "    </tr>\n",
              "    <tr>\n",
              "      <th>3</th>\n",
              "      <td>2</td>\n",
              "      <td>164</td>\n",
              "      <td>audi</td>\n",
              "      <td>gas</td>\n",
              "      <td>std</td>\n",
              "      <td>four</td>\n",
              "      <td>sedan</td>\n",
              "      <td>fwd</td>\n",
              "      <td>front</td>\n",
              "      <td>99.8</td>\n",
              "      <td>...</td>\n",
              "      <td>109</td>\n",
              "      <td>mpfi</td>\n",
              "      <td>3.19</td>\n",
              "      <td>3.40</td>\n",
              "      <td>10.0</td>\n",
              "      <td>102</td>\n",
              "      <td>5500</td>\n",
              "      <td>24</td>\n",
              "      <td>30</td>\n",
              "      <td>13950</td>\n",
              "    </tr>\n",
              "    <tr>\n",
              "      <th>4</th>\n",
              "      <td>2</td>\n",
              "      <td>164</td>\n",
              "      <td>audi</td>\n",
              "      <td>gas</td>\n",
              "      <td>std</td>\n",
              "      <td>four</td>\n",
              "      <td>sedan</td>\n",
              "      <td>4wd</td>\n",
              "      <td>front</td>\n",
              "      <td>99.4</td>\n",
              "      <td>...</td>\n",
              "      <td>136</td>\n",
              "      <td>mpfi</td>\n",
              "      <td>3.19</td>\n",
              "      <td>3.40</td>\n",
              "      <td>8.0</td>\n",
              "      <td>115</td>\n",
              "      <td>5500</td>\n",
              "      <td>18</td>\n",
              "      <td>22</td>\n",
              "      <td>17450</td>\n",
              "    </tr>\n",
              "    <tr>\n",
              "      <th>...</th>\n",
              "      <td>...</td>\n",
              "      <td>...</td>\n",
              "      <td>...</td>\n",
              "      <td>...</td>\n",
              "      <td>...</td>\n",
              "      <td>...</td>\n",
              "      <td>...</td>\n",
              "      <td>...</td>\n",
              "      <td>...</td>\n",
              "      <td>...</td>\n",
              "      <td>...</td>\n",
              "      <td>...</td>\n",
              "      <td>...</td>\n",
              "      <td>...</td>\n",
              "      <td>...</td>\n",
              "      <td>...</td>\n",
              "      <td>...</td>\n",
              "      <td>...</td>\n",
              "      <td>...</td>\n",
              "      <td>...</td>\n",
              "      <td>...</td>\n",
              "    </tr>\n",
              "    <tr>\n",
              "      <th>200</th>\n",
              "      <td>-1</td>\n",
              "      <td>95</td>\n",
              "      <td>volvo</td>\n",
              "      <td>gas</td>\n",
              "      <td>std</td>\n",
              "      <td>four</td>\n",
              "      <td>sedan</td>\n",
              "      <td>rwd</td>\n",
              "      <td>front</td>\n",
              "      <td>109.1</td>\n",
              "      <td>...</td>\n",
              "      <td>141</td>\n",
              "      <td>mpfi</td>\n",
              "      <td>3.78</td>\n",
              "      <td>3.15</td>\n",
              "      <td>9.5</td>\n",
              "      <td>114</td>\n",
              "      <td>5400</td>\n",
              "      <td>23</td>\n",
              "      <td>28</td>\n",
              "      <td>16845</td>\n",
              "    </tr>\n",
              "    <tr>\n",
              "      <th>201</th>\n",
              "      <td>-1</td>\n",
              "      <td>95</td>\n",
              "      <td>volvo</td>\n",
              "      <td>gas</td>\n",
              "      <td>turbo</td>\n",
              "      <td>four</td>\n",
              "      <td>sedan</td>\n",
              "      <td>rwd</td>\n",
              "      <td>front</td>\n",
              "      <td>109.1</td>\n",
              "      <td>...</td>\n",
              "      <td>141</td>\n",
              "      <td>mpfi</td>\n",
              "      <td>3.78</td>\n",
              "      <td>3.15</td>\n",
              "      <td>8.7</td>\n",
              "      <td>160</td>\n",
              "      <td>5300</td>\n",
              "      <td>19</td>\n",
              "      <td>25</td>\n",
              "      <td>19045</td>\n",
              "    </tr>\n",
              "    <tr>\n",
              "      <th>202</th>\n",
              "      <td>-1</td>\n",
              "      <td>95</td>\n",
              "      <td>volvo</td>\n",
              "      <td>gas</td>\n",
              "      <td>std</td>\n",
              "      <td>four</td>\n",
              "      <td>sedan</td>\n",
              "      <td>rwd</td>\n",
              "      <td>front</td>\n",
              "      <td>109.1</td>\n",
              "      <td>...</td>\n",
              "      <td>173</td>\n",
              "      <td>mpfi</td>\n",
              "      <td>3.58</td>\n",
              "      <td>2.87</td>\n",
              "      <td>8.8</td>\n",
              "      <td>134</td>\n",
              "      <td>5500</td>\n",
              "      <td>18</td>\n",
              "      <td>23</td>\n",
              "      <td>21485</td>\n",
              "    </tr>\n",
              "    <tr>\n",
              "      <th>203</th>\n",
              "      <td>-1</td>\n",
              "      <td>95</td>\n",
              "      <td>volvo</td>\n",
              "      <td>diesel</td>\n",
              "      <td>turbo</td>\n",
              "      <td>four</td>\n",
              "      <td>sedan</td>\n",
              "      <td>rwd</td>\n",
              "      <td>front</td>\n",
              "      <td>109.1</td>\n",
              "      <td>...</td>\n",
              "      <td>145</td>\n",
              "      <td>idi</td>\n",
              "      <td>3.01</td>\n",
              "      <td>3.40</td>\n",
              "      <td>23.0</td>\n",
              "      <td>106</td>\n",
              "      <td>4800</td>\n",
              "      <td>26</td>\n",
              "      <td>27</td>\n",
              "      <td>22470</td>\n",
              "    </tr>\n",
              "    <tr>\n",
              "      <th>204</th>\n",
              "      <td>-1</td>\n",
              "      <td>95</td>\n",
              "      <td>volvo</td>\n",
              "      <td>gas</td>\n",
              "      <td>turbo</td>\n",
              "      <td>four</td>\n",
              "      <td>sedan</td>\n",
              "      <td>rwd</td>\n",
              "      <td>front</td>\n",
              "      <td>109.1</td>\n",
              "      <td>...</td>\n",
              "      <td>141</td>\n",
              "      <td>mpfi</td>\n",
              "      <td>3.78</td>\n",
              "      <td>3.15</td>\n",
              "      <td>9.5</td>\n",
              "      <td>114</td>\n",
              "      <td>5400</td>\n",
              "      <td>19</td>\n",
              "      <td>25</td>\n",
              "      <td>22625</td>\n",
              "    </tr>\n",
              "  </tbody>\n",
              "</table>\n",
              "<p>205 rows × 26 columns</p>\n",
              "</div>\n",
              "      <button class=\"colab-df-convert\" onclick=\"convertToInteractive('df-d04b5801-3a94-4d19-aadd-a415e07ec6b7')\"\n",
              "              title=\"Convert this dataframe to an interactive table.\"\n",
              "              style=\"display:none;\">\n",
              "        \n",
              "  <svg xmlns=\"http://www.w3.org/2000/svg\" height=\"24px\"viewBox=\"0 0 24 24\"\n",
              "       width=\"24px\">\n",
              "    <path d=\"M0 0h24v24H0V0z\" fill=\"none\"/>\n",
              "    <path d=\"M18.56 5.44l.94 2.06.94-2.06 2.06-.94-2.06-.94-.94-2.06-.94 2.06-2.06.94zm-11 1L8.5 8.5l.94-2.06 2.06-.94-2.06-.94L8.5 2.5l-.94 2.06-2.06.94zm10 10l.94 2.06.94-2.06 2.06-.94-2.06-.94-.94-2.06-.94 2.06-2.06.94z\"/><path d=\"M17.41 7.96l-1.37-1.37c-.4-.4-.92-.59-1.43-.59-.52 0-1.04.2-1.43.59L10.3 9.45l-7.72 7.72c-.78.78-.78 2.05 0 2.83L4 21.41c.39.39.9.59 1.41.59.51 0 1.02-.2 1.41-.59l7.78-7.78 2.81-2.81c.8-.78.8-2.07 0-2.86zM5.41 20L4 18.59l7.72-7.72 1.47 1.35L5.41 20z\"/>\n",
              "  </svg>\n",
              "      </button>\n",
              "      \n",
              "  <style>\n",
              "    .colab-df-container {\n",
              "      display:flex;\n",
              "      flex-wrap:wrap;\n",
              "      gap: 12px;\n",
              "    }\n",
              "\n",
              "    .colab-df-convert {\n",
              "      background-color: #E8F0FE;\n",
              "      border: none;\n",
              "      border-radius: 50%;\n",
              "      cursor: pointer;\n",
              "      display: none;\n",
              "      fill: #1967D2;\n",
              "      height: 32px;\n",
              "      padding: 0 0 0 0;\n",
              "      width: 32px;\n",
              "    }\n",
              "\n",
              "    .colab-df-convert:hover {\n",
              "      background-color: #E2EBFA;\n",
              "      box-shadow: 0px 1px 2px rgba(60, 64, 67, 0.3), 0px 1px 3px 1px rgba(60, 64, 67, 0.15);\n",
              "      fill: #174EA6;\n",
              "    }\n",
              "\n",
              "    [theme=dark] .colab-df-convert {\n",
              "      background-color: #3B4455;\n",
              "      fill: #D2E3FC;\n",
              "    }\n",
              "\n",
              "    [theme=dark] .colab-df-convert:hover {\n",
              "      background-color: #434B5C;\n",
              "      box-shadow: 0px 1px 3px 1px rgba(0, 0, 0, 0.15);\n",
              "      filter: drop-shadow(0px 1px 2px rgba(0, 0, 0, 0.3));\n",
              "      fill: #FFFFFF;\n",
              "    }\n",
              "  </style>\n",
              "\n",
              "      <script>\n",
              "        const buttonEl =\n",
              "          document.querySelector('#df-d04b5801-3a94-4d19-aadd-a415e07ec6b7 button.colab-df-convert');\n",
              "        buttonEl.style.display =\n",
              "          google.colab.kernel.accessAllowed ? 'block' : 'none';\n",
              "\n",
              "        async function convertToInteractive(key) {\n",
              "          const element = document.querySelector('#df-d04b5801-3a94-4d19-aadd-a415e07ec6b7');\n",
              "          const dataTable =\n",
              "            await google.colab.kernel.invokeFunction('convertToInteractive',\n",
              "                                                     [key], {});\n",
              "          if (!dataTable) return;\n",
              "\n",
              "          const docLinkHtml = 'Like what you see? Visit the ' +\n",
              "            '<a target=\"_blank\" href=https://colab.research.google.com/notebooks/data_table.ipynb>data table notebook</a>'\n",
              "            + ' to learn more about interactive tables.';\n",
              "          element.innerHTML = '';\n",
              "          dataTable['output_type'] = 'display_data';\n",
              "          await google.colab.output.renderOutput(dataTable, element);\n",
              "          const docLink = document.createElement('div');\n",
              "          docLink.innerHTML = docLinkHtml;\n",
              "          element.appendChild(docLink);\n",
              "        }\n",
              "      </script>\n",
              "    </div>\n",
              "  </div>\n",
              "  "
            ]
          },
          "metadata": {},
          "execution_count": 115
        }
      ]
    },
    {
      "cell_type": "markdown",
      "source": [
        "##Dealing with Missing values\n",
        "\n",
        "When no data value is stored for a feature for a particular observation, we say this feature has a “missing value”.\n",
        "\n",
        "Usually, missing value in dataset appears as “?”, “N/A”, 0 or just a blank cell.\n",
        "\n",
        "Each situation is different and should be judged differently. But here we will have some options.\n"
      ],
      "metadata": {
        "id": "4Z53gW4JeK1H"
      }
    },
    {
      "cell_type": "markdown",
      "source": [
        "- The first is to check if the person or group that collected the data can go back and find what the actual value should be.\n",
        "\n",
        "Another possibility is just to remove the data where that missing value is found.\n",
        "- When you drop data, you can either drop the whole variable or just the single data entry with the missing value.\n",
        "\n",
        "Removing data will have the consecuence that we need to take a look on the impact of remove that.\n",
        "\n",
        "Replacing data is better, since no data is wasted."
      ],
      "metadata": {
        "id": "8JqhARIbef3a"
      }
    },
    {
      "cell_type": "markdown",
      "source": [
        "##.dropna()\n",
        "\n",
        "This funciton is used to remove all the missing values on a data frame. Basically you can use it to choose to drop rows or columns that contain missing values like Nan.\n",
        "\n",
        "You use Axis=0 to drop the rows\n",
        "you use axis=1 to drop the columns"
      ],
      "metadata": {
        "id": "RYP1uJB-euHg"
      }
    },
    {
      "cell_type": "code",
      "source": [
        "df2 = df.copy() #copy the data set\n",
        "df2.isnull().any() #Check for any Nan on the DataFrame, we will se many\n"
      ],
      "metadata": {
        "colab": {
          "base_uri": "https://localhost:8080/"
        },
        "id": "1lljp0tjfyCi",
        "outputId": "fd86d044-7707-4273-d736-19014287a0ca"
      },
      "execution_count": 116,
      "outputs": [
        {
          "output_type": "execute_result",
          "data": {
            "text/plain": [
              "symboling            False\n",
              "normalized-losses    False\n",
              "make                 False\n",
              "fuel-type            False\n",
              "aspiration:          False\n",
              "num-of-doors         False\n",
              "body-style           False\n",
              "drive-wheels         False\n",
              "engine-location      False\n",
              "wheel-base           False\n",
              "length               False\n",
              "width                False\n",
              "height               False\n",
              "curb-weight          False\n",
              "engine-type          False\n",
              "num-of-cylinders     False\n",
              "engine-size          False\n",
              "fuel-system          False\n",
              "bore                 False\n",
              "stroke               False\n",
              "compression-ratio    False\n",
              "horsepower           False\n",
              "peak-rpm             False\n",
              "city-mpg             False\n",
              "highway-mpg          False\n",
              "price                False\n",
              "dtype: bool"
            ]
          },
          "metadata": {},
          "execution_count": 116
        }
      ]
    },
    {
      "cell_type": "code",
      "source": [
        "df2.dropna(axis=0) #We will drop any NA on the datasets on rows\n",
        "df2.dropna(axis=1) #We will drop any NA on the datasets on columns\n",
        "df2.isnull().any() #Here we will evaluate again the NaN prescence"
      ],
      "metadata": {
        "colab": {
          "base_uri": "https://localhost:8080/"
        },
        "id": "QDP4dSRVgY7h",
        "outputId": "ac8168e1-89a9-468e-f01a-99ec4afe0aed"
      },
      "execution_count": 117,
      "outputs": [
        {
          "output_type": "execute_result",
          "data": {
            "text/plain": [
              "symboling            False\n",
              "normalized-losses    False\n",
              "make                 False\n",
              "fuel-type            False\n",
              "aspiration:          False\n",
              "num-of-doors         False\n",
              "body-style           False\n",
              "drive-wheels         False\n",
              "engine-location      False\n",
              "wheel-base           False\n",
              "length               False\n",
              "width                False\n",
              "height               False\n",
              "curb-weight          False\n",
              "engine-type          False\n",
              "num-of-cylinders     False\n",
              "engine-size          False\n",
              "fuel-system          False\n",
              "bore                 False\n",
              "stroke               False\n",
              "compression-ratio    False\n",
              "horsepower           False\n",
              "peak-rpm             False\n",
              "city-mpg             False\n",
              "highway-mpg          False\n",
              "price                False\n",
              "dtype: bool"
            ]
          },
          "metadata": {},
          "execution_count": 117
        }
      ]
    },
    {
      "cell_type": "markdown",
      "source": [
        "##.replace()\n",
        "\n",
        "To replace missing values like Nans with actual values, pandas library has built in method called replace thich can be used to fill in the missing values with the newly"
      ],
      "metadata": {
        "id": "jJ7_xEYEhRDq"
      }
    },
    {
      "cell_type": "code",
      "source": [
        "df3 = df.copy() #copy the data set\n",
        "df3.columns\n",
        "mean = df3['wheel-base'].mean() #Here we will obtain the Mean of the columns engine-size\n",
        "df3['wheel-base'].replace(np.nan, mean) #Here we will replace the data NaN with the mean value of the specific data"
      ],
      "metadata": {
        "colab": {
          "base_uri": "https://localhost:8080/"
        },
        "id": "oBg7EbNshdrE",
        "outputId": "8545a635-81bf-4730-8bc1-f8e252dd164d"
      },
      "execution_count": 118,
      "outputs": [
        {
          "output_type": "execute_result",
          "data": {
            "text/plain": [
              "0       88.6\n",
              "1       88.6\n",
              "2       94.5\n",
              "3       99.8\n",
              "4       99.4\n",
              "       ...  \n",
              "200    109.1\n",
              "201    109.1\n",
              "202    109.1\n",
              "203    109.1\n",
              "204    109.1\n",
              "Name: wheel-base, Length: 205, dtype: float64"
            ]
          },
          "metadata": {},
          "execution_count": 118
        }
      ]
    },
    {
      "cell_type": "markdown",
      "source": [
        "##Data Formatting in Python\n",
        "\n",
        "We are going to use th panda methods to deal with the format issues we might have in the datasets.\n",
        "\n",
        "As a part of dataset cleaning, data formatting ensures that data is consistent and easily\n",
        "\n",
        "For example, people may use different expressions to represent New York City, such as N.Y., Ny,\n",
        "NY, and New York.\n",
        "\n",
        "So it will be helpful to apply customs formats to make all the dataset as the same entity or format."
      ],
      "metadata": {
        "id": "9FKAAolKyS-Q"
      }
    },
    {
      "cell_type": "code",
      "source": [
        "#For example mpg to L/100km\n",
        "\n",
        "df[\"city-mpg\"] = 235/df[\"city-mpg\"] #here we are dividing 235 by the entire column\n",
        "df.rename(columns = {\"city-mpg\": \"city-L/100km\"}, inplace=True) #Here we are changing the column name according to the new format data\n"
      ],
      "metadata": {
        "id": "g9G5g_SW1_Ei"
      },
      "execution_count": 119,
      "outputs": []
    },
    {
      "cell_type": "code",
      "source": [
        "df['city-L/100km'] #print the new column"
      ],
      "metadata": {
        "colab": {
          "base_uri": "https://localhost:8080/"
        },
        "id": "UZQ843rj3ZZN",
        "outputId": "7c98ccd0-5617-4c36-ebe2-81664ae7ea30"
      },
      "execution_count": 120,
      "outputs": [
        {
          "output_type": "execute_result",
          "data": {
            "text/plain": [
              "0      11.190476\n",
              "1      11.190476\n",
              "2      12.368421\n",
              "3       9.791667\n",
              "4      13.055556\n",
              "         ...    \n",
              "200    10.217391\n",
              "201    12.368421\n",
              "202    13.055556\n",
              "203     9.038462\n",
              "204    12.368421\n",
              "Name: city-L/100km, Length: 205, dtype: float64"
            ]
          },
          "metadata": {},
          "execution_count": 120
        }
      ]
    },
    {
      "cell_type": "markdown",
      "source": [
        "Some times for a number reasons, incluiding when you import a dataset inyo Python, the data may be incorrectly established."
      ],
      "metadata": {
        "id": "e5DvvK-q3_D8"
      }
    },
    {
      "cell_type": "code",
      "source": [
        "#for example here we have a column known as price and should be a integer instead an object\n",
        "df['price'].tail(5)"
      ],
      "metadata": {
        "colab": {
          "base_uri": "https://localhost:8080/"
        },
        "id": "USMFtZon4H37",
        "outputId": "2ba4d339-6fae-4283-cbb2-54fa408dc79b"
      },
      "execution_count": 121,
      "outputs": [
        {
          "output_type": "execute_result",
          "data": {
            "text/plain": [
              "200    16845\n",
              "201    19045\n",
              "202    21485\n",
              "203    22470\n",
              "204    22625\n",
              "Name: price, dtype: object"
            ]
          },
          "metadata": {},
          "execution_count": 121
        }
      ]
    },
    {
      "cell_type": "markdown",
      "source": [
        "There are many data types in pandas\n",
        "Objects : \"A\", \"Hello\",.....\n",
        "Int64: 1,2,5\n",
        "Float64: 3.1592,5.64825,..........\n",
        "\n",
        "and many others."
      ],
      "metadata": {
        "id": "G5rd_xKk4f7N"
      }
    },
    {
      "cell_type": "markdown",
      "source": [
        "##.dtypes()\n",
        "A funciton to check the datatype of each variable in a dataframe\n"
      ],
      "metadata": {
        "id": "XXdfqFbx4vQM"
      }
    },
    {
      "cell_type": "code",
      "source": [
        "df.dtypes"
      ],
      "metadata": {
        "colab": {
          "base_uri": "https://localhost:8080/"
        },
        "id": "OOzXUwep420f",
        "outputId": "1d6630a2-b028-4d5a-afae-fb34a0283cfb"
      },
      "execution_count": 122,
      "outputs": [
        {
          "output_type": "execute_result",
          "data": {
            "text/plain": [
              "symboling              int64\n",
              "normalized-losses     object\n",
              "make                  object\n",
              "fuel-type             object\n",
              "aspiration:           object\n",
              "num-of-doors          object\n",
              "body-style            object\n",
              "drive-wheels          object\n",
              "engine-location       object\n",
              "wheel-base           float64\n",
              "length               float64\n",
              "width                float64\n",
              "height               float64\n",
              "curb-weight            int64\n",
              "engine-type           object\n",
              "num-of-cylinders      object\n",
              "engine-size            int64\n",
              "fuel-system           object\n",
              "bore                  object\n",
              "stroke                object\n",
              "compression-ratio    float64\n",
              "horsepower            object\n",
              "peak-rpm              object\n",
              "city-L/100km         float64\n",
              "highway-mpg            int64\n",
              "price                 object\n",
              "dtype: object"
            ]
          },
          "metadata": {},
          "execution_count": 122
        }
      ]
    },
    {
      "cell_type": "markdown",
      "source": [
        "##.astype()\n",
        "\n",
        "Used to convert data types to other"
      ],
      "metadata": {
        "id": "rmgVmtID5LSj"
      }
    },
    {
      "cell_type": "code",
      "source": [
        "\n",
        "df['price'] = df['price'].str.replace('?','0') #Replacing the '?' with '0' to be able to convert it\n",
        "df['price'] = df['price'].astype('int') #Here we are changing the datatype form object to integer\n",
        "df['price'].dtype"
      ],
      "metadata": {
        "colab": {
          "base_uri": "https://localhost:8080/"
        },
        "id": "xYNTL_9i5JQl",
        "outputId": "19cc57f2-5f62-44d2-b323-38adacf72994"
      },
      "execution_count": 123,
      "outputs": [
        {
          "output_type": "stream",
          "name": "stderr",
          "text": [
            "/usr/local/lib/python3.7/dist-packages/ipykernel_launcher.py:1: FutureWarning: The default value of regex will change from True to False in a future version. In addition, single character regular expressions will *not* be treated as literal strings when regex=True.\n",
            "  \"\"\"Entry point for launching an IPython kernel.\n"
          ]
        },
        {
          "output_type": "execute_result",
          "data": {
            "text/plain": [
              "dtype('int64')"
            ]
          },
          "metadata": {},
          "execution_count": 123
        }
      ]
    },
    {
      "cell_type": "markdown",
      "source": [
        "#Data Normalization in Python\n",
        "\n",
        "The data normalization, which is a improtan technique to understand in data pre-procesins.\n",
        "\n",
        "When we take a look at the used car data set, we notice in the data that the feature “length” ranges from 150 to 250, while feature “width” and “height” ranges from 50 to 100.\n",
        "\n",
        "We may want to normalize these variables so that the range of the values is consistent.\n",
        "\n",
        "This normalization can make some statistical analyses easier down the road. By making the ranges consistent between variables, normalization enables a fairer comparison between the different features.\n",
        "\n",
        "We need to make sure they have the same impact, which it is also important for computational reasons."
      ],
      "metadata": {
        "id": "bsGjNg2p_QIz"
      }
    },
    {
      "cell_type": "markdown",
      "source": [
        "#There are 3 methods:\n",
        "# Simple feature scaling\n",
        "Formula: \n",
        "\n",
        "$$ x_i^{new} = \\cfrac{x_{min}}{x_{max}}$$ \n",
        "\n",
        "# Min Max\n",
        "Formula: \n",
        "\n",
        "$$ x_i^{new} = \\cfrac{x_i^{old} - x_{min}}{x_{max} - x_{min}}$$ \n",
        "\n",
        "# Z-score or estandarization\n",
        "\n",
        "Formula:\n",
        " $$ x_i^{new} = \\cfrac{x_i^{old} - \\mu}{\\sigma}$$ "
      ],
      "metadata": {
        "id": "0ZLLuxn1BEVn"
      }
    },
    {
      "cell_type": "code",
      "source": [
        "#using the simple feature scaling\n",
        "df['length'] = df['length'] / df['length'].max() "
      ],
      "metadata": {
        "id": "XPsmUQXn_inv"
      },
      "execution_count": 124,
      "outputs": []
    },
    {
      "cell_type": "code",
      "source": [
        "#Min max mehtod\n",
        "df['length'] = (df['length'] - df['length'].min())/(df['length'].max() - df['length'].min())"
      ],
      "metadata": {
        "id": "F6mu6SmECGGI"
      },
      "execution_count": 125,
      "outputs": []
    },
    {
      "cell_type": "code",
      "source": [
        "#Z-score method\n",
        "df['length'] = (df['length'] - df['length'].mean())/(df['length'].std())"
      ],
      "metadata": {
        "id": "0JX4ztE3CbxS"
      },
      "execution_count": 126,
      "outputs": []
    },
    {
      "cell_type": "code",
      "source": [
        "df['length']"
      ],
      "metadata": {
        "colab": {
          "base_uri": "https://localhost:8080/"
        },
        "id": "xqkDec6LCpo6",
        "outputId": "39380850-75dc-40ec-bee5-f94d366d90de"
      },
      "execution_count": 127,
      "outputs": [
        {
          "output_type": "execute_result",
          "data": {
            "text/plain": [
              "0     -0.425480\n",
              "1     -0.425480\n",
              "2     -0.230948\n",
              "3      0.206750\n",
              "4      0.206750\n",
              "         ...   \n",
              "200    1.195622\n",
              "201    1.195622\n",
              "202    1.195622\n",
              "203    1.195622\n",
              "204    1.195622\n",
              "Name: length, Length: 205, dtype: float64"
            ]
          },
          "metadata": {},
          "execution_count": 127
        }
      ]
    },
    {
      "cell_type": "markdown",
      "source": [
        "#Binning in Python\n",
        "Binning is when you group values together into bins. For example, you can bin “age” into [0 to 5], [6 to 10], [11 to 15] and so on.\n",
        "\n",
        "\n",
        "Sometimes, binning can improve accuracy of the predictive models.\n",
        "\n",
        "In addition, sometimes we use data binning to group a set of numerical values into a smaller number of bins to have a better understanding of the data distribution."
      ],
      "metadata": {
        "id": "zVHTso80CtPs"
      }
    },
    {
      "cell_type": "code",
      "source": [
        "#Example\n",
        "bins = np.linspace(min(df['price']), max(df['price']), 4) #Here we will return an array that contains 4 equally spaecnumber over the specified interval of price\n",
        "#[    0.        , 15133.33333333, 30266.66666667, 45400.        ]\n",
        "group_names = ['Low','Medium','High'] #Here we create a list with the category to bin\n",
        "df['price_binned'] = pd.cut(df['price'], bins, labels = group_names,include_lowest = True) #Here we will asign the data to an specified Bin\n",
        "df[['price','price_binned']]"
      ],
      "metadata": {
        "colab": {
          "base_uri": "https://localhost:8080/",
          "height": 424
        },
        "id": "694eUXN5DChX",
        "outputId": "4b13ee17-5e34-47c7-f347-bdc0935ba99d"
      },
      "execution_count": 133,
      "outputs": [
        {
          "output_type": "execute_result",
          "data": {
            "text/plain": [
              "     price price_binned\n",
              "0    13495          Low\n",
              "1    16500       Medium\n",
              "2    16500       Medium\n",
              "3    13950          Low\n",
              "4    17450       Medium\n",
              "..     ...          ...\n",
              "200  16845       Medium\n",
              "201  19045       Medium\n",
              "202  21485       Medium\n",
              "203  22470       Medium\n",
              "204  22625       Medium\n",
              "\n",
              "[205 rows x 2 columns]"
            ],
            "text/html": [
              "\n",
              "  <div id=\"df-a5e27314-bbf1-4b96-b940-612b5d9d877c\">\n",
              "    <div class=\"colab-df-container\">\n",
              "      <div>\n",
              "<style scoped>\n",
              "    .dataframe tbody tr th:only-of-type {\n",
              "        vertical-align: middle;\n",
              "    }\n",
              "\n",
              "    .dataframe tbody tr th {\n",
              "        vertical-align: top;\n",
              "    }\n",
              "\n",
              "    .dataframe thead th {\n",
              "        text-align: right;\n",
              "    }\n",
              "</style>\n",
              "<table border=\"1\" class=\"dataframe\">\n",
              "  <thead>\n",
              "    <tr style=\"text-align: right;\">\n",
              "      <th></th>\n",
              "      <th>price</th>\n",
              "      <th>price_binned</th>\n",
              "    </tr>\n",
              "  </thead>\n",
              "  <tbody>\n",
              "    <tr>\n",
              "      <th>0</th>\n",
              "      <td>13495</td>\n",
              "      <td>Low</td>\n",
              "    </tr>\n",
              "    <tr>\n",
              "      <th>1</th>\n",
              "      <td>16500</td>\n",
              "      <td>Medium</td>\n",
              "    </tr>\n",
              "    <tr>\n",
              "      <th>2</th>\n",
              "      <td>16500</td>\n",
              "      <td>Medium</td>\n",
              "    </tr>\n",
              "    <tr>\n",
              "      <th>3</th>\n",
              "      <td>13950</td>\n",
              "      <td>Low</td>\n",
              "    </tr>\n",
              "    <tr>\n",
              "      <th>4</th>\n",
              "      <td>17450</td>\n",
              "      <td>Medium</td>\n",
              "    </tr>\n",
              "    <tr>\n",
              "      <th>...</th>\n",
              "      <td>...</td>\n",
              "      <td>...</td>\n",
              "    </tr>\n",
              "    <tr>\n",
              "      <th>200</th>\n",
              "      <td>16845</td>\n",
              "      <td>Medium</td>\n",
              "    </tr>\n",
              "    <tr>\n",
              "      <th>201</th>\n",
              "      <td>19045</td>\n",
              "      <td>Medium</td>\n",
              "    </tr>\n",
              "    <tr>\n",
              "      <th>202</th>\n",
              "      <td>21485</td>\n",
              "      <td>Medium</td>\n",
              "    </tr>\n",
              "    <tr>\n",
              "      <th>203</th>\n",
              "      <td>22470</td>\n",
              "      <td>Medium</td>\n",
              "    </tr>\n",
              "    <tr>\n",
              "      <th>204</th>\n",
              "      <td>22625</td>\n",
              "      <td>Medium</td>\n",
              "    </tr>\n",
              "  </tbody>\n",
              "</table>\n",
              "<p>205 rows × 2 columns</p>\n",
              "</div>\n",
              "      <button class=\"colab-df-convert\" onclick=\"convertToInteractive('df-a5e27314-bbf1-4b96-b940-612b5d9d877c')\"\n",
              "              title=\"Convert this dataframe to an interactive table.\"\n",
              "              style=\"display:none;\">\n",
              "        \n",
              "  <svg xmlns=\"http://www.w3.org/2000/svg\" height=\"24px\"viewBox=\"0 0 24 24\"\n",
              "       width=\"24px\">\n",
              "    <path d=\"M0 0h24v24H0V0z\" fill=\"none\"/>\n",
              "    <path d=\"M18.56 5.44l.94 2.06.94-2.06 2.06-.94-2.06-.94-.94-2.06-.94 2.06-2.06.94zm-11 1L8.5 8.5l.94-2.06 2.06-.94-2.06-.94L8.5 2.5l-.94 2.06-2.06.94zm10 10l.94 2.06.94-2.06 2.06-.94-2.06-.94-.94-2.06-.94 2.06-2.06.94z\"/><path d=\"M17.41 7.96l-1.37-1.37c-.4-.4-.92-.59-1.43-.59-.52 0-1.04.2-1.43.59L10.3 9.45l-7.72 7.72c-.78.78-.78 2.05 0 2.83L4 21.41c.39.39.9.59 1.41.59.51 0 1.02-.2 1.41-.59l7.78-7.78 2.81-2.81c.8-.78.8-2.07 0-2.86zM5.41 20L4 18.59l7.72-7.72 1.47 1.35L5.41 20z\"/>\n",
              "  </svg>\n",
              "      </button>\n",
              "      \n",
              "  <style>\n",
              "    .colab-df-container {\n",
              "      display:flex;\n",
              "      flex-wrap:wrap;\n",
              "      gap: 12px;\n",
              "    }\n",
              "\n",
              "    .colab-df-convert {\n",
              "      background-color: #E8F0FE;\n",
              "      border: none;\n",
              "      border-radius: 50%;\n",
              "      cursor: pointer;\n",
              "      display: none;\n",
              "      fill: #1967D2;\n",
              "      height: 32px;\n",
              "      padding: 0 0 0 0;\n",
              "      width: 32px;\n",
              "    }\n",
              "\n",
              "    .colab-df-convert:hover {\n",
              "      background-color: #E2EBFA;\n",
              "      box-shadow: 0px 1px 2px rgba(60, 64, 67, 0.3), 0px 1px 3px 1px rgba(60, 64, 67, 0.15);\n",
              "      fill: #174EA6;\n",
              "    }\n",
              "\n",
              "    [theme=dark] .colab-df-convert {\n",
              "      background-color: #3B4455;\n",
              "      fill: #D2E3FC;\n",
              "    }\n",
              "\n",
              "    [theme=dark] .colab-df-convert:hover {\n",
              "      background-color: #434B5C;\n",
              "      box-shadow: 0px 1px 3px 1px rgba(0, 0, 0, 0.15);\n",
              "      filter: drop-shadow(0px 1px 2px rgba(0, 0, 0, 0.3));\n",
              "      fill: #FFFFFF;\n",
              "    }\n",
              "  </style>\n",
              "\n",
              "      <script>\n",
              "        const buttonEl =\n",
              "          document.querySelector('#df-a5e27314-bbf1-4b96-b940-612b5d9d877c button.colab-df-convert');\n",
              "        buttonEl.style.display =\n",
              "          google.colab.kernel.accessAllowed ? 'block' : 'none';\n",
              "\n",
              "        async function convertToInteractive(key) {\n",
              "          const element = document.querySelector('#df-a5e27314-bbf1-4b96-b940-612b5d9d877c');\n",
              "          const dataTable =\n",
              "            await google.colab.kernel.invokeFunction('convertToInteractive',\n",
              "                                                     [key], {});\n",
              "          if (!dataTable) return;\n",
              "\n",
              "          const docLinkHtml = 'Like what you see? Visit the ' +\n",
              "            '<a target=\"_blank\" href=https://colab.research.google.com/notebooks/data_table.ipynb>data table notebook</a>'\n",
              "            + ' to learn more about interactive tables.';\n",
              "          element.innerHTML = '';\n",
              "          dataTable['output_type'] = 'display_data';\n",
              "          await google.colab.output.renderOutput(dataTable, element);\n",
              "          const docLink = document.createElement('div');\n",
              "          docLink.innerHTML = docLinkHtml;\n",
              "          element.appendChild(docLink);\n",
              "        }\n",
              "      </script>\n",
              "    </div>\n",
              "  </div>\n",
              "  "
            ]
          },
          "metadata": {},
          "execution_count": 133
        }
      ]
    },
    {
      "cell_type": "code",
      "source": [
        "import matplotlib as plt\n",
        "from matplotlib import pyplot\n",
        "plt.pyplot.hist(df[\"price\"])\n",
        "\n",
        "# set x/y labels and plot title\n",
        "plt.pyplot.xlabel(\"price\")\n",
        "plt.pyplot.ylabel(\"count\")\n",
        "plt.pyplot.title(\"price_binned\")"
      ],
      "metadata": {
        "colab": {
          "base_uri": "https://localhost:8080/",
          "height": 312
        },
        "id": "oAs1CBbIJfSo",
        "outputId": "d76a4f17-7e31-4cfb-b6ea-daea0a86811d"
      },
      "execution_count": 138,
      "outputs": [
        {
          "output_type": "execute_result",
          "data": {
            "text/plain": [
              "Text(0.5, 1.0, 'price_binned')"
            ]
          },
          "metadata": {},
          "execution_count": 138
        },
        {
          "output_type": "display_data",
          "data": {
            "text/plain": [
              "<Figure size 432x288 with 1 Axes>"
            ],
            "image/png": "[encoded data removed]"
          },
          "metadata": {
            "needs_background": "light"
          }
        }
      ]
    },
    {
      "cell_type": "code",
      "source": [
        "pyplot.bar(group_names, df[\"price_binned\"].value_counts())\n",
        "\n",
        "# set x/y labels and plot title\n",
        "plt.pyplot.xlabel(\"price\")\n",
        "plt.pyplot.ylabel(\"count\")\n",
        "plt.pyplot.title(\"price_binned\")"
      ],
      "metadata": {
        "colab": {
          "base_uri": "https://localhost:8080/",
          "height": 312
        },
        "id": "8Tl1oxzhJylL",
        "outputId": "a1d96124-0e99-47a1-b700-42f83b8b0681"
      },
      "execution_count": 139,
      "outputs": [
        {
          "output_type": "execute_result",
          "data": {
            "text/plain": [
              "Text(0.5, 1.0, 'price_binned')"
            ]
          },
          "metadata": {},
          "execution_count": 139
        },
        {
          "output_type": "display_data",
          "data": {
            "text/plain": [
              "<Figure size 432x288 with 1 Axes>"
            ],
            "image/png": "[encoded data removed]"
          },
          "metadata": {
            "needs_background": "light"
          }
        }
      ]
    },
    {
      "cell_type": "markdown",
      "source": [
        "#Turning categorical variables into quantitative variables\n",
        "\n",
        "Most statistical models cannot take in objects or strings as input and, for model training, only take the numbers as inputs.\n",
        "\n",
        "For example we need to convert categorical values like strings to a numerical value for they to be analize in a proper way\n",
        "\n",
        "This technique is often called “one-hot encoding”."
      ],
      "metadata": {
        "id": "CUKKUckbFKb3"
      }
    },
    {
      "cell_type": "markdown",
      "source": [
        "##.get_dummies()\n",
        "\n",
        "This is a method to convert categorical variables to dummy variables (0 or 1)"
      ],
      "metadata": {
        "id": "-NzJR89pGN_V"
      }
    },
    {
      "cell_type": "code",
      "source": [
        "#Example, here we will generate a list of numbers which will be evaluate and assign a value of 0 if is a diesel or 1 if it is a gas type\n",
        "pd.get_dummies(df['fuel-type'])"
      ],
      "metadata": {
        "colab": {
          "base_uri": "https://localhost:8080/",
          "height": 424
        },
        "id": "2s1qRy-MFofK",
        "outputId": "a8aef6c3-e3b7-441e-a030-28845cae794b"
      },
      "execution_count": 135,
      "outputs": [
        {
          "output_type": "execute_result",
          "data": {
            "text/plain": [
              "     diesel  gas\n",
              "0         0    1\n",
              "1         0    1\n",
              "2         0    1\n",
              "3         0    1\n",
              "4         0    1\n",
              "..      ...  ...\n",
              "200       0    1\n",
              "201       0    1\n",
              "202       0    1\n",
              "203       1    0\n",
              "204       0    1\n",
              "\n",
              "[205 rows x 2 columns]"
            ],
            "text/html": [
              "\n",
              "  <div id=\"df-b319796f-3f6c-49ec-b19f-a8a890d56fe5\">\n",
              "    <div class=\"colab-df-container\">\n",
              "      <div>\n",
              "<style scoped>\n",
              "    .dataframe tbody tr th:only-of-type {\n",
              "        vertical-align: middle;\n",
              "    }\n",
              "\n",
              "    .dataframe tbody tr th {\n",
              "        vertical-align: top;\n",
              "    }\n",
              "\n",
              "    .dataframe thead th {\n",
              "        text-align: right;\n",
              "    }\n",
              "</style>\n",
              "<table border=\"1\" class=\"dataframe\">\n",
              "  <thead>\n",
              "    <tr style=\"text-align: right;\">\n",
              "      <th></th>\n",
              "      <th>diesel</th>\n",
              "      <th>gas</th>\n",
              "    </tr>\n",
              "  </thead>\n",
              "  <tbody>\n",
              "    <tr>\n",
              "      <th>0</th>\n",
              "      <td>0</td>\n",
              "      <td>1</td>\n",
              "    </tr>\n",
              "    <tr>\n",
              "      <th>1</th>\n",
              "      <td>0</td>\n",
              "      <td>1</td>\n",
              "    </tr>\n",
              "    <tr>\n",
              "      <th>2</th>\n",
              "      <td>0</td>\n",
              "      <td>1</td>\n",
              "    </tr>\n",
              "    <tr>\n",
              "      <th>3</th>\n",
              "      <td>0</td>\n",
              "      <td>1</td>\n",
              "    </tr>\n",
              "    <tr>\n",
              "      <th>4</th>\n",
              "      <td>0</td>\n",
              "      <td>1</td>\n",
              "    </tr>\n",
              "    <tr>\n",
              "      <th>...</th>\n",
              "      <td>...</td>\n",
              "      <td>...</td>\n",
              "    </tr>\n",
              "    <tr>\n",
              "      <th>200</th>\n",
              "      <td>0</td>\n",
              "      <td>1</td>\n",
              "    </tr>\n",
              "    <tr>\n",
              "      <th>201</th>\n",
              "      <td>0</td>\n",
              "      <td>1</td>\n",
              "    </tr>\n",
              "    <tr>\n",
              "      <th>202</th>\n",
              "      <td>0</td>\n",
              "      <td>1</td>\n",
              "    </tr>\n",
              "    <tr>\n",
              "      <th>203</th>\n",
              "      <td>1</td>\n",
              "      <td>0</td>\n",
              "    </tr>\n",
              "    <tr>\n",
              "      <th>204</th>\n",
              "      <td>0</td>\n",
              "      <td>1</td>\n",
              "    </tr>\n",
              "  </tbody>\n",
              "</table>\n",
              "<p>205 rows × 2 columns</p>\n",
              "</div>\n",
              "      <button class=\"colab-df-convert\" onclick=\"convertToInteractive('df-b319796f-3f6c-49ec-b19f-a8a890d56fe5')\"\n",
              "              title=\"Convert this dataframe to an interactive table.\"\n",
              "              style=\"display:none;\">\n",
              "        \n",
              "  <svg xmlns=\"http://www.w3.org/2000/svg\" height=\"24px\"viewBox=\"0 0 24 24\"\n",
              "       width=\"24px\">\n",
              "    <path d=\"M0 0h24v24H0V0z\" fill=\"none\"/>\n",
              "    <path d=\"M18.56 5.44l.94 2.06.94-2.06 2.06-.94-2.06-.94-.94-2.06-.94 2.06-2.06.94zm-11 1L8.5 8.5l.94-2.06 2.06-.94-2.06-.94L8.5 2.5l-.94 2.06-2.06.94zm10 10l.94 2.06.94-2.06 2.06-.94-2.06-.94-.94-2.06-.94 2.06-2.06.94z\"/><path d=\"M17.41 7.96l-1.37-1.37c-.4-.4-.92-.59-1.43-.59-.52 0-1.04.2-1.43.59L10.3 9.45l-7.72 7.72c-.78.78-.78 2.05 0 2.83L4 21.41c.39.39.9.59 1.41.59.51 0 1.02-.2 1.41-.59l7.78-7.78 2.81-2.81c.8-.78.8-2.07 0-2.86zM5.41 20L4 18.59l7.72-7.72 1.47 1.35L5.41 20z\"/>\n",
              "  </svg>\n",
              "      </button>\n",
              "      \n",
              "  <style>\n",
              "    .colab-df-container {\n",
              "      display:flex;\n",
              "      flex-wrap:wrap;\n",
              "      gap: 12px;\n",
              "    }\n",
              "\n",
              "    .colab-df-convert {\n",
              "      background-color: #E8F0FE;\n",
              "      border: none;\n",
              "      border-radius: 50%;\n",
              "      cursor: pointer;\n",
              "      display: none;\n",
              "      fill: #1967D2;\n",
              "      height: 32px;\n",
              "      padding: 0 0 0 0;\n",
              "      width: 32px;\n",
              "    }\n",
              "\n",
              "    .colab-df-convert:hover {\n",
              "      background-color: #E2EBFA;\n",
              "      box-shadow: 0px 1px 2px rgba(60, 64, 67, 0.3), 0px 1px 3px 1px rgba(60, 64, 67, 0.15);\n",
              "      fill: #174EA6;\n",
              "    }\n",
              "\n",
              "    [theme=dark] .colab-df-convert {\n",
              "      background-color: #3B4455;\n",
              "      fill: #D2E3FC;\n",
              "    }\n",
              "\n",
              "    [theme=dark] .colab-df-convert:hover {\n",
              "      background-color: #434B5C;\n",
              "      box-shadow: 0px 1px 3px 1px rgba(0, 0, 0, 0.15);\n",
              "      filter: drop-shadow(0px 1px 2px rgba(0, 0, 0, 0.3));\n",
              "      fill: #FFFFFF;\n",
              "    }\n",
              "  </style>\n",
              "\n",
              "      <script>\n",
              "        const buttonEl =\n",
              "          document.querySelector('#df-b319796f-3f6c-49ec-b19f-a8a890d56fe5 button.colab-df-convert');\n",
              "        buttonEl.style.display =\n",
              "          google.colab.kernel.accessAllowed ? 'block' : 'none';\n",
              "\n",
              "        async function convertToInteractive(key) {\n",
              "          const element = document.querySelector('#df-b319796f-3f6c-49ec-b19f-a8a890d56fe5');\n",
              "          const dataTable =\n",
              "            await google.colab.kernel.invokeFunction('convertToInteractive',\n",
              "                                                     [key], {});\n",
              "          if (!dataTable) return;\n",
              "\n",
              "          const docLinkHtml = 'Like what you see? Visit the ' +\n",
              "            '<a target=\"_blank\" href=https://colab.research.google.com/notebooks/data_table.ipynb>data table notebook</a>'\n",
              "            + ' to learn more about interactive tables.';\n",
              "          element.innerHTML = '';\n",
              "          dataTable['output_type'] = 'display_data';\n",
              "          await google.colab.output.renderOutput(dataTable, element);\n",
              "          const docLink = document.createElement('div');\n",
              "          docLink.innerHTML = docLinkHtml;\n",
              "          element.appendChild(docLink);\n",
              "        }\n",
              "      </script>\n",
              "    </div>\n",
              "  </div>\n",
              "  "
            ]
          },
          "metadata": {},
          "execution_count": 135
        }
      ]
    },
    {
      "cell_type": "markdown",
      "source": [
        "#Labs completed\n",
        "\n",
        "![image.png](data:image/png;base64,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)"
      ],
      "metadata": {
        "id": "AgbFi9J6KqzG"
      }
    }
  ]
}
