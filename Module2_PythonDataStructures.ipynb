{
  "nbformat": 4,
  "nbformat_minor": 0,
  "metadata": {
    "colab": {
      "provenance": [],
      "authorship_tag": "ABX9TyOjgBTkyFy6k4jMzK4sVxfg",
      "include_colab_link": true
    },
    "kernelspec": {
      "name": "python3",
      "display_name": "Python 3"
    },
    "language_info": {
      "name": "python"
    }
  },
  "cells": [
    {
      "cell_type": "markdown",
      "metadata": {
        "id": "view-in-github",
        "colab_type": "text"
      },
      "source": [
        "<a href=\"https://colab.research.google.com/github/PosgradoMNA/actividades-de-aprendizaje-RigobertoVega/blob/main/Module2_PythonDataStructures.ipynb\" target=\"_parent\"><img src=\"https://colab.research.google.com/assets/colab-badge.svg\" alt=\"Open In Colab\"/></a>"
      ]
    },
    {
      "cell_type": "markdown",
      "source": [
        "List and tuples\n",
        "both are on of the key types of data structures in python and called them compound data types.\n",
        "Tuples are an ordered sequence"
      ],
      "metadata": {
        "id": "zHEAhNsVIZjT"
      }
    },
    {
      "cell_type": "code",
      "source": [
        "#tuple are expreses with comma-separated elements within parantheses\n",
        "Ratings = (10, 9, 6, 5, 10, 8, 8 ,6, 2)\n",
        "tuple1 = ('disco', 10, 1.2) # All kind of variables can be within a tuple \n",
        "type(tuple1) # tuple is a type of \"variable\""
      ],
      "metadata": {
        "colab": {
          "base_uri": "https://localhost:8080/"
        },
        "id": "N1CL0kaHIteL",
        "outputId": "a963b14e-c1af-4b45-c1a6-12bea76401ba"
      },
      "execution_count": 1,
      "outputs": [
        {
          "output_type": "execute_result",
          "data": {
            "text/plain": [
              "tuple"
            ]
          },
          "metadata": {},
          "execution_count": 1
        }
      ]
    },
    {
      "cell_type": "code",
      "source": [
        "#we can concatenate tuples with using plus operator\n",
        "tuple2 = tuple1 + (\"hard rock\", 10)\n",
        "print(tuple2)"
      ],
      "metadata": {
        "colab": {
          "base_uri": "https://localhost:8080/"
        },
        "id": "UrAO9BM5JaaI",
        "outputId": "a8ed9780-ec57-4b2f-e8d7-0b7499104609"
      },
      "execution_count": 2,
      "outputs": [
        {
          "output_type": "stream",
          "name": "stdout",
          "text": [
            "('disco', 10, 1.2, 'hard rock', 10)\n"
          ]
        }
      ]
    },
    {
      "cell_type": "code",
      "source": [
        "#same as string we can slice tuples\n",
        "print(tuple2[0:3], tuple2[3:5]) #('disco', 10, 1.2)\n",
        "len(tuple2)"
      ],
      "metadata": {
        "colab": {
          "base_uri": "https://localhost:8080/"
        },
        "id": "C1nWxEOKJoay",
        "outputId": "0648323c-8e5b-4650-9c1a-7bcbf41346f6"
      },
      "execution_count": 4,
      "outputs": [
        {
          "output_type": "stream",
          "name": "stdout",
          "text": [
            "('disco', 10, 1.2) ('hard rock', 10)\n"
          ]
        },
        {
          "output_type": "execute_result",
          "data": {
            "text/plain": [
              "5"
            ]
          },
          "metadata": {},
          "execution_count": 4
        }
      ]
    },
    {
      "cell_type": "code",
      "source": [
        "#tuples are inmmutable, this means the values already on them can be changed with using indexing, but we can change the value and its a good pracite create a new tuple\n",
        "RatingsSorted = sorted(Ratings)\n",
        "print(RatingsSorted)"
      ],
      "metadata": {
        "colab": {
          "base_uri": "https://localhost:8080/"
        },
        "id": "OTbiS9aiKCsO",
        "outputId": "4a78ef8d-7b88-41e3-c8a5-2245227bd73b"
      },
      "execution_count": 8,
      "outputs": [
        {
          "output_type": "stream",
          "name": "stdout",
          "text": [
            "[2, 5, 6, 6, 8, 8, 9, 10, 10]\n"
          ]
        }
      ]
    },
    {
      "cell_type": "code",
      "source": [
        "#Nesting, this means a tupple can contain another tupples\n",
        "NT = (1,2,(\"pop\",\"rock\"),(3,4),(\"disco\",(1,2)))\n",
        "print(NT[2][1]) # NT[2] would be (\"pop\", \"rock\"), but NT[2][1] would be (\"rock\")\n",
        "print(NT[3][0]) # NT[3] would be (1,2), but NT[3][0] would be (3)\n",
        "print(NT[4][1][1]) # NT[4] would be (\"disco\", (1,2)), NT[4][1] would be (1,2) and NT[4][1][1] would be (2)"
      ],
      "metadata": {
        "colab": {
          "base_uri": "https://localhost:8080/"
        },
        "id": "JDxaE5OUKbyE",
        "outputId": "6b8de4bc-38cd-49e3-aa48-fd8c562d6924"
      },
      "execution_count": 10,
      "outputs": [
        {
          "output_type": "stream",
          "name": "stdout",
          "text": [
            "rock\n",
            "3\n",
            "2\n"
          ]
        }
      ]
    },
    {
      "cell_type": "markdown",
      "source": [
        "List\n",
        "they are also an ordered sequence, they are represented with square brackets, they can be similar to tuples, but list are mutuable, which means they values can be changed with just indexing their values in specific positions"
      ],
      "metadata": {
        "id": "kdlO0xdmMcwA"
      }
    },
    {
      "cell_type": "code",
      "source": [
        "List1 = [\"Michael Jackson\", 10.1, 1982] #they can also contain all the variables\n",
        "List2 = [List1, [1,2], ('A',1)] #also as tupples they can contain other list and also can containn other type of data structures like tuples\n",
        "print(List1)\n",
        "print(List2)"
      ],
      "metadata": {
        "colab": {
          "base_uri": "https://localhost:8080/"
        },
        "id": "c5z381TNJ3WN",
        "outputId": "4a7ef785-ab4a-40a2-859c-7a4c6a234f83"
      },
      "execution_count": 11,
      "outputs": [
        {
          "output_type": "stream",
          "name": "stdout",
          "text": [
            "['Michael Jackson', 10.1, 1982]\n",
            "[['Michael Jackson', 10.1, 1982], [1, 2], ('A', 1)]\n"
          ]
        }
      ]
    },
    {
      "cell_type": "code",
      "source": [
        "#they can also be accesed by using their index\n",
        "print(List1[0], List1[-3]) # both would return Michael Jackson\n",
        "#Also can be sliced\n",
        "print(List1[0:2])"
      ],
      "metadata": {
        "colab": {
          "base_uri": "https://localhost:8080/"
        },
        "id": "WDqdHyZbNoGd",
        "outputId": "6a6298cc-9256-445d-dbe1-2c910cc1022e"
      },
      "execution_count": 15,
      "outputs": [
        {
          "output_type": "stream",
          "name": "stdout",
          "text": [
            "Michael Jackson Michael Jackson\n",
            "['Michael Jackson', 10.1]\n"
          ]
        }
      ]
    },
    {
      "cell_type": "code",
      "source": [
        "#They can also be conmbined with the plus simbol\n",
        "List3 = List1 + [10,2]\n",
        "print(List3)"
      ],
      "metadata": {
        "colab": {
          "base_uri": "https://localhost:8080/"
        },
        "id": "5YdhJUa5N8VM",
        "outputId": "77ff9773-3e66-43aa-cbca-230502d8c7db"
      },
      "execution_count": 13,
      "outputs": [
        {
          "output_type": "stream",
          "name": "stdout",
          "text": [
            "['Michael Jackson', 10.1, 1982, 10, 2]\n"
          ]
        }
      ]
    },
    {
      "cell_type": "code",
      "source": [
        "#List are mutuable\n",
        "List1.extend([\"pop\",10]) #add the number of elements pretended, this case 2\n",
        "print(List1)\n",
        "List1.append([\"jazz\",21]) #Add just one more element to the list and this would be a list\n",
        "print(List1)"
      ],
      "metadata": {
        "colab": {
          "base_uri": "https://localhost:8080/"
        },
        "id": "FNX5k12kOKks",
        "outputId": "a9771d70-8773-4932-decd-795f29e0a4b0"
      },
      "execution_count": 21,
      "outputs": [
        {
          "output_type": "stream",
          "name": "stdout",
          "text": [
            "['Michael Jackson', 10.1, 1982, 'pop', 10, 'pop', 10, 'pop', 10]\n",
            "['Michael Jackson', 10.1, 1982, 'pop', 10, 'pop', 10, 'pop', 10, ['jazz', 21]]\n"
          ]
        }
      ]
    },
    {
      "cell_type": "code",
      "source": [
        "#we can delete an element\n",
        "del(List1[6])\n",
        "print(List1)"
      ],
      "metadata": {
        "colab": {
          "base_uri": "https://localhost:8080/"
        },
        "id": "TXJRyZwrOnZ-",
        "outputId": "1e37e804-784f-4192-ec23-28b7d1769b87"
      },
      "execution_count": 27,
      "outputs": [
        {
          "output_type": "stream",
          "name": "stdout",
          "text": [
            "['Michael Jackson', 10.1, 1982, 'pop', 10, 'pop']\n"
          ]
        }
      ]
    },
    {
      "cell_type": "code",
      "source": [
        "#We can split the elements like string\n",
        "List1[0].split()\n",
        "print(List1)"
      ],
      "metadata": {
        "colab": {
          "base_uri": "https://localhost:8080/"
        },
        "id": "2xFPp65MPoV3",
        "outputId": "e4086cad-0b78-4496-fb3f-f115d8260538"
      },
      "execution_count": 29,
      "outputs": [
        {
          "output_type": "stream",
          "name": "stdout",
          "text": [
            "['Michael Jackson', 10.1, 1982, 'pop', 10, 'pop']\n"
          ]
        }
      ]
    },
    {
      "cell_type": "code",
      "source": [
        "#Aliasing, this means when you have two or more list the will share the same values in their elements list\n",
        "ListA=[\"Hard Rock\", 10, 1.2]\n",
        "ListB=ListA\n",
        "print(ListB[0], \"\\n\", ListA[0])"
      ],
      "metadata": {
        "colab": {
          "base_uri": "https://localhost:8080/"
        },
        "id": "cxkYxV4nQfQi",
        "outputId": "ed4687a8-4ee7-4022-baec-89c307d87893"
      },
      "execution_count": 30,
      "outputs": [
        {
          "output_type": "stream",
          "name": "stdout",
          "text": [
            "Hard Rock \n",
            " Hard Rock\n"
          ]
        }
      ]
    },
    {
      "cell_type": "code",
      "source": [],
      "metadata": {
        "id": "h8IOPDNbQ93k"
      },
      "execution_count": null,
      "outputs": []
    }
  ]
}