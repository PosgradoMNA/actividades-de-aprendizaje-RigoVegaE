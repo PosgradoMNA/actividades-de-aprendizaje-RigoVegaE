{
  "nbformat": 4,
  "nbformat_minor": 0,
  "metadata": {
    "colab": {
      "provenance": [],
      "authorship_tag": "ABX9TyNaDto/NOKyodaZpj+X7d3u",
      "include_colab_link": true
    },
    "kernelspec": {
      "name": "python3",
      "display_name": "Python 3"
    },
    "language_info": {
      "name": "python"
    }
  },
  "cells": [
    {
      "cell_type": "markdown",
      "metadata": {
        "id": "view-in-github",
        "colab_type": "text"
      },
      "source": [
        "<a href=\"https://colab.research.google.com/github/PosgradoMNA/actividades-de-aprendizaje-RigobertoVega/blob/main/Module2_PythonDataStructures.ipynb\" target=\"_parent\"><img src=\"https://colab.research.google.com/assets/colab-badge.svg\" alt=\"Open In Colab\"/></a>"
      ]
    },
    {
      "cell_type": "markdown",
      "source": [
        "**Tuples**\n",
        "they are on of the key types of data structures in python and called them compound data types.\n",
        "Tuples are an ordered sequence"
      ],
      "metadata": {
        "id": "zHEAhNsVIZjT"
      }
    },
    {
      "cell_type": "code",
      "source": [],
      "metadata": {
        "id": "KB5s14zMQ3gj"
      },
      "execution_count": null,
      "outputs": []
    },
    {
      "cell_type": "code",
      "source": [
        "#tuple are expreses with comma-separated elements within parantheses\n",
        "Ratings = (10, 9, 6, 5, 10, 8, 8 ,6, 2)\n",
        "tuple1 = ('disco', 10, 1.2) # All kind of variables can be within a tuple \n",
        "type(tuple1) # tuple is a type of \"variable\""
      ],
      "metadata": {
        "colab": {
          "base_uri": "https://localhost:8080/"
        },
        "id": "N1CL0kaHIteL",
        "outputId": "a963b14e-c1af-4b45-c1a6-12bea76401ba"
      },
      "execution_count": null,
      "outputs": [
        {
          "output_type": "execute_result",
          "data": {
            "text/plain": [
              "tuple"
            ]
          },
          "metadata": {},
          "execution_count": 1
        }
      ]
    },
    {
      "cell_type": "code",
      "source": [
        "#we can concatenate tuples with using plus operator\n",
        "tuple2 = tuple1 + (\"hard rock\", 10)\n",
        "print(tuple2)"
      ],
      "metadata": {
        "colab": {
          "base_uri": "https://localhost:8080/"
        },
        "id": "UrAO9BM5JaaI",
        "outputId": "a8ed9780-ec57-4b2f-e8d7-0b7499104609"
      },
      "execution_count": null,
      "outputs": [
        {
          "output_type": "stream",
          "name": "stdout",
          "text": [
            "('disco', 10, 1.2, 'hard rock', 10)\n"
          ]
        }
      ]
    },
    {
      "cell_type": "code",
      "source": [
        "#same as string we can slice tuples\n",
        "print(tuple2[0:3], tuple2[3:5]) #('disco', 10, 1.2)\n",
        "len(tuple2)"
      ],
      "metadata": {
        "colab": {
          "base_uri": "https://localhost:8080/"
        },
        "id": "C1nWxEOKJoay",
        "outputId": "0648323c-8e5b-4650-9c1a-7bcbf41346f6"
      },
      "execution_count": null,
      "outputs": [
        {
          "output_type": "stream",
          "name": "stdout",
          "text": [
            "('disco', 10, 1.2) ('hard rock', 10)\n"
          ]
        },
        {
          "output_type": "execute_result",
          "data": {
            "text/plain": [
              "5"
            ]
          },
          "metadata": {},
          "execution_count": 4
        }
      ]
    },
    {
      "cell_type": "code",
      "source": [
        "#tuples are inmmutable, this means the values already on them can be changed with using indexing, but we can change the value and its a good pracite create a new tuple\n",
        "RatingsSorted = sorted(Ratings)\n",
        "print(RatingsSorted)"
      ],
      "metadata": {
        "colab": {
          "base_uri": "https://localhost:8080/"
        },
        "id": "OTbiS9aiKCsO",
        "outputId": "4a78ef8d-7b88-41e3-c8a5-2245227bd73b"
      },
      "execution_count": null,
      "outputs": [
        {
          "output_type": "stream",
          "name": "stdout",
          "text": [
            "[2, 5, 6, 6, 8, 8, 9, 10, 10]\n"
          ]
        }
      ]
    },
    {
      "cell_type": "code",
      "source": [
        "#Nesting, this means a tupple can contain another tupples\n",
        "NT = (1,2,(\"pop\",\"rock\"),(3,4),(\"disco\",(1,2)))\n",
        "print(NT[2][1]) # NT[2] would be (\"pop\", \"rock\"), but NT[2][1] would be (\"rock\")\n",
        "print(NT[3][0]) # NT[3] would be (1,2), but NT[3][0] would be (3)\n",
        "print(NT[4][1][1]) # NT[4] would be (\"disco\", (1,2)), NT[4][1] would be (1,2) and NT[4][1][1] would be (2)"
      ],
      "metadata": {
        "colab": {
          "base_uri": "https://localhost:8080/"
        },
        "id": "JDxaE5OUKbyE",
        "outputId": "6b8de4bc-38cd-49e3-aa48-fd8c562d6924"
      },
      "execution_count": null,
      "outputs": [
        {
          "output_type": "stream",
          "name": "stdout",
          "text": [
            "rock\n",
            "3\n",
            "2\n"
          ]
        }
      ]
    },
    {
      "cell_type": "markdown",
      "source": [
        "**List**\n",
        "they are also an ordered sequence, they are represented with square brackets, they can be similar to tuples, but list are mutuable, which means they values can be changed with just indexing their values in specific positions"
      ],
      "metadata": {
        "id": "kdlO0xdmMcwA"
      }
    },
    {
      "cell_type": "code",
      "source": [
        "List1 = [\"Michael Jackson\", 10.1, 1982] #they can also contain all the variables\n",
        "List2 = [List1, [1,2], ('A',1)] #also as tupples they can contain other list and also can containn other type of data structures like tuples\n",
        "print(List1)\n",
        "print(List2)"
      ],
      "metadata": {
        "colab": {
          "base_uri": "https://localhost:8080/"
        },
        "id": "c5z381TNJ3WN",
        "outputId": "4a7ef785-ab4a-40a2-859c-7a4c6a234f83"
      },
      "execution_count": null,
      "outputs": [
        {
          "output_type": "stream",
          "name": "stdout",
          "text": [
            "['Michael Jackson', 10.1, 1982]\n",
            "[['Michael Jackson', 10.1, 1982], [1, 2], ('A', 1)]\n"
          ]
        }
      ]
    },
    {
      "cell_type": "code",
      "source": [
        "#they can also be accesed by using their index\n",
        "print(List1[0], List1[-3]) # both would return Michael Jackson\n",
        "#Also can be sliced\n",
        "print(List1[0:2])"
      ],
      "metadata": {
        "colab": {
          "base_uri": "https://localhost:8080/"
        },
        "id": "WDqdHyZbNoGd",
        "outputId": "6a6298cc-9256-445d-dbe1-2c910cc1022e"
      },
      "execution_count": null,
      "outputs": [
        {
          "output_type": "stream",
          "name": "stdout",
          "text": [
            "Michael Jackson Michael Jackson\n",
            "['Michael Jackson', 10.1]\n"
          ]
        }
      ]
    },
    {
      "cell_type": "code",
      "source": [
        "#They can also be conmbined with the plus simbol\n",
        "List3 = List1 + [10,2]\n",
        "print(List3)"
      ],
      "metadata": {
        "colab": {
          "base_uri": "https://localhost:8080/"
        },
        "id": "5YdhJUa5N8VM",
        "outputId": "77ff9773-3e66-43aa-cbca-230502d8c7db"
      },
      "execution_count": null,
      "outputs": [
        {
          "output_type": "stream",
          "name": "stdout",
          "text": [
            "['Michael Jackson', 10.1, 1982, 10, 2]\n"
          ]
        }
      ]
    },
    {
      "cell_type": "code",
      "source": [
        "#List are mutuable\n",
        "List1.extend([\"pop\",10]) #add the number of elements pretended, this case 2\n",
        "print(List1)\n",
        "List1.append([\"jazz\",21]) #Add just one more element to the list and this would be a list\n",
        "print(List1)"
      ],
      "metadata": {
        "colab": {
          "base_uri": "https://localhost:8080/"
        },
        "id": "FNX5k12kOKks",
        "outputId": "a9771d70-8773-4932-decd-795f29e0a4b0"
      },
      "execution_count": null,
      "outputs": [
        {
          "output_type": "stream",
          "name": "stdout",
          "text": [
            "['Michael Jackson', 10.1, 1982, 'pop', 10, 'pop', 10, 'pop', 10]\n",
            "['Michael Jackson', 10.1, 1982, 'pop', 10, 'pop', 10, 'pop', 10, ['jazz', 21]]\n"
          ]
        }
      ]
    },
    {
      "cell_type": "code",
      "source": [
        "#we can delete an element\n",
        "del(List1[6])\n",
        "print(List1)"
      ],
      "metadata": {
        "colab": {
          "base_uri": "https://localhost:8080/"
        },
        "id": "TXJRyZwrOnZ-",
        "outputId": "1e37e804-784f-4192-ec23-28b7d1769b87"
      },
      "execution_count": null,
      "outputs": [
        {
          "output_type": "stream",
          "name": "stdout",
          "text": [
            "['Michael Jackson', 10.1, 1982, 'pop', 10, 'pop']\n"
          ]
        }
      ]
    },
    {
      "cell_type": "code",
      "source": [
        "#We can split the elements like string\n",
        "List1[0].split()\n",
        "print(List1)"
      ],
      "metadata": {
        "colab": {
          "base_uri": "https://localhost:8080/"
        },
        "id": "2xFPp65MPoV3",
        "outputId": "e4086cad-0b78-4496-fb3f-f115d8260538"
      },
      "execution_count": null,
      "outputs": [
        {
          "output_type": "stream",
          "name": "stdout",
          "text": [
            "['Michael Jackson', 10.1, 1982, 'pop', 10, 'pop']\n"
          ]
        }
      ]
    },
    {
      "cell_type": "code",
      "source": [
        "#Aliasing, this means when you have two or more list the will share the same values in their elements list\n",
        "ListA=[\"Hard Rock\", 10, 1.2]\n",
        "ListB=ListA\n",
        "print(ListB[0], \"\\n\", ListA[0])"
      ],
      "metadata": {
        "colab": {
          "base_uri": "https://localhost:8080/"
        },
        "id": "cxkYxV4nQfQi",
        "outputId": "ed4687a8-4ee7-4022-baec-89c307d87893"
      },
      "execution_count": null,
      "outputs": [
        {
          "output_type": "stream",
          "name": "stdout",
          "text": [
            "Hard Rock \n",
            " Hard Rock\n"
          ]
        }
      ]
    },
    {
      "cell_type": "code",
      "source": [
        "#but if you change A, B will change\n",
        "ListA[0]=\"banana\"\n",
        "print(ListB[0], \"\\n\", ListA[0])"
      ],
      "metadata": {
        "colab": {
          "base_uri": "https://localhost:8080/"
        },
        "id": "h8IOPDNbQ93k",
        "outputId": "4bff09e4-28ad-434e-d503-178a3ac14d86"
      },
      "execution_count": null,
      "outputs": [
        {
          "output_type": "stream",
          "name": "stdout",
          "text": [
            "banana \n",
            " banana\n"
          ]
        }
      ]
    },
    {
      "cell_type": "code",
      "source": [
        "#but by using the next sintax, you can clone A in other list and if you make any changes on it this new list would not be affected like in the past example\n",
        "ListA=[\"Hard Rock\", 10, 1.2]\n",
        "ListB=ListA[:]\n",
        "print(ListB[0], \"\\n\", ListA[0])\n",
        "ListA[0]=\"banana\"\n",
        "print(ListB[0], \"\\n\", ListA[0])"
      ],
      "metadata": {
        "colab": {
          "base_uri": "https://localhost:8080/"
        },
        "id": "NS-MUCoWRb2U",
        "outputId": "776a3700-e914-4870-958e-34aba1e15d8a"
      },
      "execution_count": null,
      "outputs": [
        {
          "output_type": "stream",
          "name": "stdout",
          "text": [
            "Hard Rock \n",
            " Hard Rock\n",
            "Hard Rock \n",
            " banana\n"
          ]
        }
      ]
    },
    {
      "cell_type": "code",
      "source": [
        "help(ListA) #this would return the main help by python and their functions"
      ],
      "metadata": {
        "colab": {
          "base_uri": "https://localhost:8080/"
        },
        "id": "CnxZkCeySBJK",
        "outputId": "9177b894-67d6-4530-ac8b-2928223bc118"
      },
      "execution_count": null,
      "outputs": [
        {
          "output_type": "stream",
          "name": "stdout",
          "text": [
            "Help on list object:\n",
            "\n",
            "class list(object)\n",
            " |  list(iterable=(), /)\n",
            " |  \n",
            " |  Built-in mutable sequence.\n",
            " |  \n",
            " |  If no argument is given, the constructor creates a new empty list.\n",
            " |  The argument must be an iterable if specified.\n",
            " |  \n",
            " |  Methods defined here:\n",
            " |  \n",
            " |  __add__(self, value, /)\n",
            " |      Return self+value.\n",
            " |  \n",
            " |  __contains__(self, key, /)\n",
            " |      Return key in self.\n",
            " |  \n",
            " |  __delitem__(self, key, /)\n",
            " |      Delete self[key].\n",
            " |  \n",
            " |  __eq__(self, value, /)\n",
            " |      Return self==value.\n",
            " |  \n",
            " |  __ge__(self, value, /)\n",
            " |      Return self>=value.\n",
            " |  \n",
            " |  __getattribute__(self, name, /)\n",
            " |      Return getattr(self, name).\n",
            " |  \n",
            " |  __getitem__(...)\n",
            " |      x.__getitem__(y) <==> x[y]\n",
            " |  \n",
            " |  __gt__(self, value, /)\n",
            " |      Return self>value.\n",
            " |  \n",
            " |  __iadd__(self, value, /)\n",
            " |      Implement self+=value.\n",
            " |  \n",
            " |  __imul__(self, value, /)\n",
            " |      Implement self*=value.\n",
            " |  \n",
            " |  __init__(self, /, *args, **kwargs)\n",
            " |      Initialize self.  See help(type(self)) for accurate signature.\n",
            " |  \n",
            " |  __iter__(self, /)\n",
            " |      Implement iter(self).\n",
            " |  \n",
            " |  __le__(self, value, /)\n",
            " |      Return self<=value.\n",
            " |  \n",
            " |  __len__(self, /)\n",
            " |      Return len(self).\n",
            " |  \n",
            " |  __lt__(self, value, /)\n",
            " |      Return self<value.\n",
            " |  \n",
            " |  __mul__(self, value, /)\n",
            " |      Return self*value.\n",
            " |  \n",
            " |  __ne__(self, value, /)\n",
            " |      Return self!=value.\n",
            " |  \n",
            " |  __repr__(self, /)\n",
            " |      Return repr(self).\n",
            " |  \n",
            " |  __reversed__(self, /)\n",
            " |      Return a reverse iterator over the list.\n",
            " |  \n",
            " |  __rmul__(self, value, /)\n",
            " |      Return value*self.\n",
            " |  \n",
            " |  __setitem__(self, key, value, /)\n",
            " |      Set self[key] to value.\n",
            " |  \n",
            " |  __sizeof__(self, /)\n",
            " |      Return the size of the list in memory, in bytes.\n",
            " |  \n",
            " |  append(self, object, /)\n",
            " |      Append object to the end of the list.\n",
            " |  \n",
            " |  clear(self, /)\n",
            " |      Remove all items from list.\n",
            " |  \n",
            " |  copy(self, /)\n",
            " |      Return a shallow copy of the list.\n",
            " |  \n",
            " |  count(self, value, /)\n",
            " |      Return number of occurrences of value.\n",
            " |  \n",
            " |  extend(self, iterable, /)\n",
            " |      Extend list by appending elements from the iterable.\n",
            " |  \n",
            " |  index(self, value, start=0, stop=9223372036854775807, /)\n",
            " |      Return first index of value.\n",
            " |      \n",
            " |      Raises ValueError if the value is not present.\n",
            " |  \n",
            " |  insert(self, index, object, /)\n",
            " |      Insert object before index.\n",
            " |  \n",
            " |  pop(self, index=-1, /)\n",
            " |      Remove and return item at index (default last).\n",
            " |      \n",
            " |      Raises IndexError if list is empty or index is out of range.\n",
            " |  \n",
            " |  remove(self, value, /)\n",
            " |      Remove first occurrence of value.\n",
            " |      \n",
            " |      Raises ValueError if the value is not present.\n",
            " |  \n",
            " |  reverse(self, /)\n",
            " |      Reverse *IN PLACE*.\n",
            " |  \n",
            " |  sort(self, /, *, key=None, reverse=False)\n",
            " |      Stable sort *IN PLACE*.\n",
            " |  \n",
            " |  ----------------------------------------------------------------------\n",
            " |  Static methods defined here:\n",
            " |  \n",
            " |  __new__(*args, **kwargs) from builtins.type\n",
            " |      Create and return a new object.  See help(type) for accurate signature.\n",
            " |  \n",
            " |  ----------------------------------------------------------------------\n",
            " |  Data and other attributes defined here:\n",
            " |  \n",
            " |  __hash__ = None\n",
            "\n"
          ]
        }
      ]
    },
    {
      "cell_type": "markdown",
      "source": [
        "**Sets**\n",
        "Sets are also a type of collections. This means that like list and tupples, you can add elements for different type of variable, but unlike list or tupples they are unordered, this means sets do not record position. Sets also only have unique elements, this means there is only one of a particular element in a set. Defininf a set would use curly bracked {}\n"
      ],
      "metadata": {
        "id": "qtln9P--TUc6"
      }
    },
    {
      "cell_type": "code",
      "source": [
        "Set1 = {\"pop\",\"rock\",\"hard rock\", \"rock\", \"R&B\", \"rock\", \"disco\"}\n",
        "print(Set1) # if we see the element we can see \"rock\" as a duplicated item, so in sets this element will be consider as one"
      ],
      "metadata": {
        "colab": {
          "base_uri": "https://localhost:8080/"
        },
        "id": "scIi8PgpSDm2",
        "outputId": "fcc5d6bb-f243-41de-929e-6691526a9edd"
      },
      "execution_count": null,
      "outputs": [
        {
          "output_type": "stream",
          "name": "stdout",
          "text": [
            "{'pop', 'rock', 'hard rock', 'R&B', 'disco'}\n"
          ]
        }
      ]
    },
    {
      "cell_type": "code",
      "source": [
        "#type casting, this means you can covert a list into a set\n",
        "album_list = [\"Michael Jackson\", \"Thriller\", \"Thriller\", 1982] #ordered elements\n",
        "print(album_list)\n",
        "album_set = set(album_list)\n",
        "print(album_set) #unordered elements, and also the duplicated elements will be erased"
      ],
      "metadata": {
        "colab": {
          "base_uri": "https://localhost:8080/"
        },
        "id": "x_8O9vTjVAi-",
        "outputId": "46815285-5707-4fa0-8aa8-6bb2a0cdd451"
      },
      "execution_count": null,
      "outputs": [
        {
          "output_type": "stream",
          "name": "stdout",
          "text": [
            "['Michael Jackson', 'Thriller', 'Thriller', 1982]\n",
            "{'Michael Jackson', 'Thriller', 1982}\n"
          ]
        }
      ]
    },
    {
      "cell_type": "code",
      "source": [
        "#Set operations\n",
        "SetA = {\"Thriller\", \"Back in Back\", \"AC/DC\"}\n",
        "print(SetA)\n",
        "SetA.add(\"NSYNC\") #add an element\n",
        "print(SetA)\n",
        "SetA.remove(\"NSYNC\")  #remove an element\n",
        "print(SetA)\n",
        "#this funcions allow us to know if there is an element in the set we would like to know\n",
        "\"who\" in SetA #not in the set, would be false\n",
        "\"AC/DC\" in SetA #is in the set, would be true"
      ],
      "metadata": {
        "colab": {
          "base_uri": "https://localhost:8080/"
        },
        "id": "-XsSJiy1Vux0",
        "outputId": "f00b2d77-5431-4819-9bab-4c57b630d80e"
      },
      "execution_count": null,
      "outputs": [
        {
          "output_type": "stream",
          "name": "stdout",
          "text": [
            "{'Thriller', 'Back in Back', 'AC/DC'}\n",
            "{'Thriller', 'Back in Back', 'NSYNC', 'AC/DC'}\n",
            "{'Thriller', 'Back in Back', 'AC/DC'}\n"
          ]
        },
        {
          "output_type": "execute_result",
          "data": {
            "text/plain": [
              "True"
            ]
          },
          "metadata": {},
          "execution_count": 42
        }
      ]
    },
    {
      "cell_type": "code",
      "source": [
        "#mathematic funciton of sets, this would overlap the sets, but would just return the same elements on the sets\n",
        "SetB = {\"Thriller\", \"Back in Back\", \"AC/DC\", \"Viva La Vida\"}\n",
        "SetC = SetA & SetB\n",
        "print(SetC)\n",
        "#here we can combine the sets using the funciton .union()\n",
        "SetD = SetA.union(SetB)\n",
        "print(SetD)\n",
        "#this function .issubset will allow us to know if a set elements are present or equal to another set\n",
        "SetB.issubset(SetA)"
      ],
      "metadata": {
        "colab": {
          "base_uri": "https://localhost:8080/"
        },
        "id": "wtIqQUYJXCIe",
        "outputId": "917034d9-898e-4292-9639-f2a86da5036c"
      },
      "execution_count": null,
      "outputs": [
        {
          "output_type": "stream",
          "name": "stdout",
          "text": [
            "{'Thriller', 'Back in Back', 'AC/DC'}\n",
            "{'Thriller', 'Back in Back', 'AC/DC', 'Viva La Vida'}\n"
          ]
        },
        {
          "output_type": "execute_result",
          "data": {
            "text/plain": [
              "False"
            ]
          },
          "metadata": {},
          "execution_count": 47
        }
      ]
    },
    {
      "cell_type": "markdown",
      "source": [
        "**Dictionary**\n",
        "Dictionaries are a type of collection. if you use a list that has any variable, this list would have integer indexes like adresses where the information would be storaged. This collections have keys alongside the values, this key is an analogous to the specific index, they are like adresses but this does not have to be aninteger, the are usually characters the values are similar to the elements in a list and a contain information"
      ],
      "metadata": {
        "id": "P-wVZr_6s2Dv"
      }
    },
    {
      "cell_type": "code",
      "source": [
        "#Dictionaries, we use curly brackets\n",
        "Dict1 = {\"Thriller\": 1982, \"Back in Back\": 1980, \"The Dark Side of the moon\": 1973, \"The bodyguard\": 1992}\n",
        "#the keys are Thriller, Back in back, The Dark Side of the Moon, The Bodyguard\n",
        "#The values are 1982, 1980, 1973, 1992\n",
        "\n",
        "#we can obtain the value, just with using its key\n",
        "print(Dict1[\"Thriller\"])\n",
        "#This command would help us to know if a key is a dictionary\n",
        "\"The bodyguard\" in Dict1\n",
        "#this command would let us know all the keys\n",
        "Dict1.keys()"
      ],
      "metadata": {
        "colab": {
          "base_uri": "https://localhost:8080/"
        },
        "id": "-mwTS9iCt9oK",
        "outputId": "eb52503e-c14f-45f3-ea96-14cda851c03d"
      },
      "execution_count": null,
      "outputs": [
        {
          "output_type": "stream",
          "name": "stdout",
          "text": [
            "1982\n"
          ]
        },
        {
          "output_type": "execute_result",
          "data": {
            "text/plain": [
              "dict_keys(['Thriller', 'Back in Back', 'The Dark Side of the moon', 'The bodyguard'])"
            ]
          },
          "metadata": {},
          "execution_count": 50
        }
      ]
    },
    {
      "cell_type": "code",
      "source": [
        "#Quiz on Tupples\n",
        "genres_tuple = (\"pop\", \"rock\", \"soul\", \"hard rock\", \"soft rock\", \\\n",
        "                \"R&B\", \"progressive rock\", \"disco\") \n",
        "# find the tuple length\n",
        "len(genres_tuple) \n",
        "# Access the element, with respect to index 3\n",
        "print(genres_tuple[3]) \n",
        "# Use slicing to obtain indexes 3, 4 and 5:\n",
        "print(genres_tuple[3:6]) \n",
        "#Find the first two elements of the tuple genres_tuple\n",
        "print(genres_tuple[0:2]) \n",
        "# Find the first index of \"disco\"\n",
        "print(genres_tuple.index(\"disco\"))\n",
        "# Generate a sorted List from the Tuple C_tuple=(-5, 1, -3):\n",
        "C_tuple=(-5, 1, -3)\n",
        "sorted_C_tuple = sorted(C_tuple)\n",
        "print(sorted_C_tuple)"
      ],
      "metadata": {
        "colab": {
          "base_uri": "https://localhost:8080/"
        },
        "id": "RvDIJsbaQ5cj",
        "outputId": "0b8fc2c0-7c73-421a-b33f-9ec66271d0bf"
      },
      "execution_count": 5,
      "outputs": [
        {
          "output_type": "stream",
          "name": "stdout",
          "text": [
            "hard rock\n",
            "('hard rock', 'soft rock', 'R&B')\n",
            "('pop', 'rock')\n",
            "7\n",
            "[-5, -3, 1]\n"
          ]
        }
      ]
    },
    {
      "cell_type": "code",
      "source": [
        "# Quiz on List\n",
        "# Create a list a_list, with the following elements 1, hello, [1,2,3] and True\n",
        "a_list = [1, \"hello\", [1,2,3], True]\n",
        "print(a_list)\n",
        "#Find the value stored at index 1 of a_list.\n",
        "print(a_list[1])\n",
        "#Retrieve the elements stores at index 1,2 and 3 of a_list\n",
        "print(a_list[1:4])\n",
        "#Concatenate the following lists <code>A = \\[1, 'a']</code> and <code>B = \\[2, 1, 'd']</code>:\n",
        "A = [1, 'a'] \n",
        "B = [2, 1, 'd']\n",
        "C= A + B\n",
        "print(C)"
      ],
      "metadata": {
        "colab": {
          "base_uri": "https://localhost:8080/"
        },
        "id": "oAfOIa1zSsXR",
        "outputId": "405b0be2-0b7b-446f-f44e-9ca3caf83211"
      },
      "execution_count": 10,
      "outputs": [
        {
          "output_type": "stream",
          "name": "stdout",
          "text": [
            "[1, 'hello', [1, 2, 3], True]\n",
            "hello\n",
            "['hello', [1, 2, 3], True]\n",
            "[1, 'a', 2, 1, 'd']\n"
          ]
        }
      ]
    }
  ]
}