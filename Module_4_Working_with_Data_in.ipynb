{
  "nbformat": 4,
  "nbformat_minor": 0,
  "metadata": {
    "colab": {
      "provenance": [],
      "mount_file_id": "12rPoVKBhEiAWXNEUezVXGDYvv6fW2iV0",
      "authorship_tag": "ABX9TyOaK/VLTUTBFSXIi2c3nFfY",
      "include_colab_link": true
    },
    "kernelspec": {
      "name": "python3",
      "display_name": "Python 3"
    },
    "language_info": {
      "name": "python"
    }
  },
  "cells": [
    {
      "cell_type": "markdown",
      "metadata": {
        "id": "view-in-github",
        "colab_type": "text"
      },
      "source": [
        "<a href=\"https://colab.research.google.com/github/PosgradoMNA/actividades-de-aprendizaje-RigobertoVega/blob/main/Module_4_Working_with_Data_in.ipynb\" target=\"_parent\"><img src=\"https://colab.research.google.com/assets/colab-badge.svg\" alt=\"Open In Colab\"/></a>"
      ]
    },
    {
      "cell_type": "markdown",
      "source": [
        "**Reading Files With Open**\n",
        "\n",
        "Open function help us to open a file with Python."
      ],
      "metadata": {
        "id": "6nOWGRCqgkkI"
      }
    },
    {
      "cell_type": "code",
      "source": [
        "#Function open\n",
        "\n",
        "#Here we have the directory or path of the file\n",
        "#Also we have the parameter, 'r' for read, 'w' for write and 'a' for appending.\n",
        "File1 = open(\"/content/drive/MyDrive/Colab Notebooks/Data for Module 4/example1.txt\",\"w\")\n",
        "File1.mode(\"r\")\n",
        "File1.close()\n",
        "#this code will cause error, just as an example\n",
        "# Using this path to open the file it is not the best practice, we will start using the With Statement\n"
      ],
      "metadata": {
        "colab": {
          "base_uri": "https://localhost:8080/",
          "height": 235
        },
        "id": "1Wu1ga3jh0mf",
        "outputId": "4a9f8193-030a-4206-c54f-6c67901cf04d"
      },
      "execution_count": 3,
      "outputs": [
        {
          "output_type": "error",
          "ename": "TypeError",
          "evalue": "ignored",
          "traceback": [
            "\u001b[0;31m---------------------------------------------------------------------------\u001b[0m",
            "\u001b[0;31mTypeError\u001b[0m                                 Traceback (most recent call last)",
            "\u001b[0;32m<ipython-input-3-f9149bedc56f>\u001b[0m in \u001b[0;36m<module>\u001b[0;34m\u001b[0m\n\u001b[1;32m      4\u001b[0m \u001b[0;31m#Also we have the parameter, 'r' for read, 'w' for write and 'a' for appending.\u001b[0m\u001b[0;34m\u001b[0m\u001b[0;34m\u001b[0m\u001b[0;34m\u001b[0m\u001b[0m\n\u001b[1;32m      5\u001b[0m \u001b[0mFile1\u001b[0m \u001b[0;34m=\u001b[0m \u001b[0mopen\u001b[0m\u001b[0;34m(\u001b[0m\u001b[0;34m\"/content/drive/MyDrive/Colab Notebooks/Data for Module 4/example1.txt\"\u001b[0m\u001b[0;34m,\u001b[0m\u001b[0;34m\"w\"\u001b[0m\u001b[0;34m)\u001b[0m\u001b[0;34m\u001b[0m\u001b[0;34m\u001b[0m\u001b[0m\n\u001b[0;32m----> 6\u001b[0;31m \u001b[0mFile1\u001b[0m\u001b[0;34m.\u001b[0m\u001b[0mmode\u001b[0m\u001b[0;34m(\u001b[0m\u001b[0;34m\"r\"\u001b[0m\u001b[0;34m)\u001b[0m\u001b[0;34m\u001b[0m\u001b[0;34m\u001b[0m\u001b[0m\n\u001b[0m\u001b[1;32m      7\u001b[0m \u001b[0mFile1\u001b[0m\u001b[0;34m.\u001b[0m\u001b[0mclose\u001b[0m\u001b[0;34m(\u001b[0m\u001b[0;34m)\u001b[0m\u001b[0;34m\u001b[0m\u001b[0;34m\u001b[0m\u001b[0m\n\u001b[1;32m      8\u001b[0m \u001b[0;31m#this code will cause error, just as an example\u001b[0m\u001b[0;34m\u001b[0m\u001b[0;34m\u001b[0m\u001b[0;34m\u001b[0m\u001b[0m\n",
            "\u001b[0;31mTypeError\u001b[0m: 'str' object is not callable"
          ]
        }
      ]
    },
    {
      "cell_type": "markdown",
      "source": [
        "**With statement**\n",
        "\n",
        "Using a with statement to open the file is better practice because it automatically closes the file and a better practice using this way."
      ],
      "metadata": {
        "id": "QGAOhVS1idnq"
      }
    },
    {
      "cell_type": "code",
      "source": [
        "#First example of using with statement.\n",
        "with open(\"/content/example1.txt\",\"r\") as File1: #here we create the object File\n",
        "  file_stuff = File1.read() #Here we use the method read to see the elements inside the file\n",
        "  print(file_stuff)\n",
        "print(File1.closed)\n",
        "print(file_stuff)"
      ],
      "metadata": {
        "colab": {
          "base_uri": "https://localhost:8080/"
        },
        "id": "fGqIFr1TjDUh",
        "outputId": "9cd6edf7-f868-4fa9-d6a5-21e29fa8019e"
      },
      "execution_count": 7,
      "outputs": [
        {
          "output_type": "stream",
          "name": "stdout",
          "text": [
            "This is line 1 \n",
            "This is line 2\n",
            "This is line 3\n",
            "True\n",
            "This is line 1 \n",
            "This is line 2\n",
            "This is line 3\n"
          ]
        }
      ]
    }
  ]
}