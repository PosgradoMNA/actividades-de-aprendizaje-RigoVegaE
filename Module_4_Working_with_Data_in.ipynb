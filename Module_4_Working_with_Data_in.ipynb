{
  "nbformat": 4,
  "nbformat_minor": 0,
  "metadata": {
    "colab": {
      "provenance": [],
      "collapsed_sections": [],
      "mount_file_id": "12rPoVKBhEiAWXNEUezVXGDYvv6fW2iV0",
      "authorship_tag": "ABX9TyNdzAfAMl3GAgkBFa10IG3F",
      "include_colab_link": true
    },
    "kernelspec": {
      "name": "python3",
      "display_name": "Python 3"
    },
    "language_info": {
      "name": "python"
    }
  },
  "cells": [
    {
      "cell_type": "markdown",
      "metadata": {
        "id": "view-in-github",
        "colab_type": "text"
      },
      "source": [
        "<a href=\"https://colab.research.google.com/github/PosgradoMNA/actividades-de-aprendizaje-RigobertoVega/blob/main/Module_4_Working_with_Data_in.ipynb\" target=\"_parent\"><img src=\"https://colab.research.google.com/assets/colab-badge.svg\" alt=\"Open In Colab\"/></a>"
      ]
    },
    {
      "cell_type": "markdown",
      "source": [
        "**Reading Files With Open**\n",
        "\n",
        "Open function help us to open a file with Python."
      ],
      "metadata": {
        "id": "6nOWGRCqgkkI"
      }
    },
    {
      "cell_type": "code",
      "source": [
        "#Function open\n",
        "\n",
        "#Here we have the directory or path of the file\n",
        "#Also we have the parameter, 'r' for read, 'w' for write and 'a' for appending.\n",
        "File1 = open(\"/content/drive/MyDrive/Colab Notebooks/Data for Module 4/example1.txt\",\"w\")\n",
        "File1.mode(\"r\")\n",
        "File1.close()\n",
        "#this code will cause error, just as an example\n",
        "# Using this path to open the file it is not the best practice, we will start using the With Statement\n"
      ],
      "metadata": {
        "colab": {
          "base_uri": "https://localhost:8080/",
          "height": 235
        },
        "id": "1Wu1ga3jh0mf",
        "outputId": "4a9f8193-030a-4206-c54f-6c67901cf04d"
      },
      "execution_count": null,
      "outputs": [
        {
          "output_type": "error",
          "ename": "TypeError",
          "evalue": "ignored",
          "traceback": [
            "\u001b[0;31m---------------------------------------------------------------------------\u001b[0m",
            "\u001b[0;31mTypeError\u001b[0m                                 Traceback (most recent call last)",
            "\u001b[0;32m<ipython-input-3-f9149bedc56f>\u001b[0m in \u001b[0;36m<module>\u001b[0;34m\u001b[0m\n\u001b[1;32m      4\u001b[0m \u001b[0;31m#Also we have the parameter, 'r' for read, 'w' for write and 'a' for appending.\u001b[0m\u001b[0;34m\u001b[0m\u001b[0;34m\u001b[0m\u001b[0;34m\u001b[0m\u001b[0m\n\u001b[1;32m      5\u001b[0m \u001b[0mFile1\u001b[0m \u001b[0;34m=\u001b[0m \u001b[0mopen\u001b[0m\u001b[0;34m(\u001b[0m\u001b[0;34m\"/content/drive/MyDrive/Colab Notebooks/Data for Module 4/example1.txt\"\u001b[0m\u001b[0;34m,\u001b[0m\u001b[0;34m\"w\"\u001b[0m\u001b[0;34m)\u001b[0m\u001b[0;34m\u001b[0m\u001b[0;34m\u001b[0m\u001b[0m\n\u001b[0;32m----> 6\u001b[0;31m \u001b[0mFile1\u001b[0m\u001b[0;34m.\u001b[0m\u001b[0mmode\u001b[0m\u001b[0;34m(\u001b[0m\u001b[0;34m\"r\"\u001b[0m\u001b[0;34m)\u001b[0m\u001b[0;34m\u001b[0m\u001b[0;34m\u001b[0m\u001b[0m\n\u001b[0m\u001b[1;32m      7\u001b[0m \u001b[0mFile1\u001b[0m\u001b[0;34m.\u001b[0m\u001b[0mclose\u001b[0m\u001b[0;34m(\u001b[0m\u001b[0;34m)\u001b[0m\u001b[0;34m\u001b[0m\u001b[0;34m\u001b[0m\u001b[0m\n\u001b[1;32m      8\u001b[0m \u001b[0;31m#this code will cause error, just as an example\u001b[0m\u001b[0;34m\u001b[0m\u001b[0;34m\u001b[0m\u001b[0;34m\u001b[0m\u001b[0m\n",
            "\u001b[0;31mTypeError\u001b[0m: 'str' object is not callable"
          ]
        }
      ]
    },
    {
      "cell_type": "markdown",
      "source": [
        "**With statement**\n",
        "\n",
        "Using a with statement to open the file is better practice because it automatically closes the file and a better practice using this way."
      ],
      "metadata": {
        "id": "QGAOhVS1idnq"
      }
    },
    {
      "cell_type": "code",
      "source": [
        "#First example of using with statement.\n",
        "with open(\"/content/example1.txt\",\"r\") as File1: #here we create the object File\n",
        "  file_stuff = File1.read() #Here we use the method read to see the elements inside the file\n",
        "  print(file_stuff)\n",
        "print(File1.closed)\n",
        "print(file_stuff)"
      ],
      "metadata": {
        "colab": {
          "base_uri": "https://localhost:8080/"
        },
        "id": "fGqIFr1TjDUh",
        "outputId": "9cd6edf7-f868-4fa9-d6a5-21e29fa8019e"
      },
      "execution_count": null,
      "outputs": [
        {
          "output_type": "stream",
          "name": "stdout",
          "text": [
            "This is line 1 \n",
            "This is line 2\n",
            "This is line 3\n",
            "True\n",
            "This is line 1 \n",
            "This is line 2\n",
            "This is line 3\n"
          ]
        }
      ]
    },
    {
      "cell_type": "code",
      "source": [
        "#First example of using with statement.\n",
        "with open(\"/content/example1.txt\",\"r\") as File1: #here we create the object File\n",
        "  file_stuff = File1.readlines() #Here we use the method read every index position to the file\n",
        "  print(file_stuff) #here we will have the list with the elements placed in their order\n",
        "\n",
        "with open(\"/content/example1.txt\",\"r\") as File1: #here we create the object File\n",
        "  file_stuff = File1.read(16) #Here we use the method read ethe first 16 characters of the file\n",
        "  print(file_stuff) #This is line 1 /n\n",
        "  file_stuff = File1.read(5) #Here as we called a second time we will read the next 5 characters\n",
        "  print(file_stuff) #This\n",
        "  file_stuff = File1.read(9) #Here as we called a third time we will read the next 9 characters\n",
        "  print(file_stuff) #is line 2"
      ],
      "metadata": {
        "colab": {
          "base_uri": "https://localhost:8080/"
        },
        "id": "B9AJe2JZltl-",
        "outputId": "d0106931-2d90-4915-9d0c-fe1a784cbf16"
      },
      "execution_count": null,
      "outputs": [
        {
          "output_type": "stream",
          "name": "stdout",
          "text": [
            "['This is line 1 \\n', 'This is line 2\\n', 'This is line 3']\n",
            "This is line 1 \n",
            "\n",
            "This \n",
            "is line 2\n"
          ]
        }
      ]
    },
    {
      "cell_type": "markdown",
      "source": [
        "**Writing Files with Open**\n",
        "\n"
      ],
      "metadata": {
        "id": "BRf_Nqxrn45g"
      }
    },
    {
      "cell_type": "code",
      "source": [
        "Lines = [\"This is line A\\n\", \"This is line B\\n\", \"This is line C\\n\" ] #The list of elements we want to upload to the file\n",
        "with open(\"/content/example2.txt\",\"w\") as File1: #Sintaxis of how to open and prepared the object to be modified with the object File 1\n",
        "  for line in Lines:\n",
        "    File1.write(line) #using the write method we write in the file every element of the list thanks yo the for loop\n"
      ],
      "metadata": {
        "id": "kbq1ANTToEwa"
      },
      "execution_count": null,
      "outputs": []
    },
    {
      "cell_type": "code",
      "source": [
        "#Copying Files\n",
        "with open(\"/content/example1.txt\",\"r\") as ReadFile: #Here we open and read the file 1\n",
        "  with open(\"/content/example3.txt\",\"w\") as WriteFile: #Sintaxis of how to open and prepared the object to be modified with the object File 3\n",
        "    for line in ReadFile:\n",
        "      WriteFile.write(line) #using the write method we write in the file 3 every element of the file 1 thanks yo the for loop"
      ],
      "metadata": {
        "id": "OUUPb3YVpNNj"
      },
      "execution_count": null,
      "outputs": []
    },
    {
      "cell_type": "markdown",
      "source": [
        "**Loading Data with Pandas**\n",
        "\n",
        "Dependencies or libraries are pre-written code to help solve problems. We can import the libraries to access a prebuild funcitons and clases thanks to the Pandas Developers"
      ],
      "metadata": {
        "id": "nMehnPPcp94t"
      }
    },
    {
      "cell_type": "code",
      "source": [
        "import pandas #importing the library\n",
        "csv_path= '/content/ex4.csv' #variable to save the file location\n",
        "df = pandas.read_csv(csv_path) #sintaxis to read the file with panda's classes\n",
        "\n",
        "df.head() #Here we used the method head() to see the first 5 rows of the data frame\n"
      ],
      "metadata": {
        "colab": {
          "base_uri": "https://localhost:8080/",
          "height": 206
        },
        "id": "95GM_UlaqyL_",
        "outputId": "3a94d4cc-a323-464d-f168-801c793efdce"
      },
      "execution_count": null,
      "outputs": [
        {
          "output_type": "execute_result",
          "data": {
            "text/plain": [
              "                  Day  ONE_DAY_PRECIPITATION\n",
              "0  2020-06-01 0:00:00                    1.0\n",
              "1  2020-06-02 0:00:00                    5.6\n",
              "2  2020-06-03 0:00:00                    4.1\n",
              "3  2020-06-04 0:00:00                    4.0\n",
              "4  2020-06-05 0:00:00                    6.2"
            ],
            "text/html": [
              "\n",
              "  <div id=\"df-c5a8640b-7ff1-48c0-ba75-5df4411f9486\">\n",
              "    <div class=\"colab-df-container\">\n",
              "      <div>\n",
              "<style scoped>\n",
              "    .dataframe tbody tr th:only-of-type {\n",
              "        vertical-align: middle;\n",
              "    }\n",
              "\n",
              "    .dataframe tbody tr th {\n",
              "        vertical-align: top;\n",
              "    }\n",
              "\n",
              "    .dataframe thead th {\n",
              "        text-align: right;\n",
              "    }\n",
              "</style>\n",
              "<table border=\"1\" class=\"dataframe\">\n",
              "  <thead>\n",
              "    <tr style=\"text-align: right;\">\n",
              "      <th></th>\n",
              "      <th>Day</th>\n",
              "      <th>ONE_DAY_PRECIPITATION</th>\n",
              "    </tr>\n",
              "  </thead>\n",
              "  <tbody>\n",
              "    <tr>\n",
              "      <th>0</th>\n",
              "      <td>2020-06-01 0:00:00</td>\n",
              "      <td>1.0</td>\n",
              "    </tr>\n",
              "    <tr>\n",
              "      <th>1</th>\n",
              "      <td>2020-06-02 0:00:00</td>\n",
              "      <td>5.6</td>\n",
              "    </tr>\n",
              "    <tr>\n",
              "      <th>2</th>\n",
              "      <td>2020-06-03 0:00:00</td>\n",
              "      <td>4.1</td>\n",
              "    </tr>\n",
              "    <tr>\n",
              "      <th>3</th>\n",
              "      <td>2020-06-04 0:00:00</td>\n",
              "      <td>4.0</td>\n",
              "    </tr>\n",
              "    <tr>\n",
              "      <th>4</th>\n",
              "      <td>2020-06-05 0:00:00</td>\n",
              "      <td>6.2</td>\n",
              "    </tr>\n",
              "  </tbody>\n",
              "</table>\n",
              "</div>\n",
              "      <button class=\"colab-df-convert\" onclick=\"convertToInteractive('df-c5a8640b-7ff1-48c0-ba75-5df4411f9486')\"\n",
              "              title=\"Convert this dataframe to an interactive table.\"\n",
              "              style=\"display:none;\">\n",
              "        \n",
              "  <svg xmlns=\"http://www.w3.org/2000/svg\" height=\"24px\"viewBox=\"0 0 24 24\"\n",
              "       width=\"24px\">\n",
              "    <path d=\"M0 0h24v24H0V0z\" fill=\"none\"/>\n",
              "    <path d=\"M18.56 5.44l.94 2.06.94-2.06 2.06-.94-2.06-.94-.94-2.06-.94 2.06-2.06.94zm-11 1L8.5 8.5l.94-2.06 2.06-.94-2.06-.94L8.5 2.5l-.94 2.06-2.06.94zm10 10l.94 2.06.94-2.06 2.06-.94-2.06-.94-.94-2.06-.94 2.06-2.06.94z\"/><path d=\"M17.41 7.96l-1.37-1.37c-.4-.4-.92-.59-1.43-.59-.52 0-1.04.2-1.43.59L10.3 9.45l-7.72 7.72c-.78.78-.78 2.05 0 2.83L4 21.41c.39.39.9.59 1.41.59.51 0 1.02-.2 1.41-.59l7.78-7.78 2.81-2.81c.8-.78.8-2.07 0-2.86zM5.41 20L4 18.59l7.72-7.72 1.47 1.35L5.41 20z\"/>\n",
              "  </svg>\n",
              "      </button>\n",
              "      \n",
              "  <style>\n",
              "    .colab-df-container {\n",
              "      display:flex;\n",
              "      flex-wrap:wrap;\n",
              "      gap: 12px;\n",
              "    }\n",
              "\n",
              "    .colab-df-convert {\n",
              "      background-color: #E8F0FE;\n",
              "      border: none;\n",
              "      border-radius: 50%;\n",
              "      cursor: pointer;\n",
              "      display: none;\n",
              "      fill: #1967D2;\n",
              "      height: 32px;\n",
              "      padding: 0 0 0 0;\n",
              "      width: 32px;\n",
              "    }\n",
              "\n",
              "    .colab-df-convert:hover {\n",
              "      background-color: #E2EBFA;\n",
              "      box-shadow: 0px 1px 2px rgba(60, 64, 67, 0.3), 0px 1px 3px 1px rgba(60, 64, 67, 0.15);\n",
              "      fill: #174EA6;\n",
              "    }\n",
              "\n",
              "    [theme=dark] .colab-df-convert {\n",
              "      background-color: #3B4455;\n",
              "      fill: #D2E3FC;\n",
              "    }\n",
              "\n",
              "    [theme=dark] .colab-df-convert:hover {\n",
              "      background-color: #434B5C;\n",
              "      box-shadow: 0px 1px 3px 1px rgba(0, 0, 0, 0.15);\n",
              "      filter: drop-shadow(0px 1px 2px rgba(0, 0, 0, 0.3));\n",
              "      fill: #FFFFFF;\n",
              "    }\n",
              "  </style>\n",
              "\n",
              "      <script>\n",
              "        const buttonEl =\n",
              "          document.querySelector('#df-c5a8640b-7ff1-48c0-ba75-5df4411f9486 button.colab-df-convert');\n",
              "        buttonEl.style.display =\n",
              "          google.colab.kernel.accessAllowed ? 'block' : 'none';\n",
              "\n",
              "        async function convertToInteractive(key) {\n",
              "          const element = document.querySelector('#df-c5a8640b-7ff1-48c0-ba75-5df4411f9486');\n",
              "          const dataTable =\n",
              "            await google.colab.kernel.invokeFunction('convertToInteractive',\n",
              "                                                     [key], {});\n",
              "          if (!dataTable) return;\n",
              "\n",
              "          const docLinkHtml = 'Like what you see? Visit the ' +\n",
              "            '<a target=\"_blank\" href=https://colab.research.google.com/notebooks/data_table.ipynb>data table notebook</a>'\n",
              "            + ' to learn more about interactive tables.';\n",
              "          element.innerHTML = '';\n",
              "          dataTable['output_type'] = 'display_data';\n",
              "          await google.colab.output.renderOutput(dataTable, element);\n",
              "          const docLink = document.createElement('div');\n",
              "          docLink.innerHTML = docLinkHtml;\n",
              "          element.appendChild(docLink);\n",
              "        }\n",
              "      </script>\n",
              "    </div>\n",
              "  </div>\n",
              "  "
            ]
          },
          "metadata": {},
          "execution_count": 58
        }
      ]
    },
    {
      "cell_type": "markdown",
      "source": [
        "Use panda to create a dataframe"
      ],
      "metadata": {
        "id": "hZ3g0fRTrekD"
      }
    },
    {
      "cell_type": "code",
      "source": [
        "import pandas as pd #importing the libraries and creating an class called pd\n",
        "#here in the dictionary we use to create the data frame, the kwys are the columns lables, and the values are list of corresponding data to the rows\n",
        "songs = {'Album': ['Thriller','Back in Back', 'The Dark Side of the Moon', 'The Bodyguard', 'Bat Out of Hell'],\n",
        "         'Released': [1982, 1980, 1973, 1992, 1997],\n",
        "         'Length':['00:42:19', '00:42:11', '00:42:49','00:57:44', '00:46:33']}\n",
        "\n",
        "songs_frame = pd.DataFrame(songs)\n",
        "print(songs_frame.head())\n",
        "print(type(songs_frame))\n",
        "#using the method \".ix()\" or \"\".iloc[]\" will allow you to acces just a part of the file or even indexing the value from the file\n",
        "print(songs_frame.iloc[0,0]) #Obtain the first row and column\n",
        "print(songs_frame.iloc[1,0]) #Obtain the second row and first column\n",
        "print(songs_frame.iloc[0,2]) #Obtain the first row and third column\n",
        "print(songs_frame.iloc[0:2, 0:3]) #Obtain from the first row and second column to the first row and third columb\n",
        "#function \".loc\" also used for reading the data from dataframe, but this funciton allow us to choose a label column by their name\n",
        "print(songs_frame.loc[0,'Released']) #Obtain the first row from the column 'Released'\n",
        "print(songs_frame.loc[3,'Album']) \n",
        "print(songs_frame.loc[0:3, 'Album':'Released']) #Slice and obtain the first four data of the columns selected\n"
      ],
      "metadata": {
        "colab": {
          "base_uri": "https://localhost:8080/"
        },
        "id": "nK8uly31rinI",
        "outputId": "2113d992-af73-4aa9-8cfc-f1a186d4731f"
      },
      "execution_count": null,
      "outputs": [
        {
          "output_type": "stream",
          "name": "stdout",
          "text": [
            "                       Album  Released    Length\n",
            "0                   Thriller      1982  00:42:19\n",
            "1               Back in Back      1980  00:42:11\n",
            "2  The Dark Side of the Moon      1973  00:42:49\n",
            "3              The Bodyguard      1992  00:57:44\n",
            "4            Bat Out of Hell      1997  00:46:33\n",
            "<class 'pandas.core.frame.DataFrame'>\n",
            "Thriller\n",
            "Back in Back\n",
            "00:42:19\n",
            "          Album  Released    Length\n",
            "0      Thriller      1982  00:42:19\n",
            "1  Back in Back      1980  00:42:11\n",
            "1982\n",
            "The Bodyguard\n",
            "                       Album  Released\n",
            "0                   Thriller      1982\n",
            "1               Back in Back      1980\n",
            "2  The Dark Side of the Moon      1973\n",
            "3              The Bodyguard      1992\n"
          ]
        }
      ]
    },
    {
      "cell_type": "markdown",
      "source": [
        "**Saving Data with Panda**"
      ],
      "metadata": {
        "id": "k45mlfxBxejt"
      }
    },
    {
      "cell_type": "code",
      "source": [
        "#unique method will allow us to just have the unique values in a list or dataset\n",
        "songs = {'Released': [1982, 1980, 1973, 1992, 1998, 1976, 1977, 1977]}\n",
        "released_frame = pd.DataFrame(songs)\n",
        "released_frame['Released'].unique() #this will just show up one 1977\n",
        "df1 = released_frame['Released']>=1980 #Here the class will be evaluted the data if is equal or grater than 1980 and will show a boolean\n",
        "df1.to_csv('new_songes.csv') #with this funciton we will create a new file called the same name as the argument.\n"
      ],
      "metadata": {
        "id": "u0TsQgYtxVrW"
      },
      "execution_count": null,
      "outputs": []
    },
    {
      "cell_type": "markdown",
      "source": [
        "**Excercise**\n",
        "\n",
        "\n",
        "Your local university's Raptors fan club maintains a register of its active members on a .txt document. Every month they update the file by removing the members who are not active. You have been tasked with automating this with your Python skills.\n",
        "Given the file currentMem, Remove each member with a 'no' in their Active column. Keep track of each of the removed members and append them to the exMem file. Make sure that the format of the original files in preserved. (Hint: Do this by reading/writing whole lines and ensuring the header remains )\n",
        "Run the code block below prior to starting the exercise. The skeleton code has been provided for you. Edit only the cleanFiles function."
      ],
      "metadata": {
        "id": "xv5iWfRg1hti"
      }
    },
    {
      "cell_type": "code",
      "source": [
        "#Run this prior to starting the exercise\n",
        "from random import randint as rnd\n",
        "\n",
        "memReg = 'members.txt'\n",
        "exReg = 'inactive.txt'\n",
        "fee =('yes','no')\n",
        "\n",
        "def genFiles(current,old):\n",
        "    with open(current,'w+') as writefile: \n",
        "        writefile.write('Membership No  Date Joined  Active  \\n')\n",
        "        data = \"{:^13}  {:<11}  {:<6}\\n\"\n",
        "\n",
        "        for rowno in range(20):\n",
        "            date = str(rnd(2015,2020))+ '-' + str(rnd(1,12))+'-'+str(rnd(1,25))\n",
        "            writefile.write(data.format(rnd(10000,99999),date,fee[rnd(0,1)]))\n",
        "\n",
        "\n",
        "    with open(old,'w+') as writefile: \n",
        "        writefile.write('Membership No  Date Joined  Active  \\n')\n",
        "        data = \"{:^13}  {:<11}  {:<6}\\n\"\n",
        "        for rowno in range(3):\n",
        "            date = str(rnd(2015,2020))+ '-' + str(rnd(1,12))+'-'+str(rnd(1,25))\n",
        "            writefile.write(data.format(rnd(10000,99999),date,fee[1]))\n",
        "\n",
        "\n",
        "genFiles(memReg,exReg)"
      ],
      "metadata": {
        "id": "l2l0PJDi1nap"
      },
      "execution_count": null,
      "outputs": []
    },
    {
      "cell_type": "code",
      "source": [
        "'''\n",
        "The two arguments for this function are the files:\n",
        "    - currentMem: File containing list of current members\n",
        "    - exMem: File containing list of old members\n",
        "    \n",
        "    This function should remove all rows from currentMem containing 'no' \n",
        "    in the 'Active' column and appends them to exMem.\n",
        "    '''\n",
        "def cleanFiles(currentMem, exMem):\n",
        "       with open(currentMem,'r+') as writefiles: \n",
        "        with open(exMem,'a+') as appendfiles:\n",
        "            \n",
        "            writefiles.seek(0)\n",
        "            Members = writefiles.readlines()\n",
        "            \n",
        "            header = Members[0]\n",
        "            Members.pop(0) \n",
        "            no_en_lista = []\n",
        "            for member in Members:\n",
        "             if 'no' in member:\n",
        "               no_en_lista.append(member)\n",
        "\n",
        "            #inactive = [member for member in members if ('no' in member)] #used on the solution proposed\n",
        "            \n",
        "            writefiles.seek(0) \n",
        "            writefiles.write(header)\n",
        "            for member in Members:\n",
        "                if (member in no_en_lista):\n",
        "                    appendfiles.write(member)\n",
        "                else:\n",
        "                    writefiles.write(member)      \n",
        "            writefiles.truncate() #used on the solution proposed\n",
        "\n",
        "memReg = 'members.txt'\n",
        "exReg = 'inactive.txt'\n",
        "cleanFiles(memReg,exReg)\n",
        "\n",
        "\n",
        "headers = \"Membership No  Date Joined  Active  \\n\"\n",
        "with open(memReg,'r') as readFile:\n",
        "    print(\"Active Members: \\n\\n\")\n",
        "    print(readFile.read())\n",
        "    \n",
        "with open(exReg,'r') as readFile:\n",
        "    print(\"Inactive Members: \\n\\n\")\n",
        "    print(readFile.read())"
      ],
      "metadata": {
        "colab": {
          "base_uri": "https://localhost:8080/"
        },
        "id": "ksTWtz1l11cA",
        "outputId": "9bcd736d-70a1-4999-c9ff-bfadc2182b7f"
      },
      "execution_count": null,
      "outputs": [
        {
          "output_type": "stream",
          "name": "stdout",
          "text": [
            "Active Members: \n",
            "\n",
            "\n",
            "Membership No  Date Joined  Active  \n",
            "    39541      2017-5-14    yes   \n",
            "    99636      2018-3-8     yes   \n",
            "    54246      2018-6-7     yes   \n",
            "    45200      2020-7-11    yes   \n",
            "    69066      2020-10-10   yes   \n",
            "    44013      2020-8-22    yes   \n",
            "    27105      2017-9-13    yes   \n",
            "    40933      2019-10-22   yes   \n",
            "    80776      2015-5-8     yes   \n",
            "    80057      2017-3-14    yes   \n",
            "    45200      2020-7-11    yes   \n",
            "    69066      2020-10-10   yes   \n",
            "    44013      2020-8-22    yes   \n",
            "    27105      2017-9-13    yes   \n",
            "    40933      2019-10-22   yes   \n",
            "    80776      2015-5-8     yes   \n",
            "    80057      2017-3-14    yes   \n",
            "\n",
            "Inactive Members: \n",
            "\n",
            "\n",
            "Membership No  Date Joined  Active  \n",
            "    41009      2020-9-17    no    \n",
            "    66032      2019-1-24    no    \n",
            "    92078      2018-7-21    no    \n",
            "    28102      2019-10-6    no    \n",
            "    50354      2016-2-12    no    \n",
            "    20320      2017-4-5     no    \n",
            "    12967      2015-8-10    no    \n",
            "    30994      2019-1-17    no    \n",
            "    14477      2020-7-15    no    \n",
            "    43932      2015-11-25   no    \n",
            "    13082      2017-2-12    no    \n",
            "    62690      2018-11-3    no    \n",
            "    35962      2015-2-25    no    \n",
            "    13082      2017-2-12    no    \n",
            "    62690      2018-11-3    no    \n",
            "    35962      2015-2-25    no    \n",
            "\n"
          ]
        }
      ]
    },
    {
      "cell_type": "code",
      "source": [
        "#The code cell below is to verify your solution. Please do not modify the code and run it to test your implementation of cleanFiles.\n",
        "def testMsg(passed):\n",
        "    if passed:\n",
        "       return 'Test Passed'\n",
        "    else :\n",
        "       return 'Test Failed'\n",
        "\n",
        "testWrite = \"testWrite.txt\"\n",
        "testAppend = \"testAppend.txt\" \n",
        "passed = True\n",
        "\n",
        "genFiles(testWrite,testAppend)\n",
        "\n",
        "with open(testWrite,'r') as file:\n",
        "    ogWrite = file.readlines()\n",
        "\n",
        "with open(testAppend,'r') as file:\n",
        "    ogAppend = file.readlines()\n",
        "\n",
        "try:\n",
        "    cleanFiles(testWrite,testAppend)\n",
        "except:\n",
        "    print('Error')\n",
        "\n",
        "with open(testWrite,'r') as file:\n",
        "    clWrite = file.readlines()\n",
        "\n",
        "with open(testAppend,'r') as file:\n",
        "    clAppend = file.readlines()\n",
        "        \n",
        "# checking if total no of rows is same, including headers\n",
        "\n",
        "if (len(ogWrite) + len(ogAppend) != len(clWrite) + len(clAppend)):\n",
        "    print(\"The number of rows do not add up. Make sure your final files have the same header and format.\")\n",
        "    passed = False\n",
        "    \n",
        "for line in clWrite:\n",
        "    if  'no' in line:\n",
        "        passed = False\n",
        "        print(\"Inactive members in file\")\n",
        "        break\n",
        "    else:\n",
        "        if line not in ogWrite:\n",
        "            print(\"Data in file does not match original file\")\n",
        "            passed = False\n",
        "print (\"{}\".format(testMsg(passed)))"
      ],
      "metadata": {
        "colab": {
          "base_uri": "https://localhost:8080/"
        },
        "id": "IZ2MOjTp2Cv2",
        "outputId": "29163aca-4308-4ea0-b6b6-ddbd22b56b51"
      },
      "execution_count": null,
      "outputs": [
        {
          "output_type": "stream",
          "name": "stdout",
          "text": [
            "Test Passed\n"
          ]
        }
      ]
    },
    {
      "cell_type": "markdown",
      "source": [
        "**Exercise 1: Pandas: DataFrame and Series**"
      ],
      "metadata": {
        "id": "3hxNKSaB3Qyb"
      }
    },
    {
      "cell_type": "code",
      "source": [
        "import pandas as pd"
      ],
      "metadata": {
        "id": "piMR0EuD3TfP"
      },
      "execution_count": null,
      "outputs": []
    }
  ]
}