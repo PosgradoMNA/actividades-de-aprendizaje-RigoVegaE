{
  "nbformat": 4,
  "nbformat_minor": 0,
  "metadata": {
    "colab": {
      "provenance": [],
      "authorship_tag": "ABX9TyMfLEVpJeiC4pRPqwy2lFEN",
      "include_colab_link": true
    },
    "kernelspec": {
      "name": "python3",
      "display_name": "Python 3"
    },
    "language_info": {
      "name": "python"
    }
  },
  "cells": [
    {
      "cell_type": "markdown",
      "metadata": {
        "id": "view-in-github",
        "colab_type": "text"
      },
      "source": [
        "<a href=\"https://colab.research.google.com/github/PosgradoMNA/actividades-de-aprendizaje-RigobertoVega/blob/main/Modulo3_PythonProgramming.ipynb\" target=\"_parent\"><img src=\"https://colab.research.google.com/assets/colab-badge.svg\" alt=\"Open In Colab\"/></a>"
      ]
    },
    {
      "cell_type": "markdown",
      "source": [
        "**Conditions and Branching**\n"
      ],
      "metadata": {
        "id": "yWf569UVxJ8u"
      }
    },
    {
      "cell_type": "markdown",
      "source": [
        "**Conditions**\n",
        "Comparasion operations compare some values or operand, then, based on some condicion they take a decision and produce a boolean state (True or False)"
      ],
      "metadata": {
        "id": "Kym-qvqxzko4"
      }
    },
    {
      "cell_type": "code",
      "source": [
        "#here we can test with the operatior \"==\" if the value assigned to a would be equal to 7\n",
        "a=6\n",
        "a==7"
      ],
      "metadata": {
        "colab": {
          "base_uri": "https://localhost:8080/"
        },
        "id": "bWpqi-YIxhfh",
        "outputId": "ad2d39e2-eef6-471f-9c62-fa22f437f8d7"
      },
      "execution_count": 1,
      "outputs": [
        {
          "output_type": "execute_result",
          "data": {
            "text/plain": [
              "False"
            ]
          },
          "metadata": {},
          "execution_count": 1
        }
      ]
    },
    {
      "cell_type": "code",
      "source": [
        "#here we can test with the operatior \">\" if the value assigned to a would be bigger to 7\n",
        "a=6\n",
        "a>5"
      ],
      "metadata": {
        "colab": {
          "base_uri": "https://localhost:8080/"
        },
        "id": "u8M29967x5EN",
        "outputId": "f25ba318-babb-4689-bf7e-a6fade914e5e"
      },
      "execution_count": 2,
      "outputs": [
        {
          "output_type": "execute_result",
          "data": {
            "text/plain": [
              "True"
            ]
          },
          "metadata": {},
          "execution_count": 2
        }
      ]
    },
    {
      "cell_type": "code",
      "source": [
        "#here we can test with the operatior \"<\" if the value assigned to a would be smaller to 7\n",
        "a=6\n",
        "a<5"
      ],
      "metadata": {
        "colab": {
          "base_uri": "https://localhost:8080/"
        },
        "id": "569Mhupry-s0",
        "outputId": "3f162711-1233-412b-fcb9-58a62a216c99"
      },
      "execution_count": 3,
      "outputs": [
        {
          "output_type": "execute_result",
          "data": {
            "text/plain": [
              "False"
            ]
          },
          "metadata": {},
          "execution_count": 3
        }
      ]
    },
    {
      "cell_type": "code",
      "source": [
        "#here we can test with the operatior \"!=\" if the value assigned to a would be different to 7\n",
        "a=6\n",
        "a!=7"
      ],
      "metadata": {
        "colab": {
          "base_uri": "https://localhost:8080/"
        },
        "id": "CyvKzfSTzYd1",
        "outputId": "deadad0d-e8c7-419b-84cf-ba74f1cc028c"
      },
      "execution_count": 4,
      "outputs": [
        {
          "output_type": "execute_result",
          "data": {
            "text/plain": [
              "True"
            ]
          },
          "metadata": {},
          "execution_count": 4
        }
      ]
    },
    {
      "cell_type": "markdown",
      "source": [
        "**Branching**\n",
        "Branching allow us to run different statements for a different input. Could be like an If statement as a locked room, this means if the statment is true, you can enter the room or you can run the program, if not you will skip the program"
      ],
      "metadata": {
        "id": "y4JZXO47zhft"
      }
    },
    {
      "cell_type": "code",
      "source": [
        "#here the example explains if the individual is above 18 years old, he can enter to the place, if not he would no be allowed to enter\n",
        "individual = 18\n",
        "if individual > 18:\n",
        "  print(\"you can enter\")\n",
        "print(\"move on\")"
      ],
      "metadata": {
        "colab": {
          "base_uri": "https://localhost:8080/"
        },
        "id": "s08h5-cNz_Hj",
        "outputId": "55f4a34f-5ac0-4538-8a3f-e41df4eef927"
      },
      "execution_count": 12,
      "outputs": [
        {
          "output_type": "stream",
          "name": "stdout",
          "text": [
            "move on\n"
          ]
        }
      ]
    },
    {
      "cell_type": "code",
      "source": [
        "#here using the same example before, we just ad the function else, where it states that if the condition is not met in the If funcition the program will skip to the program in the else funciton to be executed\n",
        "if individual > 18:\n",
        "  print(\"you can enter\")\n",
        "else:\n",
        " print(\"GO SEE BLUE CLUES KID!!!\")\n",
        "print(\"move on\")"
      ],
      "metadata": {
        "colab": {
          "base_uri": "https://localhost:8080/"
        },
        "id": "6CXwC_vN0ve4",
        "outputId": "d5a92b27-f7a4-468d-b1f0-8239a21c1da7"
      },
      "execution_count": 10,
      "outputs": [
        {
          "output_type": "stream",
          "name": "stdout",
          "text": [
            "GO SEE BLUE CLUES KID!!!\n",
            "move on\n"
          ]
        }
      ]
    },
    {
      "cell_type": "code",
      "source": [
        "#elif statement short for else if, allow us to check the additional conditions\n",
        "#here using again the same example, we will check with an extra condition if the age is equal to 18, the individual will able to see Pink Floyd!\n",
        "if individual > 18:\n",
        "  print(\"you can enter\")\n",
        "elif(individual==18):\n",
        "  print(\"Go see pink floyd\")\n",
        "else:\n",
        " print(\"GO SEE BLUE CLUES KID!!!\")\n",
        "print(\"move on\")"
      ],
      "metadata": {
        "colab": {
          "base_uri": "https://localhost:8080/"
        },
        "id": "NDVXuXEr1oZp",
        "outputId": "237e5e92-e95a-429f-af84-e2773656f695"
      },
      "execution_count": 13,
      "outputs": [
        {
          "output_type": "stream",
          "name": "stdout",
          "text": [
            "Go see pink floyd\n",
            "move on\n"
          ]
        }
      ]
    },
    {
      "cell_type": "markdown",
      "source": [
        "**Logic Operators**\n",
        "Logic operations take boolean values and  produce a totally different boolean values. Boolean Logic!!"
      ],
      "metadata": {
        "id": "wgvoZzgS2xVy"
      }
    },
    {
      "cell_type": "code",
      "source": [
        "#Not operator, this would change the value with the oposite True to False, False to True\n",
        "not(True) #False\n",
        "not(False) #True"
      ],
      "metadata": {
        "colab": {
          "base_uri": "https://localhost:8080/"
        },
        "id": "m7psJzf03BZf",
        "outputId": "f5862d01-2790-40a8-85c3-5920d7c540b3"
      },
      "execution_count": 15,
      "outputs": [
        {
          "output_type": "execute_result",
          "data": {
            "text/plain": [
              "True"
            ]
          },
          "metadata": {},
          "execution_count": 15
        }
      ]
    },
    {
      "cell_type": "code",
      "source": [
        "#Or, this is a funciton which are a logic boolean operation, basically if there is a true, the results will be always true, we just need to false\n",
        "OR1 = True\n",
        "OR2 = False\n",
        "#I will be using Not to change the values\n",
        "not(OR1) or OR2 #False\n",
        "not(OR1) or not(OR2) #True\n",
        "OR1 or OR2 #True\n",
        "OR1 or not(OR2) #True\n",
        "#here we test the \"or\" condition into an if function, we can see that we need the album to be released before 1980 OR later than 1989 to get into the first If statement, if this is not met, we will enter to else statement\n",
        "album_year = 1990\n",
        "if(album_year < 1980) or (album_year > 1989):\n",
        "  print(\"The album was made in the 70's or 90's\")\n",
        "else:\n",
        "  print(\"The album was made in the 1980's\")"
      ],
      "metadata": {
        "colab": {
          "base_uri": "https://localhost:8080/"
        },
        "id": "aQGuCtPg3Rc-",
        "outputId": "b4643301-80c7-4270-e8a0-8bc52d83cdd1"
      },
      "execution_count": 20,
      "outputs": [
        {
          "output_type": "stream",
          "name": "stdout",
          "text": [
            "The album was made in the 70's or 90's\n"
          ]
        }
      ]
    },
    {
      "cell_type": "code",
      "source": [
        "#AND, this is a funciton which are a logic boolean operation, basically you will neeed to two true values to get a True, if not will be always true, we just need to false\n",
        "AND1 = True\n",
        "AND2 = False\n",
        "#I will be using Not to change the values\n",
        "not(AND1) and AND2 #False\n",
        "not(AND1) and not(AND2) #True\n",
        "AND1 and AND2 #True\n",
        "AND1 and not(AND2) #True\n",
        "#here we test the \"and\" condition into an If function, we can see that we need the album to be after 1979 AND before than 1990 to get into the first If statement, if this is not met, we will enter to else statement\n",
        "album_year = 1983\n",
        "if(album_year > 1979) and (album_year < 1990):\n",
        "  print(\"The album was made in the 80's\")\n",
        "else:\n",
        "  print(\"The album was made before 80's or after 90's\")"
      ],
      "metadata": {
        "colab": {
          "base_uri": "https://localhost:8080/"
        },
        "id": "zmdDlSaN35aQ",
        "outputId": "caf6a70a-2eec-463d-9810-2bc7c86594ef"
      },
      "execution_count": 25,
      "outputs": [
        {
          "output_type": "stream",
          "name": "stdout",
          "text": [
            "The album was made in the 80's\n"
          ]
        }
      ]
    },
    {
      "cell_type": "markdown",
      "source": [
        "**Loops**\n"
      ],
      "metadata": {
        "id": "aTSmyqDbHW1K"
      }
    },
    {
      "cell_type": "markdown",
      "source": [
        "Range Function, this funcion outputs an ordered sequence as a list \"i\", if the input is a positive integer, the output will be a sequence."
      ],
      "metadata": {
        "id": "KaoSK_M1HeFh"
      }
    },
    {
      "cell_type": "code",
      "source": [
        "#Range\n",
        "range(10,15) # 10,11,12,13,14"
      ],
      "metadata": {
        "colab": {
          "base_uri": "https://localhost:8080/"
        },
        "id": "5vNY7n-LIkGa",
        "outputId": "76885ae4-4a3d-4bfa-a5b7-5079a4ba37c5"
      },
      "execution_count": 2,
      "outputs": [
        {
          "output_type": "stream",
          "name": "stdout",
          "text": [
            "range(10, 15)\n"
          ]
        }
      ]
    },
    {
      "cell_type": "markdown",
      "source": [
        "For Loops\n",
        "For loops are one time execution by loop depending on the range programmed, every time they enter to the a new loop the program inside must execute and it will end until the range is over."
      ],
      "metadata": {
        "id": "Tect5HAlI23u"
      }
    },
    {
      "cell_type": "code",
      "source": [
        "#example, here we will be putting the colors in the list white every time the for loop executes\n",
        "squares = [\"red\",\"yellow\",\"green\",\"purple\",\"blue\"]\n",
        "print(squares)\n",
        "for i in range(0,5):\n",
        "  squares[i]=\"white\"\n",
        "  print(squares)\n",
        "print(squares)\n"
      ],
      "metadata": {
        "colab": {
          "base_uri": "https://localhost:8080/"
        },
        "id": "aRAr4IRxJenq",
        "outputId": "cac93380-5ea9-410e-9de0-156f8bf934a9"
      },
      "execution_count": 3,
      "outputs": [
        {
          "output_type": "stream",
          "name": "stdout",
          "text": [
            "['red', 'yellow', 'green', 'purple', 'blue']\n",
            "['white', 'yellow', 'green', 'purple', 'blue']\n",
            "['white', 'white', 'green', 'purple', 'blue']\n",
            "['white', 'white', 'white', 'purple', 'blue']\n",
            "['white', 'white', 'white', 'white', 'blue']\n",
            "['white', 'white', 'white', 'white', 'white']\n",
            "['white', 'white', 'white', 'white', 'white']\n"
          ]
        }
      ]
    },
    {
      "cell_type": "code",
      "source": [
        "#example, here we will be putting the colors in the list white every time the for loop executes\n",
        "#here we can also give the list values to the variables used in the loop, here the variable \"i\" will be getting the index and the vairable square will be having the list values, but will be changing during the loop progress\n",
        "squares = [\"red\",\"yellow\",\"green\"]\n",
        "for i, square in enumerate(squares):\n",
        "  square\n",
        "  i\n",
        "  print(i)\n",
        "  print(square)\n"
      ],
      "metadata": {
        "colab": {
          "base_uri": "https://localhost:8080/"
        },
        "id": "Fo-N2A6LK2iY",
        "outputId": "6b91bad3-76fc-494a-8d0d-c6e3f0fe0604"
      },
      "execution_count": 6,
      "outputs": [
        {
          "output_type": "stream",
          "name": "stdout",
          "text": [
            "0\n",
            "red\n",
            "1\n",
            "yellow\n",
            "2\n",
            "green\n"
          ]
        }
      ]
    },
    {
      "cell_type": "markdown",
      "source": [
        "While Loops\n",
        "similar to for loops they execute on interations, but the while loop does not have a range defined, while loop work until a condition meets and at that time the loop will be end its job"
      ],
      "metadata": {
        "id": "cdLzaqzAMGXQ"
      }
    },
    {
      "cell_type": "code",
      "source": [
        "#example\n",
        "#here we use the while loop to place the values on the list \"squares\" on the new list \"newSquares\", the while loop will be executing until a value on the first list are not equal to \"orange\" so we should have a 2 instances loop in this program\n",
        "squares = [\"orange\",\"orange\",\"purple\",\"blue\"]\n",
        "newSquares = []\n",
        "i = 0\n",
        "while(squares[i]=='orange'):\n",
        "  newSquares.append(squares[i])\n",
        "  i+=1\n",
        "\n",
        "print(newSquares, \",\", i) #['orange', 'orange'] , 2"
      ],
      "metadata": {
        "colab": {
          "base_uri": "https://localhost:8080/"
        },
        "id": "lIP100xLMdhm",
        "outputId": "e355c4f7-abdd-4bac-e45e-310a1ad05d65"
      },
      "execution_count": 13,
      "outputs": [
        {
          "output_type": "stream",
          "name": "stdout",
          "text": [
            "['orange', 'orange'] , 2\n"
          ]
        }
      ]
    },
    {
      "cell_type": "markdown",
      "source": [
        "**Functions**\n",
        "Functions are used or my understading as an extra code which could be used or executed in any part of the main code to run an specified task and have a desire output. Very helpful to avoid writing the innecesary code repeatedly. They have inputs and they will produce an output depending on the code you place inside"
      ],
      "metadata": {
        "id": "mygs8-OyYOGz"
      }
    },
    {
      "cell_type": "code",
      "source": [
        "#Builtin funcitons these are functions already in the python libraries\n",
        "len() #funciton used to obtain the length on list, tuple, etc\n",
        "sum() #function used to sum the numerical elements inside sets, lists, etc\n",
        "sorted() #used to organice the values in a ordered way"
      ],
      "metadata": {
        "id": "9RBtxTWiYnwL"
      },
      "execution_count": null,
      "outputs": []
    },
    {
      "cell_type": "code",
      "source": [
        "#Making Functions\n",
        "#here we use the type the keyword \"def\", this way python know we are creating a function which we want to excecute a sum, we will give the input variable \"a\" and the funciton will be sum the values plus 1, and the result will be storaged with another variable called b\n",
        "def add(a):\n",
        "  \"\"\"\n",
        "  This is the documentation string, this is a good practice for own made functions to documentate what is your funciton going to do every time its called\n",
        "  add 1 to a \n",
        "  \"\"\"\n",
        "  b = a + 1\n",
        "  return b\n",
        "print(add(2)) # this will be return a value 3\n",
        "print(add(4)) # this will be return a value 5\n",
        "print(add(23)) # this will be return a value 24\n",
        "#here will be calling the function to be storage in a variable and called again to show the flexibility of using funcionts\n",
        "c = add(3) \n",
        "print(c) # 4\n",
        "d = c + add(56)\n",
        "print(d) # 61\n",
        "#functions can have multiple parameters, and we can use same variables as other functions because they are separates codes, here for example we will multiplying 2 variables and we will be using a and b and this will no cause an error\n",
        "def mult(a,b):\n",
        "  \"\"\"\n",
        "  multiply a per b\n",
        "  \"\"\"\n",
        "  c = a * b\n",
        "  return c\n",
        "print(mult(2,1)) # this will be return a value 2\n",
        "print(mult(4,5)) # this will be return a value 20\n",
        "print(mult(4,16.4)) # this will be return a value 65.6\n",
        "print(mult(4,\"Rigo \")) # this will be return a string with 4 \"Rigo\"\n",
        "#pyton does not allow us have empty actions in the funcitons, here we will have a none as a result of calling the funciton, this due there is no a return value to give as an output\n",
        "def noWork():\n",
        "  pass\n",
        "print(noWork()) #None"
      ],
      "metadata": {
        "colab": {
          "base_uri": "https://localhost:8080/"
        },
        "id": "JtwdQRDTZ9ch",
        "outputId": "c7caaec5-85b6-4b37-d71f-b271da4809d6"
      },
      "execution_count": 22,
      "outputs": [
        {
          "output_type": "stream",
          "name": "stdout",
          "text": [
            "3\n",
            "5\n",
            "24\n",
            "4\n",
            "61\n",
            "2\n",
            "20\n",
            "65.6\n",
            "Rigo Rigo Rigo Rigo \n",
            "None\n"
          ]
        }
      ]
    },
    {
      "cell_type": "code",
      "source": [
        "#loops in functions\n",
        "# we can use loops to generate looping actions without being rewrinting the same loop everytime we need them\n",
        "def printStuff(stuff):\n",
        "  \"\"\"\n",
        "  Will be printing the rating value for every album indexed\n",
        "  \"\"\"\n",
        "  for i,s in enumerate(stuff):\n",
        "    print(\"Album\", i, \"Rating is \", s)\n",
        "\n",
        "album_ratings = (10.0,8.5,9.5)\n",
        "printStuff(album_ratings)"
      ],
      "metadata": {
        "colab": {
          "base_uri": "https://localhost:8080/"
        },
        "id": "TqcsO5Wmd7RG",
        "outputId": "5bb76ff1-4408-4be8-f342-3f95604f3276"
      },
      "execution_count": 24,
      "outputs": [
        {
          "output_type": "stream",
          "name": "stdout",
          "text": [
            "Album 0 Rating is  10.0\n",
            "Album 1 Rating is  8.5\n",
            "Album 2 Rating is  9.5\n"
          ]
        }
      ]
    },
    {
      "cell_type": "code",
      "source": [
        "#Collecting arguments\n",
        "def ArtistNames(*names):\n",
        "  \"\"\"\n",
        "  Will be printing the tuples variables elements storaged\n",
        "  \"\"\"\n",
        "\n",
        "  for name in names:\n",
        "    print(name)\n",
        "\n",
        "ArtistNames(\"Michael Jackson\", \"AC/DC\", \"Pink Floyd\")\n",
        "ArtistNames(\"Michael Jackson\", \"AC/DC\")\n",
        "\n",
        "def f(*x):\n",
        "  \"\"\"\n",
        "  Return the total of a variable amount of parameters.\n",
        "  \"\"\"\n",
        "  return sum(x)\n",
        "print(f(5,6,7)) "
      ],
      "metadata": {
        "colab": {
          "base_uri": "https://localhost:8080/"
        },
        "id": "O8S9v9WQhXhZ",
        "outputId": "b2f35e94-9551-4c80-dacc-54a2d029dd03"
      },
      "execution_count": 27,
      "outputs": [
        {
          "output_type": "stream",
          "name": "stdout",
          "text": [
            "Michael Jackson\n",
            "AC/DC\n",
            "Pink Floyd\n",
            "Michael Jackson\n",
            "AC/DC\n",
            "18\n"
          ]
        }
      ]
    },
    {
      "cell_type": "code",
      "source": [
        "#Local Variables and global scope\n",
        "#Here I tried to put that the funcitons have a global scope, so they can be used in any part of the main code, and its variables are independent\n",
        "#What I mean they have independent variables, here we hace 2 variables \"Date\" one inside and other outside, if we print the return of the function and the local vairable both prints will show different results\n",
        "def Thriller():\n",
        "  Date = 1982\n",
        "  return Date\n",
        "\n",
        "Date = 2017\n",
        "print(Thriller()) #1982\n",
        "print(Date) #2017\n",
        "\n",
        "#here are a tricky one, if the variable used inside a function is not previuosly declared in the same function, python will look for a variable in the global scope which have the same tag assigned\n",
        "def ACDC(y):\n",
        "  print(Rating)\n",
        "  return(Rating+y)\n",
        "\n",
        "Rating = 9\n",
        "Z=ACDC(1)\n",
        "print(Rating)\n",
        "print(Z)\n",
        "\n",
        "#Global variables\n",
        "#here we are using a global variable placed inside a ownmade funciton, this means this variable can be used in the global scope of the main code\n",
        "def PinkFloyd():\n",
        "  global ClaimedSales\n",
        "  ClaimedSales = '45 Millions'\n",
        "  return ClaimedSales\n",
        "\n",
        "print(PinkFloyd()) # 45 Millions\n",
        "print(ClaimedSales) #45 Millions"
      ],
      "metadata": {
        "colab": {
          "base_uri": "https://localhost:8080/"
        },
        "id": "DGlrHUvcispd",
        "outputId": "d8f573c0-44e0-4538-bf6e-ce618460b35e"
      },
      "execution_count": 33,
      "outputs": [
        {
          "output_type": "stream",
          "name": "stdout",
          "text": [
            "1982\n",
            "2017\n",
            "9\n",
            "9\n",
            "10\n",
            "45 Millions\n",
            "45 Millions\n"
          ]
        }
      ]
    },
    {
      "cell_type": "markdown",
      "source": [
        "**Objects and Clases**\n",
        "\n",
        "Python has a ton of differents kind of data types likes int, float, list, etc. This are also known as objects.\n",
        "Every Object have a type, internal representation, a set of functions called methods to interact with the data. And these are instances of a particular type.\n",
        "\n",
        "For example every time we create an integer, we create an instance of tyoe integer or in other words int object"
      ],
      "metadata": {
        "id": "jsyikUWMl9v4"
      }
    },
    {
      "cell_type": "markdown",
      "source": [
        "**Methods**\n",
        "\n",
        "Methods are functinos that every instance or object if that class or type provides.\n",
        "\n",
        "It is how I interact with the data in the Object. Methods are functions that interact and change\n",
        "the data attributes, changing or using the data attributes of the object."
      ],
      "metadata": {
        "id": "HIfrd3ewnN9e"
      }
    },
    {
      "cell_type": "code",
      "source": [
        "#Here we use the method sort() to interact with the object list Ratings to sort the elment values\n",
        "Ratings = [10,9,6,5,10,8,9,6,2]\n",
        "Ratings.sort()\n"
      ],
      "metadata": {
        "id": "ryQLL0qmnlnr"
      },
      "execution_count": 34,
      "outputs": []
    },
    {
      "cell_type": "code",
      "source": [
        "#Class, the classses have attributes and methods \n",
        "class Circle: #Define our Class\n",
        "  radius,color=0,\"\"\n",
        "  def __init__(self, radius, color):   #Here \n",
        "    self.radius = radius;            #are the data attributes\n",
        "    self.color = color;              #that will be used to initialize each instance of the class\n",
        "\n",
        "  def add_radius(self,r):             #here is a method which will be used to modify the radius value to an object created under the usage of this class\n",
        "    self.radius = self.radius + r\n",
        "    return (self.radius) \n",
        "  def drawCircle(self):\n",
        "    print(self.radius, \",\", self.color) #Here we create a method to \"draw\" or print the circle parameters\n",
        "\n",
        "#__init__ is a special method or constructor used to initialize data attributes\n",
        "# Parameters radius and color are used to to initialize the radius and color data attributes of the class instance\n",
        "# Self parameter refers to the newly created instance of the class.\n",
        "# Color and radius can be used as constructor body to access the values passed to the class constructor when the object is constructed\n",
        "class Rectangle(object ):\n",
        "  def __init__(self, color, height, width):\n",
        "    self.color = color;\n",
        "    self.height = height;\n",
        "    self.width = width;\n",
        "#Here we create a new circle with the radius 10 and color red\n",
        "RedCircle = Circle(10, 'red')\n",
        "RedCircle.drawCircle()\n",
        "#here we are modifying the radius which was previously created with a radius of ten\n",
        "RedCircle.add_radius(5) \n",
        "RedCircle.drawCircle()\n",
        "\n"
      ],
      "metadata": {
        "colab": {
          "base_uri": "https://localhost:8080/"
        },
        "id": "I4w46gyioBMo",
        "outputId": "71093886-0335-4fca-d74e-01a497521d3d"
      },
      "execution_count": 60,
      "outputs": [
        {
          "output_type": "stream",
          "name": "stdout",
          "text": [
            "10 , red\n",
            "15 , red\n"
          ]
        }
      ]
    }
  ]
}