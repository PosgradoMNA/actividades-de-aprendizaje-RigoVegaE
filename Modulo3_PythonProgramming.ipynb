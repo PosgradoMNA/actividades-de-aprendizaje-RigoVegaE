{
  "nbformat": 4,
  "nbformat_minor": 0,
  "metadata": {
    "colab": {
      "provenance": [],
      "authorship_tag": "ABX9TyM6OIn93nVIir5LS2XSNUxn",
      "include_colab_link": true
    },
    "kernelspec": {
      "name": "python3",
      "display_name": "Python 3"
    },
    "language_info": {
      "name": "python"
    }
  },
  "cells": [
    {
      "cell_type": "markdown",
      "metadata": {
        "id": "view-in-github",
        "colab_type": "text"
      },
      "source": [
        "<a href=\"https://colab.research.google.com/github/PosgradoMNA/actividades-de-aprendizaje-RigobertoVega/blob/main/Modulo3_PythonProgramming.ipynb\" target=\"_parent\"><img src=\"https://colab.research.google.com/assets/colab-badge.svg\" alt=\"Open In Colab\"/></a>"
      ]
    },
    {
      "cell_type": "markdown",
      "source": [
        "**Conditions and Branching**\n"
      ],
      "metadata": {
        "id": "yWf569UVxJ8u"
      }
    },
    {
      "cell_type": "markdown",
      "source": [
        "**Conditions**\n",
        "Comparasion operations compare some values or operand, then, based on some condicion they take a decision and produce a boolean state (True or False)"
      ],
      "metadata": {
        "id": "Kym-qvqxzko4"
      }
    },
    {
      "cell_type": "code",
      "source": [
        "#here we can test with the operatior \"==\" if the value assigned to a would be equal to 7\n",
        "a=6\n",
        "a==7"
      ],
      "metadata": {
        "colab": {
          "base_uri": "https://localhost:8080/"
        },
        "id": "bWpqi-YIxhfh",
        "outputId": "ad2d39e2-eef6-471f-9c62-fa22f437f8d7"
      },
      "execution_count": 1,
      "outputs": [
        {
          "output_type": "execute_result",
          "data": {
            "text/plain": [
              "False"
            ]
          },
          "metadata": {},
          "execution_count": 1
        }
      ]
    },
    {
      "cell_type": "code",
      "source": [
        "#here we can test with the operatior \">\" if the value assigned to a would be bigger to 7\n",
        "a=6\n",
        "a>5"
      ],
      "metadata": {
        "colab": {
          "base_uri": "https://localhost:8080/"
        },
        "id": "u8M29967x5EN",
        "outputId": "f25ba318-babb-4689-bf7e-a6fade914e5e"
      },
      "execution_count": 2,
      "outputs": [
        {
          "output_type": "execute_result",
          "data": {
            "text/plain": [
              "True"
            ]
          },
          "metadata": {},
          "execution_count": 2
        }
      ]
    },
    {
      "cell_type": "code",
      "source": [
        "#here we can test with the operatior \"<\" if the value assigned to a would be smaller to 7\n",
        "a=6\n",
        "a<5"
      ],
      "metadata": {
        "colab": {
          "base_uri": "https://localhost:8080/"
        },
        "id": "569Mhupry-s0",
        "outputId": "3f162711-1233-412b-fcb9-58a62a216c99"
      },
      "execution_count": 3,
      "outputs": [
        {
          "output_type": "execute_result",
          "data": {
            "text/plain": [
              "False"
            ]
          },
          "metadata": {},
          "execution_count": 3
        }
      ]
    },
    {
      "cell_type": "code",
      "source": [
        "#here we can test with the operatior \"!=\" if the value assigned to a would be different to 7\n",
        "a=6\n",
        "a!=7"
      ],
      "metadata": {
        "colab": {
          "base_uri": "https://localhost:8080/"
        },
        "id": "CyvKzfSTzYd1",
        "outputId": "deadad0d-e8c7-419b-84cf-ba74f1cc028c"
      },
      "execution_count": 4,
      "outputs": [
        {
          "output_type": "execute_result",
          "data": {
            "text/plain": [
              "True"
            ]
          },
          "metadata": {},
          "execution_count": 4
        }
      ]
    },
    {
      "cell_type": "markdown",
      "source": [
        "**Branching**\n",
        "Branching allow us to run different statements for a different input. Could be like an If statement as a locked room, this means if the statment is true, you can enter the room or you can run the program, if not you will skip the program"
      ],
      "metadata": {
        "id": "y4JZXO47zhft"
      }
    },
    {
      "cell_type": "code",
      "source": [
        "#here the example explains if the individual is above 18 years old, he can enter to the place, if not he would no be allowed to enter\n",
        "individual = 18\n",
        "if individual > 18:\n",
        "  print(\"you can enter\")\n",
        "print(\"move on\")"
      ],
      "metadata": {
        "colab": {
          "base_uri": "https://localhost:8080/"
        },
        "id": "s08h5-cNz_Hj",
        "outputId": "55f4a34f-5ac0-4538-8a3f-e41df4eef927"
      },
      "execution_count": 12,
      "outputs": [
        {
          "output_type": "stream",
          "name": "stdout",
          "text": [
            "move on\n"
          ]
        }
      ]
    },
    {
      "cell_type": "code",
      "source": [
        "#here using the same example before, we just ad the function else, where it states that if the condition is not met in the If funcition the program will skip to the program in the else funciton to be executed\n",
        "if individual > 18:\n",
        "  print(\"you can enter\")\n",
        "else:\n",
        " print(\"GO SEE BLUE CLUES KID!!!\")\n",
        "print(\"move on\")"
      ],
      "metadata": {
        "colab": {
          "base_uri": "https://localhost:8080/"
        },
        "id": "6CXwC_vN0ve4",
        "outputId": "d5a92b27-f7a4-468d-b1f0-8239a21c1da7"
      },
      "execution_count": 10,
      "outputs": [
        {
          "output_type": "stream",
          "name": "stdout",
          "text": [
            "GO SEE BLUE CLUES KID!!!\n",
            "move on\n"
          ]
        }
      ]
    },
    {
      "cell_type": "code",
      "source": [
        "#elif statement short for else if, allow us to check the additional conditions\n",
        "#here using again the same example, we will check with an extra condition if the age is equal to 18, the individual will able to see Pink Floyd!\n",
        "if individual > 18:\n",
        "  print(\"you can enter\")\n",
        "elif(individual==18):\n",
        "  print(\"Go see pink floyd\")\n",
        "else:\n",
        " print(\"GO SEE BLUE CLUES KID!!!\")\n",
        "print(\"move on\")"
      ],
      "metadata": {
        "colab": {
          "base_uri": "https://localhost:8080/"
        },
        "id": "NDVXuXEr1oZp",
        "outputId": "237e5e92-e95a-429f-af84-e2773656f695"
      },
      "execution_count": 13,
      "outputs": [
        {
          "output_type": "stream",
          "name": "stdout",
          "text": [
            "Go see pink floyd\n",
            "move on\n"
          ]
        }
      ]
    },
    {
      "cell_type": "markdown",
      "source": [
        "**Logic Operators**\n",
        "Logic operations take boolean values and  produce a totally different boolean values. Boolean Logic!!"
      ],
      "metadata": {
        "id": "wgvoZzgS2xVy"
      }
    },
    {
      "cell_type": "code",
      "source": [
        "#Not operator, this would change the value with the oposite True to False, False to True\n",
        "not(True) #False\n",
        "not(False) #True"
      ],
      "metadata": {
        "colab": {
          "base_uri": "https://localhost:8080/"
        },
        "id": "m7psJzf03BZf",
        "outputId": "f5862d01-2790-40a8-85c3-5920d7c540b3"
      },
      "execution_count": 15,
      "outputs": [
        {
          "output_type": "execute_result",
          "data": {
            "text/plain": [
              "True"
            ]
          },
          "metadata": {},
          "execution_count": 15
        }
      ]
    },
    {
      "cell_type": "code",
      "source": [
        "#Or, this is a funciton which are a logic boolean operation, basically if there is a true, the results will be always true, we just need to false\n",
        "OR1 = True\n",
        "OR2 = False\n",
        "#I will be using Not to change the values\n",
        "not(OR1) or OR2 #False\n",
        "not(OR1) or not(OR2) #True\n",
        "OR1 or OR2 #True\n",
        "OR1 or not(OR2) #True\n",
        "#here we test the \"or\" condition into an if function, we can see that we need the album to be released before 1980 OR later than 1989 to get into the first If statement, if this is not met, we will enter to else statement\n",
        "album_year = 1990\n",
        "if(album_year < 1980) or (album_year > 1989):\n",
        "  print(\"The album was made in the 70's or 90's\")\n",
        "else:\n",
        "  print(\"The album was made in the 1980's\")"
      ],
      "metadata": {
        "colab": {
          "base_uri": "https://localhost:8080/"
        },
        "id": "aQGuCtPg3Rc-",
        "outputId": "b4643301-80c7-4270-e8a0-8bc52d83cdd1"
      },
      "execution_count": 20,
      "outputs": [
        {
          "output_type": "stream",
          "name": "stdout",
          "text": [
            "The album was made in the 70's or 90's\n"
          ]
        }
      ]
    },
    {
      "cell_type": "code",
      "source": [
        "#AND, this is a funciton which are a logic boolean operation, basically you will neeed to two true values to get a True, if not will be always true, we just need to false\n",
        "AND1 = True\n",
        "AND2 = False\n",
        "#I will be using Not to change the values\n",
        "not(AND1) and AND2 #False\n",
        "not(AND1) and not(AND2) #True\n",
        "AND1 and AND2 #True\n",
        "AND1 and not(AND2) #True\n",
        "#here we test the \"and\" condition into an If function, we can see that we need the album to be after 1979 AND before than 1990 to get into the first If statement, if this is not met, we will enter to else statement\n",
        "album_year = 1983\n",
        "if(album_year > 1979) and (album_year < 1990):\n",
        "  print(\"The album was made in the 80's\")\n",
        "else:\n",
        "  print(\"The album was made before 80's or after 90's\")"
      ],
      "metadata": {
        "colab": {
          "base_uri": "https://localhost:8080/"
        },
        "id": "zmdDlSaN35aQ",
        "outputId": "caf6a70a-2eec-463d-9810-2bc7c86594ef"
      },
      "execution_count": 25,
      "outputs": [
        {
          "output_type": "stream",
          "name": "stdout",
          "text": [
            "The album was made in the 80's\n"
          ]
        }
      ]
    }
  ]
}