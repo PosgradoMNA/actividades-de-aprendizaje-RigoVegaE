{
  "nbformat": 4,
  "nbformat_minor": 0,
  "metadata": {
    "colab": {
      "provenance": [],
      "authorship_tag": "ABX9TyNZplmKWQaCfJ/X8DAeiuSY",
      "include_colab_link": true
    },
    "kernelspec": {
      "name": "python3",
      "display_name": "Python 3"
    },
    "language_info": {
      "name": "python"
    }
  },
  "cells": [
    {
      "cell_type": "markdown",
      "metadata": {
        "id": "view-in-github",
        "colab_type": "text"
      },
      "source": [
        "<a href=\"https://colab.research.google.com/github/PosgradoMNA/actividades-de-aprendizaje-RigobertoVega/blob/main/Modulo3_PythonProgramming.ipynb\" target=\"_parent\"><img src=\"https://colab.research.google.com/assets/colab-badge.svg\" alt=\"Open In Colab\"/></a>"
      ]
    },
    {
      "cell_type": "markdown",
      "source": [
        "**Conditions and Branching**\n"
      ],
      "metadata": {
        "id": "yWf569UVxJ8u"
      }
    },
    {
      "cell_type": "markdown",
      "source": [
        "**Conditions**\n",
        "Comparasion operations compare some values or operand, then, based on some condicion they take a decision and produce a boolean state (True or False)"
      ],
      "metadata": {
        "id": "Kym-qvqxzko4"
      }
    },
    {
      "cell_type": "code",
      "source": [
        "#here we can test with the operatior \"==\" if the value assigned to a would be equal to 7\n",
        "a=6\n",
        "a==7"
      ],
      "metadata": {
        "colab": {
          "base_uri": "https://localhost:8080/"
        },
        "id": "bWpqi-YIxhfh",
        "outputId": "ad2d39e2-eef6-471f-9c62-fa22f437f8d7"
      },
      "execution_count": 1,
      "outputs": [
        {
          "output_type": "execute_result",
          "data": {
            "text/plain": [
              "False"
            ]
          },
          "metadata": {},
          "execution_count": 1
        }
      ]
    },
    {
      "cell_type": "code",
      "source": [
        "#here we can test with the operatior \">\" if the value assigned to a would be bigger to 7\n",
        "a=6\n",
        "a>5"
      ],
      "metadata": {
        "colab": {
          "base_uri": "https://localhost:8080/"
        },
        "id": "u8M29967x5EN",
        "outputId": "f25ba318-babb-4689-bf7e-a6fade914e5e"
      },
      "execution_count": 2,
      "outputs": [
        {
          "output_type": "execute_result",
          "data": {
            "text/plain": [
              "True"
            ]
          },
          "metadata": {},
          "execution_count": 2
        }
      ]
    },
    {
      "cell_type": "code",
      "source": [
        "#here we can test with the operatior \"<\" if the value assigned to a would be smaller to 7\n",
        "a=6\n",
        "a<5"
      ],
      "metadata": {
        "colab": {
          "base_uri": "https://localhost:8080/"
        },
        "id": "569Mhupry-s0",
        "outputId": "3f162711-1233-412b-fcb9-58a62a216c99"
      },
      "execution_count": 3,
      "outputs": [
        {
          "output_type": "execute_result",
          "data": {
            "text/plain": [
              "False"
            ]
          },
          "metadata": {},
          "execution_count": 3
        }
      ]
    },
    {
      "cell_type": "code",
      "source": [
        "#here we can test with the operatior \"!=\" if the value assigned to a would be different to 7\n",
        "a=6\n",
        "a!=7"
      ],
      "metadata": {
        "colab": {
          "base_uri": "https://localhost:8080/"
        },
        "id": "CyvKzfSTzYd1",
        "outputId": "deadad0d-e8c7-419b-84cf-ba74f1cc028c"
      },
      "execution_count": 4,
      "outputs": [
        {
          "output_type": "execute_result",
          "data": {
            "text/plain": [
              "True"
            ]
          },
          "metadata": {},
          "execution_count": 4
        }
      ]
    },
    {
      "cell_type": "markdown",
      "source": [
        "**Branching**\n",
        "Branching allow us to run different statements for a different input. Could be like an If statement as a locked room, this means if the statment is true, you can enter the room or you can run the program, if not you will skip the program"
      ],
      "metadata": {
        "id": "y4JZXO47zhft"
      }
    },
    {
      "cell_type": "code",
      "source": [
        "#here the example explains if the individual is above 18 years old, he can enter to the place, if not he would no be allowed to enter\n",
        "individual = 17\n",
        "if individual > 18:\n",
        "  print(\"you can enter\")\n",
        "print(\"move on\")"
      ],
      "metadata": {
        "colab": {
          "base_uri": "https://localhost:8080/"
        },
        "id": "s08h5-cNz_Hj",
        "outputId": "5197110a-2d2e-441c-9b40-466af71cdc7e"
      },
      "execution_count": 9,
      "outputs": [
        {
          "output_type": "stream",
          "name": "stdout",
          "text": [
            "move on\n"
          ]
        }
      ]
    },
    {
      "cell_type": "code",
      "source": [
        "#here using the same example before, we just ad the function else, where it states that if the condition is not met in the If funcition the program will skip to the program in the else funciton to be executed\n",
        "if individual > 18:\n",
        "  print(\"you can enter\")\n",
        "else:\n",
        " print(\"GO SEE BLUE CLUES KID!!!\")\n",
        "print(\"move on\")"
      ],
      "metadata": {
        "colab": {
          "base_uri": "https://localhost:8080/"
        },
        "id": "6CXwC_vN0ve4",
        "outputId": "d5a92b27-f7a4-468d-b1f0-8239a21c1da7"
      },
      "execution_count": 10,
      "outputs": [
        {
          "output_type": "stream",
          "name": "stdout",
          "text": [
            "GO SEE BLUE CLUES KID!!!\n",
            "move on\n"
          ]
        }
      ]
    },
    {
      "cell_type": "code",
      "source": [],
      "metadata": {
        "id": "NDVXuXEr1oZp"
      },
      "execution_count": null,
      "outputs": []
    }
  ]
}