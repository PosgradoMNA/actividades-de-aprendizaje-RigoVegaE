{
  "nbformat": 4,
  "nbformat_minor": 0,
  "metadata": {
    "colab": {
      "provenance": [],
      "authorship_tag": "ABX9TyOiHXrZDcgAPelWD5vJXyMS",
      "include_colab_link": true
    },
    "kernelspec": {
      "name": "python3",
      "display_name": "Python 3"
    },
    "language_info": {
      "name": "python"
    }
  },
  "cells": [
    {
      "cell_type": "markdown",
      "metadata": {
        "id": "view-in-github",
        "colab_type": "text"
      },
      "source": [
        "<a href=\"https://colab.research.google.com/github/PosgradoMNA/actividades-de-aprendizaje-RigobertoVega/blob/main/Modulo3_PythonProgramming.ipynb\" target=\"_parent\"><img src=\"https://colab.research.google.com/assets/colab-badge.svg\" alt=\"Open In Colab\"/></a>"
      ]
    },
    {
      "cell_type": "markdown",
      "source": [
        "**Conditions and Branching**\n"
      ],
      "metadata": {
        "id": "yWf569UVxJ8u"
      }
    },
    {
      "cell_type": "markdown",
      "source": [
        "**Conditions**\n",
        "Comparasion operations compare some values or operand, then, based on some condicion they take a decision and produce a boolean state (True or False)"
      ],
      "metadata": {
        "id": "Kym-qvqxzko4"
      }
    },
    {
      "cell_type": "code",
      "source": [
        "#here we can test with the operatior \"==\" if the value assigned to a would be equal to 7\n",
        "a=6\n",
        "a==7"
      ],
      "metadata": {
        "colab": {
          "base_uri": "https://localhost:8080/"
        },
        "id": "bWpqi-YIxhfh",
        "outputId": "ad2d39e2-eef6-471f-9c62-fa22f437f8d7"
      },
      "execution_count": 1,
      "outputs": [
        {
          "output_type": "execute_result",
          "data": {
            "text/plain": [
              "False"
            ]
          },
          "metadata": {},
          "execution_count": 1
        }
      ]
    },
    {
      "cell_type": "code",
      "source": [
        "#here we can test with the operatior \">\" if the value assigned to a would be bigger to 7\n",
        "a=6\n",
        "a>5"
      ],
      "metadata": {
        "colab": {
          "base_uri": "https://localhost:8080/"
        },
        "id": "u8M29967x5EN",
        "outputId": "f25ba318-babb-4689-bf7e-a6fade914e5e"
      },
      "execution_count": 2,
      "outputs": [
        {
          "output_type": "execute_result",
          "data": {
            "text/plain": [
              "True"
            ]
          },
          "metadata": {},
          "execution_count": 2
        }
      ]
    },
    {
      "cell_type": "code",
      "source": [
        "#here we can test with the operatior \"<\" if the value assigned to a would be smaller to 7\n",
        "a=6\n",
        "a<5"
      ],
      "metadata": {
        "colab": {
          "base_uri": "https://localhost:8080/"
        },
        "id": "569Mhupry-s0",
        "outputId": "3f162711-1233-412b-fcb9-58a62a216c99"
      },
      "execution_count": 3,
      "outputs": [
        {
          "output_type": "execute_result",
          "data": {
            "text/plain": [
              "False"
            ]
          },
          "metadata": {},
          "execution_count": 3
        }
      ]
    },
    {
      "cell_type": "code",
      "source": [
        "#here we can test with the operatior \"!=\" if the value assigned to a would be different to 7\n",
        "a=6\n",
        "a!=7"
      ],
      "metadata": {
        "colab": {
          "base_uri": "https://localhost:8080/"
        },
        "id": "CyvKzfSTzYd1",
        "outputId": "deadad0d-e8c7-419b-84cf-ba74f1cc028c"
      },
      "execution_count": 4,
      "outputs": [
        {
          "output_type": "execute_result",
          "data": {
            "text/plain": [
              "True"
            ]
          },
          "metadata": {},
          "execution_count": 4
        }
      ]
    },
    {
      "cell_type": "markdown",
      "source": [
        "**Branching**\n",
        "Branching allow us to run different statements for a different input. Could be like an If statement as a locked room, this means if the statment is true, you can enter the room or you can run the program, if not you will skip the program"
      ],
      "metadata": {
        "id": "y4JZXO47zhft"
      }
    },
    {
      "cell_type": "code",
      "source": [
        "#here the example explains if the individual is above 18 years old, he can enter to the place, if not he would no be allowed to enter\n",
        "individual = 18\n",
        "if individual > 18:\n",
        "  print(\"you can enter\")\n",
        "print(\"move on\")"
      ],
      "metadata": {
        "colab": {
          "base_uri": "https://localhost:8080/"
        },
        "id": "s08h5-cNz_Hj",
        "outputId": "55f4a34f-5ac0-4538-8a3f-e41df4eef927"
      },
      "execution_count": 12,
      "outputs": [
        {
          "output_type": "stream",
          "name": "stdout",
          "text": [
            "move on\n"
          ]
        }
      ]
    },
    {
      "cell_type": "code",
      "source": [
        "#here using the same example before, we just ad the function else, where it states that if the condition is not met in the If funcition the program will skip to the program in the else funciton to be executed\n",
        "if individual > 18:\n",
        "  print(\"you can enter\")\n",
        "else:\n",
        " print(\"GO SEE BLUE CLUES KID!!!\")\n",
        "print(\"move on\")"
      ],
      "metadata": {
        "colab": {
          "base_uri": "https://localhost:8080/"
        },
        "id": "6CXwC_vN0ve4",
        "outputId": "d5a92b27-f7a4-468d-b1f0-8239a21c1da7"
      },
      "execution_count": 10,
      "outputs": [
        {
          "output_type": "stream",
          "name": "stdout",
          "text": [
            "GO SEE BLUE CLUES KID!!!\n",
            "move on\n"
          ]
        }
      ]
    },
    {
      "cell_type": "code",
      "source": [
        "#elif statement short for else if, allow us to check the additional conditions\n",
        "#here using again the same example, we will check with an extra condition if the age is equal to 18, the individual will able to see Pink Floyd!\n",
        "if individual > 18:\n",
        "  print(\"you can enter\")\n",
        "elif(individual==18):\n",
        "  print(\"Go see pink floyd\")\n",
        "else:\n",
        " print(\"GO SEE BLUE CLUES KID!!!\")\n",
        "print(\"move on\")"
      ],
      "metadata": {
        "colab": {
          "base_uri": "https://localhost:8080/"
        },
        "id": "NDVXuXEr1oZp",
        "outputId": "237e5e92-e95a-429f-af84-e2773656f695"
      },
      "execution_count": 13,
      "outputs": [
        {
          "output_type": "stream",
          "name": "stdout",
          "text": [
            "Go see pink floyd\n",
            "move on\n"
          ]
        }
      ]
    },
    {
      "cell_type": "markdown",
      "source": [
        "**Logic Operators**\n",
        "Logic operations take boolean values and  produce a totally different boolean values. Boolean Logic!!"
      ],
      "metadata": {
        "id": "wgvoZzgS2xVy"
      }
    },
    {
      "cell_type": "code",
      "source": [
        "#Not operator, this would change the value with the oposite True to False, False to True\n",
        "not(True) #False\n",
        "not(False) #True"
      ],
      "metadata": {
        "colab": {
          "base_uri": "https://localhost:8080/"
        },
        "id": "m7psJzf03BZf",
        "outputId": "f5862d01-2790-40a8-85c3-5920d7c540b3"
      },
      "execution_count": 15,
      "outputs": [
        {
          "output_type": "execute_result",
          "data": {
            "text/plain": [
              "True"
            ]
          },
          "metadata": {},
          "execution_count": 15
        }
      ]
    },
    {
      "cell_type": "code",
      "source": [
        "#Or, this is a funciton which are a logic boolean operation, basically if there is a true, the results will be always true, we just need to false\n",
        "OR1 = True\n",
        "OR2 = False\n",
        "#I will be using Not to change the values\n",
        "not(OR1) or OR2 #False\n",
        "not(OR1) or not(OR2) #True\n",
        "OR1 or OR2 #True\n",
        "OR1 or not(OR2) #True\n",
        "#here we test the \"or\" condition into an if function, we can see that we need the album to be released before 1980 OR later than 1989 to get into the first If statement, if this is not met, we will enter to else statement\n",
        "album_year = 1990\n",
        "if(album_year < 1980) or (album_year > 1989):\n",
        "  print(\"The album was made in the 70's or 90's\")\n",
        "else:\n",
        "  print(\"The album was made in the 1980's\")"
      ],
      "metadata": {
        "colab": {
          "base_uri": "https://localhost:8080/"
        },
        "id": "aQGuCtPg3Rc-",
        "outputId": "b4643301-80c7-4270-e8a0-8bc52d83cdd1"
      },
      "execution_count": 20,
      "outputs": [
        {
          "output_type": "stream",
          "name": "stdout",
          "text": [
            "The album was made in the 70's or 90's\n"
          ]
        }
      ]
    },
    {
      "cell_type": "code",
      "source": [
        "#AND, this is a funciton which are a logic boolean operation, basically you will neeed to two true values to get a True, if not will be always true, we just need to false\n",
        "AND1 = True\n",
        "AND2 = False\n",
        "#I will be using Not to change the values\n",
        "not(AND1) and AND2 #False\n",
        "not(AND1) and not(AND2) #True\n",
        "AND1 and AND2 #True\n",
        "AND1 and not(AND2) #True\n",
        "#here we test the \"and\" condition into an If function, we can see that we need the album to be after 1979 AND before than 1990 to get into the first If statement, if this is not met, we will enter to else statement\n",
        "album_year = 1983\n",
        "if(album_year > 1979) and (album_year < 1990):\n",
        "  print(\"The album was made in the 80's\")\n",
        "else:\n",
        "  print(\"The album was made before 80's or after 90's\")"
      ],
      "metadata": {
        "colab": {
          "base_uri": "https://localhost:8080/"
        },
        "id": "zmdDlSaN35aQ",
        "outputId": "caf6a70a-2eec-463d-9810-2bc7c86594ef"
      },
      "execution_count": 25,
      "outputs": [
        {
          "output_type": "stream",
          "name": "stdout",
          "text": [
            "The album was made in the 80's\n"
          ]
        }
      ]
    },
    {
      "cell_type": "markdown",
      "source": [
        "**Loops**\n"
      ],
      "metadata": {
        "id": "aTSmyqDbHW1K"
      }
    },
    {
      "cell_type": "markdown",
      "source": [
        "Range Function, this funcion outputs an ordered sequence as a list \"i\", if the input is a positive integer, the output will be a sequence."
      ],
      "metadata": {
        "id": "KaoSK_M1HeFh"
      }
    },
    {
      "cell_type": "code",
      "source": [
        "#Range\n",
        "range(10,15) # 10,11,12,13,14"
      ],
      "metadata": {
        "colab": {
          "base_uri": "https://localhost:8080/"
        },
        "id": "5vNY7n-LIkGa",
        "outputId": "76885ae4-4a3d-4bfa-a5b7-5079a4ba37c5"
      },
      "execution_count": 2,
      "outputs": [
        {
          "output_type": "stream",
          "name": "stdout",
          "text": [
            "range(10, 15)\n"
          ]
        }
      ]
    },
    {
      "cell_type": "markdown",
      "source": [
        "For Loops\n",
        "For loops are one time execution by loop depending on the range programmed, every time they enter to the a new loop the program inside must execute and it will end until the range is over."
      ],
      "metadata": {
        "id": "Tect5HAlI23u"
      }
    },
    {
      "cell_type": "code",
      "source": [
        "#example, here we will be putting the colors in the list white every time the for loop executes\n",
        "squares = [\"red\",\"yellow\",\"green\",\"purple\",\"blue\"]\n",
        "print(squares)\n",
        "for i in range(0,5):\n",
        "  squares[i]=\"white\"\n",
        "  print(squares)\n",
        "print(squares)\n"
      ],
      "metadata": {
        "colab": {
          "base_uri": "https://localhost:8080/"
        },
        "id": "aRAr4IRxJenq",
        "outputId": "cac93380-5ea9-410e-9de0-156f8bf934a9"
      },
      "execution_count": 3,
      "outputs": [
        {
          "output_type": "stream",
          "name": "stdout",
          "text": [
            "['red', 'yellow', 'green', 'purple', 'blue']\n",
            "['white', 'yellow', 'green', 'purple', 'blue']\n",
            "['white', 'white', 'green', 'purple', 'blue']\n",
            "['white', 'white', 'white', 'purple', 'blue']\n",
            "['white', 'white', 'white', 'white', 'blue']\n",
            "['white', 'white', 'white', 'white', 'white']\n",
            "['white', 'white', 'white', 'white', 'white']\n"
          ]
        }
      ]
    },
    {
      "cell_type": "code",
      "source": [
        "#example, here we will be putting the colors in the list white every time the for loop executes\n",
        "#here we can also give the list values to the variables used in the loop, here the variable \"i\" will be getting the index and the vairable square will be having the list values, but will be changing during the loop progress\n",
        "squares = [\"red\",\"yellow\",\"green\"]\n",
        "for i, square in enumerate(squares):\n",
        "  square\n",
        "  i\n",
        "  print(i)\n",
        "  print(square)\n"
      ],
      "metadata": {
        "colab": {
          "base_uri": "https://localhost:8080/"
        },
        "id": "Fo-N2A6LK2iY",
        "outputId": "6b91bad3-76fc-494a-8d0d-c6e3f0fe0604"
      },
      "execution_count": 6,
      "outputs": [
        {
          "output_type": "stream",
          "name": "stdout",
          "text": [
            "0\n",
            "red\n",
            "1\n",
            "yellow\n",
            "2\n",
            "green\n"
          ]
        }
      ]
    },
    {
      "cell_type": "markdown",
      "source": [
        "While Loops\n",
        "similar to for loops they execute on interations, but the while loop does not have a range defined, while loop work until a condition meets and at that time the loop will be end its job"
      ],
      "metadata": {
        "id": "cdLzaqzAMGXQ"
      }
    },
    {
      "cell_type": "code",
      "source": [
        "#example\n",
        "#here we use the while loop to place the values on the list \"squares\" on the new list \"newSquares\", the while loop will be executing until a value on the first list are not equal to \"orange\" so we should have a 2 instances loop in this program\n",
        "squares = [\"orange\",\"orange\",\"purple\",\"blue\"]\n",
        "newSquares = []\n",
        "i = 0\n",
        "while(squares[i]=='orange'):\n",
        "  newSquares.append(squares[i])\n",
        "  i+=1\n",
        "\n",
        "print(newSquares, \",\", i) #['orange', 'orange'] , 2"
      ],
      "metadata": {
        "colab": {
          "base_uri": "https://localhost:8080/"
        },
        "id": "lIP100xLMdhm",
        "outputId": "e355c4f7-abdd-4bac-e45e-310a1ad05d65"
      },
      "execution_count": 13,
      "outputs": [
        {
          "output_type": "stream",
          "name": "stdout",
          "text": [
            "['orange', 'orange'] , 2\n"
          ]
        }
      ]
    },
    {
      "cell_type": "markdown",
      "source": [
        "**Functions**\n",
        "Functions are used or my understading as an extra code which could be used or executed in any part of the main code to run an specified task and have a desire output. Very helpful to avoid writing the innecesary code repeatedly. They have inputs and they will produce an output depending on the code you place inside"
      ],
      "metadata": {
        "id": "mygs8-OyYOGz"
      }
    },
    {
      "cell_type": "code",
      "source": [
        "#Builtin funcitons these are functions already in the python libraries\n",
        "len() #funciton used to obtain the length on list, tuple, etc\n",
        "sum() #function used to sum the numerical elements inside sets, lists, etc\n",
        "sorted() #used to organice the values in a ordered way"
      ],
      "metadata": {
        "id": "9RBtxTWiYnwL"
      },
      "execution_count": null,
      "outputs": []
    },
    {
      "cell_type": "code",
      "source": [
        "#Making Functions\n",
        "#here we use the type the keyword \"def\", this way python know we are creating a function which we want to excecute a sum, we will give the input variable \"a\" and the funciton will be sum the values plus 1, and the result will be storaged with another variable called b\n",
        "def add(a):\n",
        "  b = a + 1\n",
        "  return b\n",
        "print(add(2)) # this will be return a value 3\n",
        "print(add(4)) # this will be return a value 5\n",
        "print(add(23)) # this will be return a value 24"
      ],
      "metadata": {
        "colab": {
          "base_uri": "https://localhost:8080/"
        },
        "id": "JtwdQRDTZ9ch",
        "outputId": "5228fe24-f816-4a59-b3d4-cf423fc7347a"
      },
      "execution_count": 15,
      "outputs": [
        {
          "output_type": "stream",
          "name": "stdout",
          "text": [
            "3\n",
            "5\n",
            "24\n"
          ]
        }
      ]
    }
  ]
}